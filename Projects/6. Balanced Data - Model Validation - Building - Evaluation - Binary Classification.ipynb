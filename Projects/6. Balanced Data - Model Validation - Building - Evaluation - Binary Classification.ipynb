{
 "cells": [
  {
   "cell_type": "code",
   "execution_count": 1,
   "id": "75b08db1",
   "metadata": {},
   "outputs": [],
   "source": [
    "import pandas as pd\n",
    "import numpy as np\n",
    "\n",
    "import matplotlib.pyplot as plt\n",
    "%matplotlib inline\n",
    "\n",
    "import seaborn as sns\n",
    "sns.set()"
   ]
  },
  {
   "cell_type": "code",
   "execution_count": 2,
   "id": "f46c12c8",
   "metadata": {},
   "outputs": [],
   "source": [
    "# converting it in numerical data - # Countvectorizer, TFIDF\n",
    "\n",
    "from sklearn.feature_extraction.text import CountVectorizer\n",
    "\n",
    "from sklearn.feature_extraction.text import TfidfVectorizer"
   ]
  },
  {
   "cell_type": "code",
   "execution_count": 3,
   "id": "e807ef7a",
   "metadata": {},
   "outputs": [],
   "source": [
    "from sklearn.model_selection import train_test_split, KFold,cross_val_score\n",
    "\n",
    "from sklearn.preprocessing import LabelEncoder\n",
    "\n",
    "from imblearn.over_sampling import SMOTE"
   ]
  },
  {
   "cell_type": "code",
   "execution_count": 4,
   "id": "2dd728f9",
   "metadata": {},
   "outputs": [],
   "source": [
    "# Algorithms\n",
    "\n",
    "from sklearn.linear_model import LogisticRegression\n",
    "\n",
    "from sklearn.tree import DecisionTreeClassifier\n",
    "\n",
    "from sklearn.ensemble import RandomForestClassifier,BaggingClassifier, AdaBoostClassifier, GradientBoostingClassifier\n",
    "\n",
    "from sklearn.ensemble import VotingClassifier\n",
    "\n",
    "import xgboost as xgb\n",
    "\n",
    "import lightgbm as lgb\n",
    "\n",
    "\n",
    "from sklearn.svm import SVC\n",
    "\n",
    "from sklearn.neighbors import KNeighborsClassifier\n",
    "\n",
    "from sklearn.naive_bayes import GaussianNB, MultinomialNB,BernoulliNB"
   ]
  },
  {
   "cell_type": "code",
   "execution_count": 5,
   "id": "83692966",
   "metadata": {},
   "outputs": [],
   "source": [
    "from sklearn.metrics import accuracy_score, confusion_matrix, classification_report, plot_confusion_matrix\n",
    "\n",
    "from sklearn.metrics import precision_score, recall_score,plot_roc_curve, roc_auc_score"
   ]
  },
  {
   "cell_type": "code",
   "execution_count": 6,
   "id": "4a44a975",
   "metadata": {},
   "outputs": [],
   "source": [
    "import warnings\n",
    "warnings.filterwarnings('ignore')"
   ]
  },
  {
   "cell_type": "code",
   "execution_count": null,
   "id": "137b40f1",
   "metadata": {},
   "outputs": [],
   "source": []
  },
  {
   "cell_type": "code",
   "execution_count": 7,
   "id": "c388a4c3",
   "metadata": {},
   "outputs": [
    {
     "data": {
      "text/html": [
       "<div>\n",
       "<style scoped>\n",
       "    .dataframe tbody tr th:only-of-type {\n",
       "        vertical-align: middle;\n",
       "    }\n",
       "\n",
       "    .dataframe tbody tr th {\n",
       "        vertical-align: top;\n",
       "    }\n",
       "\n",
       "    .dataframe thead th {\n",
       "        text-align: right;\n",
       "    }\n",
       "</style>\n",
       "<table border=\"1\" class=\"dataframe\">\n",
       "  <thead>\n",
       "    <tr style=\"text-align: right;\">\n",
       "      <th></th>\n",
       "      <th>title</th>\n",
       "      <th>rating</th>\n",
       "      <th>body</th>\n",
       "      <th>clean_review</th>\n",
       "      <th>af_sentiment</th>\n",
       "      <th>tb_polarity</th>\n",
       "      <th>Bi_Sentiment</th>\n",
       "      <th>Mul_Sentiment</th>\n",
       "    </tr>\n",
       "  </thead>\n",
       "  <tbody>\n",
       "    <tr>\n",
       "      <th>0</th>\n",
       "      <td>Unreliable earphones with high cost</td>\n",
       "      <td>1.0</td>\n",
       "      <td>This  earphones are unreliable, i bought it be...</td>\n",
       "      <td>earphone unreliable bought day meanwhile right...</td>\n",
       "      <td>10.0</td>\n",
       "      <td>0.377</td>\n",
       "      <td>Positive</td>\n",
       "      <td>Positive</td>\n",
       "    </tr>\n",
       "    <tr>\n",
       "      <th>1</th>\n",
       "      <td>Honest review of an edm music lover</td>\n",
       "      <td>3.0</td>\n",
       "      <td>No doubt it has a great bass and to a great ex...</td>\n",
       "      <td>doubt great bass great extent noise cancellati...</td>\n",
       "      <td>0.0</td>\n",
       "      <td>0.061</td>\n",
       "      <td>Positive</td>\n",
       "      <td>Neutral</td>\n",
       "    </tr>\n",
       "    <tr>\n",
       "      <th>2</th>\n",
       "      <td>Really good and durable.</td>\n",
       "      <td>4.0</td>\n",
       "      <td>i bought itfor 999,I purchased it second time,...</td>\n",
       "      <td>bought itfor purchased second time gifted firs...</td>\n",
       "      <td>22.0</td>\n",
       "      <td>0.536</td>\n",
       "      <td>Positive</td>\n",
       "      <td>Positive</td>\n",
       "    </tr>\n",
       "    <tr>\n",
       "      <th>3</th>\n",
       "      <td>A good earphone but with some issues, read thi...</td>\n",
       "      <td>4.0</td>\n",
       "      <td>I'll get straight to the pros and cons of Boat...</td>\n",
       "      <td>get straight pro con boat rockerz pro bluetoot...</td>\n",
       "      <td>34.0</td>\n",
       "      <td>0.134</td>\n",
       "      <td>Positive</td>\n",
       "      <td>Neutral</td>\n",
       "    </tr>\n",
       "    <tr>\n",
       "      <th>4</th>\n",
       "      <td>Charging port not working</td>\n",
       "      <td>1.0</td>\n",
       "      <td>After 11 days, the charging port isn't working...</td>\n",
       "      <td>day charging port working even return wat know...</td>\n",
       "      <td>1.0</td>\n",
       "      <td>0.136</td>\n",
       "      <td>Positive</td>\n",
       "      <td>Neutral</td>\n",
       "    </tr>\n",
       "    <tr>\n",
       "      <th>...</th>\n",
       "      <td>...</td>\n",
       "      <td>...</td>\n",
       "      <td>...</td>\n",
       "      <td>...</td>\n",
       "      <td>...</td>\n",
       "      <td>...</td>\n",
       "      <td>...</td>\n",
       "      <td>...</td>\n",
       "    </tr>\n",
       "    <tr>\n",
       "      <th>4995</th>\n",
       "      <td>Bad -Don't Buy -Cheating on warranty -Product ...</td>\n",
       "      <td>1.0</td>\n",
       "      <td>Product is malfunctioning after 3 months and a...</td>\n",
       "      <td>product malfunctioning month sending back warr...</td>\n",
       "      <td>0.0</td>\n",
       "      <td>0.000</td>\n",
       "      <td>Positive</td>\n",
       "      <td>Neutral</td>\n",
       "    </tr>\n",
       "    <tr>\n",
       "      <th>4996</th>\n",
       "      <td>Awesome!!</td>\n",
       "      <td>5.0</td>\n",
       "      <td>very nice and smoothly working with good quali...</td>\n",
       "      <td>nice smoothly working good quality sound thankyou</td>\n",
       "      <td>8.0</td>\n",
       "      <td>0.525</td>\n",
       "      <td>Positive</td>\n",
       "      <td>Positive</td>\n",
       "    </tr>\n",
       "    <tr>\n",
       "      <th>4997</th>\n",
       "      <td>A quality peice of bluetooth earphones, batter...</td>\n",
       "      <td>4.0</td>\n",
       "      <td>I am really contented with the headphones, rea...</td>\n",
       "      <td>really contented headphone really good sound q...</td>\n",
       "      <td>-2.0</td>\n",
       "      <td>-0.053</td>\n",
       "      <td>Negative</td>\n",
       "      <td>Negative</td>\n",
       "    </tr>\n",
       "    <tr>\n",
       "      <th>4998</th>\n",
       "      <td>An outstanding pair of wireless earphones - at...</td>\n",
       "      <td>5.0</td>\n",
       "      <td>This product's sound quality is impressive. Th...</td>\n",
       "      <td>product sound quality impressive tagline speak...</td>\n",
       "      <td>8.0</td>\n",
       "      <td>0.328</td>\n",
       "      <td>Positive</td>\n",
       "      <td>Positive</td>\n",
       "    </tr>\n",
       "    <tr>\n",
       "      <th>4999</th>\n",
       "      <td>4 out of 5</td>\n",
       "      <td>3.0</td>\n",
       "      <td>The Rubber/Silicon ear protectors and buts are...</td>\n",
       "      <td>rubber silicon ear protector buts little uncom...</td>\n",
       "      <td>1.0</td>\n",
       "      <td>0.004</td>\n",
       "      <td>Positive</td>\n",
       "      <td>Neutral</td>\n",
       "    </tr>\n",
       "  </tbody>\n",
       "</table>\n",
       "<p>5000 rows × 8 columns</p>\n",
       "</div>"
      ],
      "text/plain": [
       "                                                  title  rating  \\\n",
       "0                   Unreliable earphones with high cost     1.0   \n",
       "1                   Honest review of an edm music lover     3.0   \n",
       "2                              Really good and durable.     4.0   \n",
       "3     A good earphone but with some issues, read thi...     4.0   \n",
       "4                             Charging port not working     1.0   \n",
       "...                                                 ...     ...   \n",
       "4995  Bad -Don't Buy -Cheating on warranty -Product ...     1.0   \n",
       "4996                                          Awesome!!     5.0   \n",
       "4997  A quality peice of bluetooth earphones, batter...     4.0   \n",
       "4998  An outstanding pair of wireless earphones - at...     5.0   \n",
       "4999                                         4 out of 5     3.0   \n",
       "\n",
       "                                                   body  \\\n",
       "0     This  earphones are unreliable, i bought it be...   \n",
       "1     No doubt it has a great bass and to a great ex...   \n",
       "2     i bought itfor 999,I purchased it second time,...   \n",
       "3     I'll get straight to the pros and cons of Boat...   \n",
       "4     After 11 days, the charging port isn't working...   \n",
       "...                                                 ...   \n",
       "4995  Product is malfunctioning after 3 months and a...   \n",
       "4996  very nice and smoothly working with good quali...   \n",
       "4997  I am really contented with the headphones, rea...   \n",
       "4998  This product's sound quality is impressive. Th...   \n",
       "4999  The Rubber/Silicon ear protectors and buts are...   \n",
       "\n",
       "                                           clean_review  af_sentiment  \\\n",
       "0     earphone unreliable bought day meanwhile right...          10.0   \n",
       "1     doubt great bass great extent noise cancellati...           0.0   \n",
       "2     bought itfor purchased second time gifted firs...          22.0   \n",
       "3     get straight pro con boat rockerz pro bluetoot...          34.0   \n",
       "4     day charging port working even return wat know...           1.0   \n",
       "...                                                 ...           ...   \n",
       "4995  product malfunctioning month sending back warr...           0.0   \n",
       "4996  nice smoothly working good quality sound thankyou           8.0   \n",
       "4997  really contented headphone really good sound q...          -2.0   \n",
       "4998  product sound quality impressive tagline speak...           8.0   \n",
       "4999  rubber silicon ear protector buts little uncom...           1.0   \n",
       "\n",
       "      tb_polarity Bi_Sentiment Mul_Sentiment  \n",
       "0           0.377     Positive      Positive  \n",
       "1           0.061     Positive       Neutral  \n",
       "2           0.536     Positive      Positive  \n",
       "3           0.134     Positive       Neutral  \n",
       "4           0.136     Positive       Neutral  \n",
       "...           ...          ...           ...  \n",
       "4995        0.000     Positive       Neutral  \n",
       "4996        0.525     Positive      Positive  \n",
       "4997       -0.053     Negative      Negative  \n",
       "4998        0.328     Positive      Positive  \n",
       "4999        0.004     Positive       Neutral  \n",
       "\n",
       "[5000 rows x 8 columns]"
      ]
     },
     "execution_count": 7,
     "metadata": {},
     "output_type": "execute_result"
    }
   ],
   "source": [
    "sentiment = pd.read_csv('Sentiment_data.csv')\n",
    "\n",
    "sentiment"
   ]
  },
  {
   "cell_type": "code",
   "execution_count": null,
   "id": "8214a4bd",
   "metadata": {},
   "outputs": [],
   "source": []
  },
  {
   "cell_type": "code",
   "execution_count": 8,
   "id": "d89bf0c8",
   "metadata": {},
   "outputs": [
    {
     "data": {
      "text/html": [
       "<div>\n",
       "<style scoped>\n",
       "    .dataframe tbody tr th:only-of-type {\n",
       "        vertical-align: middle;\n",
       "    }\n",
       "\n",
       "    .dataframe tbody tr th {\n",
       "        vertical-align: top;\n",
       "    }\n",
       "\n",
       "    .dataframe thead th {\n",
       "        text-align: right;\n",
       "    }\n",
       "</style>\n",
       "<table border=\"1\" class=\"dataframe\">\n",
       "  <thead>\n",
       "    <tr style=\"text-align: right;\">\n",
       "      <th></th>\n",
       "      <th>clean_review</th>\n",
       "      <th>Bi_Sentiment</th>\n",
       "    </tr>\n",
       "  </thead>\n",
       "  <tbody>\n",
       "    <tr>\n",
       "      <th>0</th>\n",
       "      <td>earphone unreliable bought day meanwhile right...</td>\n",
       "      <td>Positive</td>\n",
       "    </tr>\n",
       "    <tr>\n",
       "      <th>1</th>\n",
       "      <td>doubt great bass great extent noise cancellati...</td>\n",
       "      <td>Positive</td>\n",
       "    </tr>\n",
       "    <tr>\n",
       "      <th>2</th>\n",
       "      <td>bought itfor purchased second time gifted firs...</td>\n",
       "      <td>Positive</td>\n",
       "    </tr>\n",
       "  </tbody>\n",
       "</table>\n",
       "</div>"
      ],
      "text/plain": [
       "                                        clean_review Bi_Sentiment\n",
       "0  earphone unreliable bought day meanwhile right...     Positive\n",
       "1  doubt great bass great extent noise cancellati...     Positive\n",
       "2  bought itfor purchased second time gifted firs...     Positive"
      ]
     },
     "execution_count": 8,
     "metadata": {},
     "output_type": "execute_result"
    }
   ],
   "source": [
    "sentiment_binary = sentiment[['clean_review','Bi_Sentiment']]\n",
    "\n",
    "sentiment_binary.head(3)"
   ]
  },
  {
   "cell_type": "code",
   "execution_count": 9,
   "id": "9660d339",
   "metadata": {},
   "outputs": [
    {
     "data": {
      "text/html": [
       "<div>\n",
       "<style scoped>\n",
       "    .dataframe tbody tr th:only-of-type {\n",
       "        vertical-align: middle;\n",
       "    }\n",
       "\n",
       "    .dataframe tbody tr th {\n",
       "        vertical-align: top;\n",
       "    }\n",
       "\n",
       "    .dataframe thead th {\n",
       "        text-align: right;\n",
       "    }\n",
       "</style>\n",
       "<table border=\"1\" class=\"dataframe\">\n",
       "  <thead>\n",
       "    <tr style=\"text-align: right;\">\n",
       "      <th></th>\n",
       "      <th>clean_review</th>\n",
       "      <th>Bi_Sentiment</th>\n",
       "      <th>Labels</th>\n",
       "    </tr>\n",
       "  </thead>\n",
       "  <tbody>\n",
       "    <tr>\n",
       "      <th>0</th>\n",
       "      <td>earphone unreliable bought day meanwhile right...</td>\n",
       "      <td>Positive</td>\n",
       "      <td>1</td>\n",
       "    </tr>\n",
       "    <tr>\n",
       "      <th>1</th>\n",
       "      <td>doubt great bass great extent noise cancellati...</td>\n",
       "      <td>Positive</td>\n",
       "      <td>1</td>\n",
       "    </tr>\n",
       "    <tr>\n",
       "      <th>2</th>\n",
       "      <td>bought itfor purchased second time gifted firs...</td>\n",
       "      <td>Positive</td>\n",
       "      <td>1</td>\n",
       "    </tr>\n",
       "  </tbody>\n",
       "</table>\n",
       "</div>"
      ],
      "text/plain": [
       "                                        clean_review Bi_Sentiment  Labels\n",
       "0  earphone unreliable bought day meanwhile right...     Positive       1\n",
       "1  doubt great bass great extent noise cancellati...     Positive       1\n",
       "2  bought itfor purchased second time gifted firs...     Positive       1"
      ]
     },
     "execution_count": 9,
     "metadata": {},
     "output_type": "execute_result"
    }
   ],
   "source": [
    "label = LabelEncoder()\n",
    "\n",
    "sentiment_binary['Labels'] = label.fit_transform(sentiment_binary['Bi_Sentiment'])\n",
    "\n",
    "sentiment_binary.head(3)"
   ]
  },
  {
   "cell_type": "code",
   "execution_count": null,
   "id": "b76fd4f9",
   "metadata": {},
   "outputs": [],
   "source": []
  },
  {
   "cell_type": "code",
   "execution_count": 10,
   "id": "13b9676d",
   "metadata": {},
   "outputs": [],
   "source": [
    "sentiment_binary['clean_review'] = sentiment_binary['clean_review'].apply(lambda x:str(x))"
   ]
  },
  {
   "cell_type": "code",
   "execution_count": null,
   "id": "01148f87",
   "metadata": {},
   "outputs": [],
   "source": []
  },
  {
   "cell_type": "markdown",
   "id": "f8b7d01c",
   "metadata": {},
   "source": [
    "### TFIDF"
   ]
  },
  {
   "cell_type": "code",
   "execution_count": 11,
   "id": "17a69942",
   "metadata": {},
   "outputs": [],
   "source": [
    "tfidf = TfidfVectorizer()\n",
    "\n",
    "array = tfidf.fit_transform(sentiment_binary['clean_review'].values).toarray()"
   ]
  },
  {
   "cell_type": "code",
   "execution_count": 12,
   "id": "4991f23b",
   "metadata": {},
   "outputs": [
    {
     "data": {
      "text/html": [
       "<div>\n",
       "<style scoped>\n",
       "    .dataframe tbody tr th:only-of-type {\n",
       "        vertical-align: middle;\n",
       "    }\n",
       "\n",
       "    .dataframe tbody tr th {\n",
       "        vertical-align: top;\n",
       "    }\n",
       "\n",
       "    .dataframe thead th {\n",
       "        text-align: right;\n",
       "    }\n",
       "</style>\n",
       "<table border=\"1\" class=\"dataframe\">\n",
       "  <thead>\n",
       "    <tr style=\"text-align: right;\">\n",
       "      <th></th>\n",
       "      <th>aa</th>\n",
       "      <th>aab</th>\n",
       "      <th>aac</th>\n",
       "      <th>aagya</th>\n",
       "      <th>aaj</th>\n",
       "      <th>aaja</th>\n",
       "      <th>aam</th>\n",
       "      <th>aana</th>\n",
       "      <th>aane</th>\n",
       "      <th>aap</th>\n",
       "      <th>...</th>\n",
       "      <th>zip</th>\n",
       "      <th>zipped</th>\n",
       "      <th>zmi</th>\n",
       "      <th>zone</th>\n",
       "      <th>zook</th>\n",
       "      <th>zoom</th>\n",
       "      <th>zoomautomatically</th>\n",
       "      <th>zorin</th>\n",
       "      <th>zthe</th>\n",
       "      <th>zyada</th>\n",
       "    </tr>\n",
       "  </thead>\n",
       "  <tbody>\n",
       "    <tr>\n",
       "      <th>0</th>\n",
       "      <td>0.0</td>\n",
       "      <td>0.0</td>\n",
       "      <td>0.0</td>\n",
       "      <td>0.0</td>\n",
       "      <td>0.0</td>\n",
       "      <td>0.0</td>\n",
       "      <td>0.0</td>\n",
       "      <td>0.0</td>\n",
       "      <td>0.0</td>\n",
       "      <td>0.0</td>\n",
       "      <td>...</td>\n",
       "      <td>0.0</td>\n",
       "      <td>0.0</td>\n",
       "      <td>0.0</td>\n",
       "      <td>0.0</td>\n",
       "      <td>0.0</td>\n",
       "      <td>0.0</td>\n",
       "      <td>0.0</td>\n",
       "      <td>0.0</td>\n",
       "      <td>0.0</td>\n",
       "      <td>0.0</td>\n",
       "    </tr>\n",
       "    <tr>\n",
       "      <th>1</th>\n",
       "      <td>0.0</td>\n",
       "      <td>0.0</td>\n",
       "      <td>0.0</td>\n",
       "      <td>0.0</td>\n",
       "      <td>0.0</td>\n",
       "      <td>0.0</td>\n",
       "      <td>0.0</td>\n",
       "      <td>0.0</td>\n",
       "      <td>0.0</td>\n",
       "      <td>0.0</td>\n",
       "      <td>...</td>\n",
       "      <td>0.0</td>\n",
       "      <td>0.0</td>\n",
       "      <td>0.0</td>\n",
       "      <td>0.0</td>\n",
       "      <td>0.0</td>\n",
       "      <td>0.0</td>\n",
       "      <td>0.0</td>\n",
       "      <td>0.0</td>\n",
       "      <td>0.0</td>\n",
       "      <td>0.0</td>\n",
       "    </tr>\n",
       "    <tr>\n",
       "      <th>2</th>\n",
       "      <td>0.0</td>\n",
       "      <td>0.0</td>\n",
       "      <td>0.0</td>\n",
       "      <td>0.0</td>\n",
       "      <td>0.0</td>\n",
       "      <td>0.0</td>\n",
       "      <td>0.0</td>\n",
       "      <td>0.0</td>\n",
       "      <td>0.0</td>\n",
       "      <td>0.0</td>\n",
       "      <td>...</td>\n",
       "      <td>0.0</td>\n",
       "      <td>0.0</td>\n",
       "      <td>0.0</td>\n",
       "      <td>0.0</td>\n",
       "      <td>0.0</td>\n",
       "      <td>0.0</td>\n",
       "      <td>0.0</td>\n",
       "      <td>0.0</td>\n",
       "      <td>0.0</td>\n",
       "      <td>0.0</td>\n",
       "    </tr>\n",
       "    <tr>\n",
       "      <th>3</th>\n",
       "      <td>0.0</td>\n",
       "      <td>0.0</td>\n",
       "      <td>0.0</td>\n",
       "      <td>0.0</td>\n",
       "      <td>0.0</td>\n",
       "      <td>0.0</td>\n",
       "      <td>0.0</td>\n",
       "      <td>0.0</td>\n",
       "      <td>0.0</td>\n",
       "      <td>0.0</td>\n",
       "      <td>...</td>\n",
       "      <td>0.0</td>\n",
       "      <td>0.0</td>\n",
       "      <td>0.0</td>\n",
       "      <td>0.0</td>\n",
       "      <td>0.0</td>\n",
       "      <td>0.0</td>\n",
       "      <td>0.0</td>\n",
       "      <td>0.0</td>\n",
       "      <td>0.0</td>\n",
       "      <td>0.0</td>\n",
       "    </tr>\n",
       "    <tr>\n",
       "      <th>4</th>\n",
       "      <td>0.0</td>\n",
       "      <td>0.0</td>\n",
       "      <td>0.0</td>\n",
       "      <td>0.0</td>\n",
       "      <td>0.0</td>\n",
       "      <td>0.0</td>\n",
       "      <td>0.0</td>\n",
       "      <td>0.0</td>\n",
       "      <td>0.0</td>\n",
       "      <td>0.0</td>\n",
       "      <td>...</td>\n",
       "      <td>0.0</td>\n",
       "      <td>0.0</td>\n",
       "      <td>0.0</td>\n",
       "      <td>0.0</td>\n",
       "      <td>0.0</td>\n",
       "      <td>0.0</td>\n",
       "      <td>0.0</td>\n",
       "      <td>0.0</td>\n",
       "      <td>0.0</td>\n",
       "      <td>0.0</td>\n",
       "    </tr>\n",
       "    <tr>\n",
       "      <th>...</th>\n",
       "      <td>...</td>\n",
       "      <td>...</td>\n",
       "      <td>...</td>\n",
       "      <td>...</td>\n",
       "      <td>...</td>\n",
       "      <td>...</td>\n",
       "      <td>...</td>\n",
       "      <td>...</td>\n",
       "      <td>...</td>\n",
       "      <td>...</td>\n",
       "      <td>...</td>\n",
       "      <td>...</td>\n",
       "      <td>...</td>\n",
       "      <td>...</td>\n",
       "      <td>...</td>\n",
       "      <td>...</td>\n",
       "      <td>...</td>\n",
       "      <td>...</td>\n",
       "      <td>...</td>\n",
       "      <td>...</td>\n",
       "      <td>...</td>\n",
       "    </tr>\n",
       "    <tr>\n",
       "      <th>4995</th>\n",
       "      <td>0.0</td>\n",
       "      <td>0.0</td>\n",
       "      <td>0.0</td>\n",
       "      <td>0.0</td>\n",
       "      <td>0.0</td>\n",
       "      <td>0.0</td>\n",
       "      <td>0.0</td>\n",
       "      <td>0.0</td>\n",
       "      <td>0.0</td>\n",
       "      <td>0.0</td>\n",
       "      <td>...</td>\n",
       "      <td>0.0</td>\n",
       "      <td>0.0</td>\n",
       "      <td>0.0</td>\n",
       "      <td>0.0</td>\n",
       "      <td>0.0</td>\n",
       "      <td>0.0</td>\n",
       "      <td>0.0</td>\n",
       "      <td>0.0</td>\n",
       "      <td>0.0</td>\n",
       "      <td>0.0</td>\n",
       "    </tr>\n",
       "    <tr>\n",
       "      <th>4996</th>\n",
       "      <td>0.0</td>\n",
       "      <td>0.0</td>\n",
       "      <td>0.0</td>\n",
       "      <td>0.0</td>\n",
       "      <td>0.0</td>\n",
       "      <td>0.0</td>\n",
       "      <td>0.0</td>\n",
       "      <td>0.0</td>\n",
       "      <td>0.0</td>\n",
       "      <td>0.0</td>\n",
       "      <td>...</td>\n",
       "      <td>0.0</td>\n",
       "      <td>0.0</td>\n",
       "      <td>0.0</td>\n",
       "      <td>0.0</td>\n",
       "      <td>0.0</td>\n",
       "      <td>0.0</td>\n",
       "      <td>0.0</td>\n",
       "      <td>0.0</td>\n",
       "      <td>0.0</td>\n",
       "      <td>0.0</td>\n",
       "    </tr>\n",
       "    <tr>\n",
       "      <th>4997</th>\n",
       "      <td>0.0</td>\n",
       "      <td>0.0</td>\n",
       "      <td>0.0</td>\n",
       "      <td>0.0</td>\n",
       "      <td>0.0</td>\n",
       "      <td>0.0</td>\n",
       "      <td>0.0</td>\n",
       "      <td>0.0</td>\n",
       "      <td>0.0</td>\n",
       "      <td>0.0</td>\n",
       "      <td>...</td>\n",
       "      <td>0.0</td>\n",
       "      <td>0.0</td>\n",
       "      <td>0.0</td>\n",
       "      <td>0.0</td>\n",
       "      <td>0.0</td>\n",
       "      <td>0.0</td>\n",
       "      <td>0.0</td>\n",
       "      <td>0.0</td>\n",
       "      <td>0.0</td>\n",
       "      <td>0.0</td>\n",
       "    </tr>\n",
       "    <tr>\n",
       "      <th>4998</th>\n",
       "      <td>0.0</td>\n",
       "      <td>0.0</td>\n",
       "      <td>0.0</td>\n",
       "      <td>0.0</td>\n",
       "      <td>0.0</td>\n",
       "      <td>0.0</td>\n",
       "      <td>0.0</td>\n",
       "      <td>0.0</td>\n",
       "      <td>0.0</td>\n",
       "      <td>0.0</td>\n",
       "      <td>...</td>\n",
       "      <td>0.0</td>\n",
       "      <td>0.0</td>\n",
       "      <td>0.0</td>\n",
       "      <td>0.0</td>\n",
       "      <td>0.0</td>\n",
       "      <td>0.0</td>\n",
       "      <td>0.0</td>\n",
       "      <td>0.0</td>\n",
       "      <td>0.0</td>\n",
       "      <td>0.0</td>\n",
       "    </tr>\n",
       "    <tr>\n",
       "      <th>4999</th>\n",
       "      <td>0.0</td>\n",
       "      <td>0.0</td>\n",
       "      <td>0.0</td>\n",
       "      <td>0.0</td>\n",
       "      <td>0.0</td>\n",
       "      <td>0.0</td>\n",
       "      <td>0.0</td>\n",
       "      <td>0.0</td>\n",
       "      <td>0.0</td>\n",
       "      <td>0.0</td>\n",
       "      <td>...</td>\n",
       "      <td>0.0</td>\n",
       "      <td>0.0</td>\n",
       "      <td>0.0</td>\n",
       "      <td>0.0</td>\n",
       "      <td>0.0</td>\n",
       "      <td>0.0</td>\n",
       "      <td>0.0</td>\n",
       "      <td>0.0</td>\n",
       "      <td>0.0</td>\n",
       "      <td>0.0</td>\n",
       "    </tr>\n",
       "  </tbody>\n",
       "</table>\n",
       "<p>5000 rows × 9946 columns</p>\n",
       "</div>"
      ],
      "text/plain": [
       "       aa  aab  aac  aagya  aaj  aaja  aam  aana  aane  aap  ...  zip  zipped  \\\n",
       "0     0.0  0.0  0.0    0.0  0.0   0.0  0.0   0.0   0.0  0.0  ...  0.0     0.0   \n",
       "1     0.0  0.0  0.0    0.0  0.0   0.0  0.0   0.0   0.0  0.0  ...  0.0     0.0   \n",
       "2     0.0  0.0  0.0    0.0  0.0   0.0  0.0   0.0   0.0  0.0  ...  0.0     0.0   \n",
       "3     0.0  0.0  0.0    0.0  0.0   0.0  0.0   0.0   0.0  0.0  ...  0.0     0.0   \n",
       "4     0.0  0.0  0.0    0.0  0.0   0.0  0.0   0.0   0.0  0.0  ...  0.0     0.0   \n",
       "...   ...  ...  ...    ...  ...   ...  ...   ...   ...  ...  ...  ...     ...   \n",
       "4995  0.0  0.0  0.0    0.0  0.0   0.0  0.0   0.0   0.0  0.0  ...  0.0     0.0   \n",
       "4996  0.0  0.0  0.0    0.0  0.0   0.0  0.0   0.0   0.0  0.0  ...  0.0     0.0   \n",
       "4997  0.0  0.0  0.0    0.0  0.0   0.0  0.0   0.0   0.0  0.0  ...  0.0     0.0   \n",
       "4998  0.0  0.0  0.0    0.0  0.0   0.0  0.0   0.0   0.0  0.0  ...  0.0     0.0   \n",
       "4999  0.0  0.0  0.0    0.0  0.0   0.0  0.0   0.0   0.0  0.0  ...  0.0     0.0   \n",
       "\n",
       "      zmi  zone  zook  zoom  zoomautomatically  zorin  zthe  zyada  \n",
       "0     0.0   0.0   0.0   0.0                0.0    0.0   0.0    0.0  \n",
       "1     0.0   0.0   0.0   0.0                0.0    0.0   0.0    0.0  \n",
       "2     0.0   0.0   0.0   0.0                0.0    0.0   0.0    0.0  \n",
       "3     0.0   0.0   0.0   0.0                0.0    0.0   0.0    0.0  \n",
       "4     0.0   0.0   0.0   0.0                0.0    0.0   0.0    0.0  \n",
       "...   ...   ...   ...   ...                ...    ...   ...    ...  \n",
       "4995  0.0   0.0   0.0   0.0                0.0    0.0   0.0    0.0  \n",
       "4996  0.0   0.0   0.0   0.0                0.0    0.0   0.0    0.0  \n",
       "4997  0.0   0.0   0.0   0.0                0.0    0.0   0.0    0.0  \n",
       "4998  0.0   0.0   0.0   0.0                0.0    0.0   0.0    0.0  \n",
       "4999  0.0   0.0   0.0   0.0                0.0    0.0   0.0    0.0  \n",
       "\n",
       "[5000 rows x 9946 columns]"
      ]
     },
     "execution_count": 12,
     "metadata": {},
     "output_type": "execute_result"
    }
   ],
   "source": [
    "X = pd.DataFrame(data = array, columns= tfidf.get_feature_names())\n",
    "X"
   ]
  },
  {
   "cell_type": "code",
   "execution_count": 13,
   "id": "efcd2219",
   "metadata": {},
   "outputs": [],
   "source": [
    "y = sentiment_binary['Labels']"
   ]
  },
  {
   "cell_type": "code",
   "execution_count": null,
   "id": "7f01587f",
   "metadata": {},
   "outputs": [],
   "source": []
  },
  {
   "cell_type": "markdown",
   "id": "2d886894",
   "metadata": {},
   "source": [
    "### Checking the Classification Value Counts - Data is Balanced or Not ?"
   ]
  },
  {
   "cell_type": "code",
   "execution_count": 14,
   "id": "4dad9766",
   "metadata": {},
   "outputs": [
    {
     "name": "stdout",
     "output_type": "stream",
     "text": [
      "1    4151\n",
      "0     849\n",
      "Name: Labels, dtype: int64\n"
     ]
    },
    {
     "data": {
      "text/plain": [
       "<AxesSubplot:ylabel='Labels'>"
      ]
     },
     "execution_count": 14,
     "metadata": {},
     "output_type": "execute_result"
    },
    {
     "data": {
      "image/png": "[encoded data removed]",
      "text/plain": [
       "<Figure size 432x288 with 1 Axes>"
      ]
     },
     "metadata": {},
     "output_type": "display_data"
    }
   ],
   "source": [
    "print(y.value_counts())\n",
    "\n",
    "y.value_counts().plot.pie(autopct = '%0.2f%%')"
   ]
  },
  {
   "cell_type": "code",
   "execution_count": null,
   "id": "998fbb9b",
   "metadata": {},
   "outputs": [],
   "source": [
    "# Data Is Im Balanced Data"
   ]
  },
  {
   "cell_type": "markdown",
   "id": "63f2a934",
   "metadata": {},
   "source": [
    "### Model Building With Balancing the Data with Over Sampling Method - SMOTE"
   ]
  },
  {
   "cell_type": "code",
   "execution_count": 17,
   "id": "fb854a41",
   "metadata": {},
   "outputs": [],
   "source": [
    "sm = SMOTE(k_neighbors=10, sampling_strategy=1)\n",
    "\n",
    "X_sm, y_sm = sm.fit_resample(X,y)"
   ]
  },
  {
   "cell_type": "code",
   "execution_count": 18,
   "id": "345fb85c",
   "metadata": {},
   "outputs": [
    {
     "name": "stdout",
     "output_type": "stream",
     "text": [
      "1    4151\n",
      "0    4151\n",
      "Name: Labels, dtype: int64\n"
     ]
    },
    {
     "data": {
      "text/plain": [
       "<AxesSubplot:ylabel='Labels'>"
      ]
     },
     "execution_count": 18,
     "metadata": {},
     "output_type": "execute_result"
    },
    {
     "data": {
      "image/png": "[encoded data removed]",
      "text/plain": [
       "<Figure size 432x288 with 1 Axes>"
      ]
     },
     "metadata": {},
     "output_type": "display_data"
    }
   ],
   "source": [
    "print(y_sm.value_counts())\n",
    "y_sm.value_counts().plot.pie(autopct = '%0.2f')"
   ]
  },
  {
   "cell_type": "code",
   "execution_count": 23,
   "id": "98cf16bf",
   "metadata": {},
   "outputs": [],
   "source": [
    "X_train, X_test, y_train, y_test = train_test_split(X_sm,y_sm, test_size=0.2, shuffle=True, random_state=7,stratify=y_sm)"
   ]
  },
  {
   "cell_type": "code",
   "execution_count": 24,
   "id": "fc593843",
   "metadata": {},
   "outputs": [
    {
     "name": "stdout",
     "output_type": "stream",
     "text": [
      "0    3321\n",
      "1    3320\n",
      "Name: Labels, dtype: int64\n"
     ]
    },
    {
     "data": {
      "text/plain": [
       "<AxesSubplot:ylabel='Labels'>"
      ]
     },
     "execution_count": 24,
     "metadata": {},
     "output_type": "execute_result"
    },
    {
     "data": {
      "image/png": "[encoded data removed]",
      "text/plain": [
       "<Figure size 432x288 with 1 Axes>"
      ]
     },
     "metadata": {},
     "output_type": "display_data"
    }
   ],
   "source": [
    "print(y_train.value_counts())\n",
    "\n",
    "y_train.value_counts().plot.pie(autopct = '%0.2f%%')"
   ]
  },
  {
   "cell_type": "code",
   "execution_count": 25,
   "id": "2d3d2cbc",
   "metadata": {},
   "outputs": [
    {
     "name": "stdout",
     "output_type": "stream",
     "text": [
      "1    831\n",
      "0    830\n",
      "Name: Labels, dtype: int64\n"
     ]
    },
    {
     "data": {
      "text/plain": [
       "<AxesSubplot:ylabel='Labels'>"
      ]
     },
     "execution_count": 25,
     "metadata": {},
     "output_type": "execute_result"
    },
    {
     "data": {
      "image/png": "[encoded data removed]",
      "text/plain": [
       "<Figure size 432x288 with 1 Axes>"
      ]
     },
     "metadata": {},
     "output_type": "display_data"
    }
   ],
   "source": [
    "print(y_test.value_counts())\n",
    "\n",
    "y_test.value_counts().plot.pie(autopct = '%0.2f%%')"
   ]
  },
  {
   "cell_type": "code",
   "execution_count": null,
   "id": "03c932e1",
   "metadata": {},
   "outputs": [],
   "source": []
  },
  {
   "cell_type": "markdown",
   "id": "95f487d5",
   "metadata": {},
   "source": [
    "## Model Building & Evaluation"
   ]
  },
  {
   "cell_type": "markdown",
   "id": "a07bca7f",
   "metadata": {
    "heading_collapsed": true
   },
   "source": [
    "### Logistic Regression"
   ]
  },
  {
   "cell_type": "code",
   "execution_count": 26,
   "id": "870cc0d5",
   "metadata": {
    "hidden": true
   },
   "outputs": [
    {
     "name": "stdout",
     "output_type": "stream",
     "text": [
      "Wall time: 5.98 s\n"
     ]
    }
   ],
   "source": [
    "%%time\n",
    "lg = LogisticRegression()\n",
    "\n",
    "model_lg = lg.fit(X_train,y_train)\n"
   ]
  },
  {
   "cell_type": "code",
   "execution_count": 27,
   "id": "5e7b3fbc",
   "metadata": {
    "hidden": true
   },
   "outputs": [
    {
     "name": "stdout",
     "output_type": "stream",
     "text": [
      "Accuracy Score on Training Data is    : 0.9666\n",
      "Precision Score on Training Data is   : 0.9874\n",
      "Recall Score on Training Data is      : 0.9452\n",
      "Recall Score on Training Data is      : 0.9666\n",
      "Confusion Matrix on Training Data     :\n",
      " [[3281   40]\n",
      " [ 182 3138]]\n"
     ]
    }
   ],
   "source": [
    "# predictions on Train Data\n",
    "\n",
    "y_pred_train_lg = model_lg.predict(X_train)\n",
    "\n",
    "# metrics\n",
    "\n",
    "lg_train_accuracy   = np.round(accuracy_score(y_train,y_pred_train_lg),4)\n",
    "\n",
    "lg_train_precision  = np.round(precision_score(y_train,y_pred_train_lg),4)\n",
    "\n",
    "lg_train_recall     = np.round(recall_score(y_train,y_pred_train_lg),4)\n",
    "\n",
    "lg_train_auc        = np.round(roc_auc_score(y_train,y_pred_train_lg),4)\n",
    "\n",
    "lg_train_confusion_matrix = confusion_matrix(y_train,y_pred_train_lg)\n",
    "\n",
    "print(f'Accuracy Score on Training Data is    : {lg_train_accuracy}')\n",
    "\n",
    "print(f'Precision Score on Training Data is   : {lg_train_precision}')\n",
    "\n",
    "print(f'Recall Score on Training Data is      : {lg_train_recall}')\n",
    "\n",
    "print(f'AUC Score on Training Data is         : {lg_train_auc}')\n",
    "\n",
    "print(f'Confusion Matrix on Training Data     :\\n {lg_train_confusion_matrix}')"
   ]
  },
  {
   "cell_type": "code",
   "execution_count": 29,
   "id": "d784c7d0",
   "metadata": {
    "hidden": true
   },
   "outputs": [
    {
     "name": "stdout",
     "output_type": "stream",
     "text": [
      "Accuracy Score on Testing Data is    : 0.938\n",
      "Precision Score on Testing Data is   : 0.9715\n",
      "Recall Score on Testing Data is      : 0.9025\n",
      "Recall Score on Testing Data is      : 0.938\n",
      "Confusion Matrix on Testing Data     :\n",
      " [[808  22]\n",
      " [ 81 750]]\n"
     ]
    }
   ],
   "source": [
    "# predictions on Test Data\n",
    "\n",
    "y_pred_test_lg = model_lg.predict(X_test)\n",
    "\n",
    "# metrics\n",
    "\n",
    "lg_test_accuracy         = np.round(accuracy_score(y_test,y_pred_test_lg),4)\n",
    "\n",
    "lg_test_precision        = np.round(precision_score(y_test,y_pred_test_lg),4)\n",
    "\n",
    "lg_test_recall           = np.round(recall_score(y_test,y_pred_test_lg),4)\n",
    "\n",
    "lg_test_auc              = np.round(roc_auc_score(y_test,y_pred_test_lg),4)\n",
    "\n",
    "lg_test_confusion_matrix = confusion_matrix(y_test,y_pred_test_lg)\n",
    "\n",
    "print(f'Accuracy Score on Testing Data is    : {lg_test_accuracy}')\n",
    "\n",
    "print(f'Precision Score on Testing Data is   : {lg_test_precision}')\n",
    "\n",
    "print(f'Recall Score on Testing Data is      : {lg_test_recall}')\n",
    "\n",
    "print(f'Recall Score on Testing Data is      : {lg_test_auc}')\n",
    "\n",
    "print(f'Confusion Matrix on Testing Data     :\\n {lg_test_confusion_matrix}')"
   ]
  },
  {
   "cell_type": "code",
   "execution_count": null,
   "id": "f370dd39",
   "metadata": {
    "hidden": true
   },
   "outputs": [],
   "source": []
  },
  {
   "cell_type": "markdown",
   "id": "edfdee9c",
   "metadata": {
    "heading_collapsed": true
   },
   "source": [
    "### Naive Bayes"
   ]
  },
  {
   "cell_type": "code",
   "execution_count": 30,
   "id": "0ab7955b",
   "metadata": {
    "hidden": true
   },
   "outputs": [
    {
     "name": "stdout",
     "output_type": "stream",
     "text": [
      "Wall time: 559 ms\n"
     ]
    }
   ],
   "source": [
    "%%time\n",
    "nb = MultinomialNB()\n",
    "\n",
    "model_nb = nb.fit(X_train,y_train)"
   ]
  },
  {
   "cell_type": "code",
   "execution_count": 31,
   "id": "acfb2ff2",
   "metadata": {
    "hidden": true
   },
   "outputs": [
    {
     "name": "stdout",
     "output_type": "stream",
     "text": [
      "Accuracy Score on Training Data is    : 0.8993\n",
      "Precision Score on Training Data is   : 0.9356\n",
      "Recall Score on Training Data is      : 0.8575\n",
      "Recall Score on Training Data is      : 0.8993\n",
      "Confusion Matrix on Training Data     :\n",
      " [[3125  196]\n",
      " [ 473 2847]]\n"
     ]
    }
   ],
   "source": [
    "# predictions on Train Data\n",
    "\n",
    "y_pred_train_nb = model_nb.predict(X_train)\n",
    "\n",
    "# metrics\n",
    "\n",
    "nb_train_accuracy         = np.round(accuracy_score(y_train,y_pred_train_nb),4)\n",
    "\n",
    "nb_train_precision        = np.round(precision_score(y_train,y_pred_train_nb),4)\n",
    "\n",
    "nb_train_recall           = np.round(recall_score(y_train,y_pred_train_nb),4)\n",
    "\n",
    "nb_train_auc              = np.round(roc_auc_score(y_train,y_pred_train_nb),4)\n",
    "\n",
    "nb_train_confusion_matrix = confusion_matrix(y_train,y_pred_train_nb)\n",
    "\n",
    "print(f'Accuracy Score on Training Data is    : {nb_train_accuracy}')\n",
    "\n",
    "print(f'Precision Score on Training Data is   : {nb_train_precision}')\n",
    "\n",
    "print(f'Recall Score on Training Data is      : {nb_train_recall}')\n",
    "\n",
    "print(f'AUC Score on Training Data is         : {nb_train_auc}')\n",
    "\n",
    "print(f'Confusion Matrix on Training Data     :\\n {nb_train_confusion_matrix}')"
   ]
  },
  {
   "cell_type": "code",
   "execution_count": 32,
   "id": "e9fccc26",
   "metadata": {
    "hidden": true
   },
   "outputs": [
    {
     "name": "stdout",
     "output_type": "stream",
     "text": [
      "Accuracy Score on Testing Data is    : 0.8718\n",
      "Precision Score on Testing Data is   : 0.9023\n",
      "Recall Score on Testing Data is      : 0.8339\n",
      "Recall Score on Testing Data is      : 0.8718\n",
      "Confusion Matrix on Testing Data     :\n",
      " [[755  75]\n",
      " [138 693]]\n"
     ]
    }
   ],
   "source": [
    "# predictions on Test Data\n",
    "\n",
    "y_pred_test_nb = model_nb.predict(X_test)\n",
    "\n",
    "# metrics\n",
    "\n",
    "nb_test_accuracy         = np.round(accuracy_score(y_test,y_pred_test_nb),4)\n",
    "\n",
    "nb_test_precision        = np.round(precision_score(y_test,y_pred_test_nb),4)\n",
    "\n",
    "nb_test_recall           = np.round(recall_score(y_test,y_pred_test_nb),4)\n",
    "\n",
    "nb_test_auc              = np.round(roc_auc_score(y_test,y_pred_test_nb),4)\n",
    "\n",
    "nb_test_confusion_matrix = confusion_matrix(y_test,y_pred_test_nb)\n",
    "\n",
    "print(f'Accuracy Score on Testing Data is    : {nb_test_accuracy}')\n",
    "\n",
    "print(f'Precision Score on Testing Data is   : {nb_test_precision}')\n",
    "\n",
    "print(f'Recall Score on Testing Data is      : {nb_test_recall}')\n",
    "\n",
    "print(f'AUC Score on Testing Data is         : {nb_test_auc}')\n",
    "\n",
    "print(f'Confusion Matrix on Testing Data     :\\n {nb_test_confusion_matrix}')"
   ]
  },
  {
   "cell_type": "code",
   "execution_count": null,
   "id": "20ccffde",
   "metadata": {
    "hidden": true
   },
   "outputs": [],
   "source": []
  },
  {
   "cell_type": "markdown",
   "id": "cd5c0679",
   "metadata": {
    "heading_collapsed": true
   },
   "source": [
    "### Support Vector Machine"
   ]
  },
  {
   "cell_type": "code",
   "execution_count": 33,
   "id": "e1de315a",
   "metadata": {
    "hidden": true
   },
   "outputs": [
    {
     "name": "stdout",
     "output_type": "stream",
     "text": [
      "Wall time: 2min 22s\n"
     ]
    }
   ],
   "source": [
    "%%time \n",
    "\n",
    "svm = SVC(kernel='linear')\n",
    "\n",
    "model_svm = svm.fit(X_train,y_train)"
   ]
  },
  {
   "cell_type": "code",
   "execution_count": 34,
   "id": "436d3418",
   "metadata": {
    "hidden": true
   },
   "outputs": [
    {
     "name": "stdout",
     "output_type": "stream",
     "text": [
      "Accuracy Score on Training Data is    : 0.9923\n",
      "Precision Score on Training Data is   : 0.9988\n",
      "Recall Score on Training Data is      : 0.9858\n",
      "Recall Score on Training Data is      : 0.9923\n",
      "Confusion Matrix on Training Data     :\n",
      " [[3317    4]\n",
      " [  47 3273]]\n"
     ]
    }
   ],
   "source": [
    "# predictions on Train Data\n",
    "\n",
    "y_pred_train_svm = model_svm.predict(X_train)\n",
    "\n",
    "# metrics\n",
    "\n",
    "svm_train_accuracy         = np.round(accuracy_score(y_train,y_pred_train_svm),4)\n",
    "\n",
    "svm_train_precision        = np.round(precision_score(y_train,y_pred_train_svm),4)\n",
    "\n",
    "svm_train_recall           = np.round(recall_score(y_train,y_pred_train_svm),4)\n",
    "\n",
    "svm_train_auc              = np.round(roc_auc_score(y_train,y_pred_train_svm),4)\n",
    "\n",
    "svm_train_confusion_matrix = confusion_matrix(y_train,y_pred_train_svm)\n",
    "\n",
    "print(f'Accuracy Score on Training Data is    : {svm_train_accuracy}')\n",
    "\n",
    "print(f'Precision Score on Training Data is   : {svm_train_precision}')\n",
    "\n",
    "print(f'Recall Score on Training Data is      : {svm_train_recall}')\n",
    "\n",
    "print(f'AUC Score on Training Data is         : {svm_train_auc}')\n",
    "\n",
    "print(f'Confusion Matrix on Training Data     :\\n {svm_train_confusion_matrix}')"
   ]
  },
  {
   "cell_type": "code",
   "execution_count": 39,
   "id": "3412ddc0",
   "metadata": {
    "hidden": true
   },
   "outputs": [
    {
     "name": "stdout",
     "output_type": "stream",
     "text": [
      "Accuracy Score on Testing Data is    : 0.9645\n",
      "Precision Score on Testing Data is   : 0.9923\n",
      "Recall Score on Testing Data is      : 0.9362\n",
      "Recall Score on Testing Data is      : 0.9645\n",
      "Confusion Matrix on Testing Data     :\n",
      " [[824   6]\n",
      " [ 53 778]]\n"
     ]
    }
   ],
   "source": [
    "# predictions on Test Data\n",
    "\n",
    "y_pred_test_svm = model_svm.predict(X_test)\n",
    "\n",
    "# metrics\n",
    "\n",
    "svm_test_accuracy         = np.round(accuracy_score(y_test,y_pred_test_svm),4)\n",
    "\n",
    "svm_test_precision        = np.round(precision_score(y_test,y_pred_test_svm),4)\n",
    "\n",
    "svm_test_recall           = np.round(recall_score(y_test,y_pred_test_svm),4)\n",
    "\n",
    "svm_test_auc              = np.round(roc_auc_score(y_test,y_pred_test_svm),4)\n",
    "\n",
    "svm_test_confusion_matrix = confusion_matrix(y_test,y_pred_test_svm)\n",
    "\n",
    "print(f'Accuracy Score on Testing Data is    : {svm_test_accuracy}')\n",
    "\n",
    "print(f'Precision Score on Testing Data is   : {svm_test_precision}')\n",
    "\n",
    "print(f'Recall Score on Testing Data is      : {svm_test_recall}')\n",
    "\n",
    "print(f'AUC Score on Testing Data is         : {svm_test_auc}')\n",
    "\n",
    "print(f'Confusion Matrix on Testing Data     :\\n {svm_test_confusion_matrix}')"
   ]
  },
  {
   "cell_type": "code",
   "execution_count": null,
   "id": "3396ae56",
   "metadata": {
    "hidden": true
   },
   "outputs": [],
   "source": []
  },
  {
   "cell_type": "markdown",
   "id": "d57b7bee",
   "metadata": {
    "heading_collapsed": true
   },
   "source": [
    "### Decision Tree"
   ]
  },
  {
   "cell_type": "code",
   "execution_count": 36,
   "id": "93033ccc",
   "metadata": {
    "hidden": true
   },
   "outputs": [
    {
     "name": "stdout",
     "output_type": "stream",
     "text": [
      "Wall time: 19.4 s\n"
     ]
    }
   ],
   "source": [
    "%%time\n",
    "d_tree = DecisionTreeClassifier(criterion= 'gini', min_samples_split= 5, random_state=7, class_weight={0:5,1:1})\n",
    "\n",
    "model_dt = d_tree.fit(X_train,y_train)"
   ]
  },
  {
   "cell_type": "code",
   "execution_count": 37,
   "id": "d6a11431",
   "metadata": {
    "hidden": true
   },
   "outputs": [
    {
     "name": "stdout",
     "output_type": "stream",
     "text": [
      "Accuracy Score on Training Data is    : 0.9988\n",
      "Precision Score on Training Data is   : 1.0\n",
      "Recall Score on Training Data is      : 0.9976\n",
      "Recall Score on Training Data is      : 0.9988\n",
      "Confusion Matrix on Training Data     :\n",
      " [[3321    0]\n",
      " [   8 3312]]\n"
     ]
    }
   ],
   "source": [
    "# predictions on Train Data\n",
    "\n",
    "y_pred_train_dt = model_dt.predict(X_train)\n",
    "\n",
    "# metrics\n",
    "\n",
    "dt_train_accuracy         = np.round(accuracy_score(y_train,y_pred_train_dt),4)\n",
    "\n",
    "dt_train_precision        = np.round(precision_score(y_train,y_pred_train_dt),4)\n",
    "\n",
    "dt_train_recall           = np.round(recall_score(y_train,y_pred_train_dt),4)\n",
    "\n",
    "dt_train_auc              = np.round(roc_auc_score(y_train,y_pred_train_dt),4)\n",
    "\n",
    "dt_train_confusion_matrix = confusion_matrix(y_train,y_pred_train_dt)\n",
    "\n",
    "print(f'Accuracy Score on Training Data is    : {dt_train_accuracy}')\n",
    "\n",
    "print(f'Precision Score on Training Data is   : {dt_train_precision}')\n",
    "\n",
    "print(f'Recall Score on Training Data is      : {dt_train_recall}')\n",
    "\n",
    "print(f'AUC Score on Training Data is         : {dt_train_auc}')\n",
    "\n",
    "print(f'Confusion Matrix on Training Data     :\\n {dt_train_confusion_matrix}')"
   ]
  },
  {
   "cell_type": "code",
   "execution_count": 38,
   "id": "93ea9b43",
   "metadata": {
    "hidden": true
   },
   "outputs": [
    {
     "name": "stdout",
     "output_type": "stream",
     "text": [
      "Accuracy Score on Testing Data is    : 0.8784\n",
      "Precision Score on Testing Data is   : 0.9037\n",
      "Recall Score on Testing Data is      : 0.8472\n",
      "Recall Score on Testing Data is      : 0.8784\n",
      "Confusion Matrix on Testing Data     :\n",
      " [[755  75]\n",
      " [127 704]]\n"
     ]
    }
   ],
   "source": [
    "# predictions on Test Data\n",
    "\n",
    "y_pred_test_dt = model_dt.predict(X_test)\n",
    "\n",
    "# metrics\n",
    "\n",
    "dt_test_accuracy         = np.round(accuracy_score(y_test,y_pred_test_dt),4)\n",
    "\n",
    "dt_test_precision        = np.round(precision_score(y_test,y_pred_test_dt),4)\n",
    "\n",
    "dt_test_recall           = np.round(recall_score(y_test,y_pred_test_dt),4)\n",
    "\n",
    "dt_test_auc              = np.round(roc_auc_score(y_test,y_pred_test_dt),4)\n",
    "\n",
    "dt_test_confusion_matrix = confusion_matrix(y_test,y_pred_test_dt)\n",
    "\n",
    "print(f'Accuracy Score on Testing Data is    : {dt_test_accuracy}')\n",
    "\n",
    "print(f'Precision Score on Testing Data is   : {dt_test_precision}')\n",
    "\n",
    "print(f'Recall Score on Testing Data is      : {dt_test_recall}')\n",
    "\n",
    "print(f'AUC Score on Testing Data is         : {dt_test_auc}')\n",
    "\n",
    "print(f'Confusion Matrix on Testing Data     :\\n {dt_test_confusion_matrix}')"
   ]
  },
  {
   "cell_type": "code",
   "execution_count": null,
   "id": "7d5f49e4",
   "metadata": {
    "hidden": true
   },
   "outputs": [],
   "source": []
  },
  {
   "cell_type": "markdown",
   "id": "bd8bfb1c",
   "metadata": {
    "heading_collapsed": true
   },
   "source": [
    "### Random Forest"
   ]
  },
  {
   "cell_type": "code",
   "execution_count": 40,
   "id": "b0f30f9e",
   "metadata": {
    "hidden": true
   },
   "outputs": [
    {
     "name": "stdout",
     "output_type": "stream",
     "text": [
      "Wall time: 3min 28s\n"
     ]
    }
   ],
   "source": [
    "%%time\n",
    "\n",
    "rf = RandomForestClassifier(n_estimators=100, criterion='gini',max_features= 3300,random_state=7,min_samples_split=5)\n",
    "\n",
    "model_rf = rf.fit(X_train,y_train)"
   ]
  },
  {
   "cell_type": "code",
   "execution_count": 41,
   "id": "748a7626",
   "metadata": {
    "hidden": true
   },
   "outputs": [
    {
     "name": "stdout",
     "output_type": "stream",
     "text": [
      "Accuracy Score on Training Data is    : 1.0\n",
      "Precision Score on Training Data is   : 1.0\n",
      "Recall Score on Training Data is      : 1.0\n",
      "Recall Score on Training Data is      : 1.0\n",
      "Confusion Matrix on Training Data     :\n",
      " [[3321    0]\n",
      " [   0 3320]]\n"
     ]
    }
   ],
   "source": [
    "# predictions on Train Data\n",
    "\n",
    "y_pred_train_rf = model_rf.predict(X_train)\n",
    "\n",
    "# metrics\n",
    "\n",
    "rf_train_accuracy         = np.round(accuracy_score(y_train,y_pred_train_rf),4)\n",
    "\n",
    "rf_train_precision        = np.round(precision_score(y_train,y_pred_train_rf),4)\n",
    "\n",
    "rf_train_recall           = np.round(recall_score(y_train,y_pred_train_rf),4)\n",
    "\n",
    "rf_train_auc              = np.round(roc_auc_score(y_train,y_pred_train_rf),4)\n",
    "\n",
    "rf_train_confusion_matrix = confusion_matrix(y_train,y_pred_train_rf)\n",
    "\n",
    "print(f'Accuracy Score on Training Data is    : {rf_train_accuracy}')\n",
    "\n",
    "print(f'Precision Score on Training Data is   : {rf_train_precision}')\n",
    "\n",
    "print(f'Recall Score on Training Data is      : {rf_train_recall}')\n",
    "\n",
    "print(f'AUC Score on Training Data is         : {rf_train_auc}')\n",
    "\n",
    "print(f'Confusion Matrix on Training Data     :\\n {rf_train_confusion_matrix}')"
   ]
  },
  {
   "cell_type": "code",
   "execution_count": 42,
   "id": "16c6d063",
   "metadata": {
    "hidden": true
   },
   "outputs": [
    {
     "name": "stdout",
     "output_type": "stream",
     "text": [
      "Accuracy Score on Testing Data is    : 0.9356\n",
      "Precision Score on Testing Data is   : 0.9525\n",
      "Recall Score on Testing Data is      : 0.917\n",
      "Recall Score on Testing Data is      : 0.9356\n",
      "Confusion Matrix on Testing Data     :\n",
      " [[792  38]\n",
      " [ 69 762]]\n"
     ]
    }
   ],
   "source": [
    "# predictions on Test Data\n",
    "\n",
    "y_pred_test_rf = model_rf.predict(X_test)\n",
    "\n",
    "# metrics\n",
    "\n",
    "rf_test_accuracy         = np.round(accuracy_score(y_test,y_pred_test_rf),4)\n",
    "\n",
    "rf_test_precision        = np.round(precision_score(y_test,y_pred_test_rf),4)\n",
    "\n",
    "rf_test_recall           = np.round(recall_score(y_test,y_pred_test_rf),4)\n",
    "\n",
    "rf_test_auc              = np.round(roc_auc_score(y_test,y_pred_test_rf),4)\n",
    "\n",
    "rf_test_confusion_matrix = confusion_matrix(y_test,y_pred_test_rf)\n",
    "\n",
    "print(f'Accuracy Score on Testing Data is    : {rf_test_accuracy}')\n",
    "\n",
    "print(f'Precision Score on Testing Data is   : {rf_test_precision}')\n",
    "\n",
    "print(f'Recall Score on Testing Data is      : {rf_test_recall}')\n",
    "\n",
    "print(f'AUC Score on Testing Data is         : {rf_test_auc}')\n",
    "\n",
    "print(f'Confusion Matrix on Testing Data     :\\n {rf_test_confusion_matrix}')"
   ]
  },
  {
   "cell_type": "code",
   "execution_count": null,
   "id": "b4e0907f",
   "metadata": {
    "hidden": true
   },
   "outputs": [],
   "source": []
  },
  {
   "cell_type": "markdown",
   "id": "e5dd6455",
   "metadata": {
    "heading_collapsed": true
   },
   "source": [
    "### AdaBoost Model"
   ]
  },
  {
   "cell_type": "code",
   "execution_count": 43,
   "id": "2ae73e0f",
   "metadata": {
    "hidden": true
   },
   "outputs": [
    {
     "name": "stdout",
     "output_type": "stream",
     "text": [
      "Wall time: 9min 42s\n"
     ]
    }
   ],
   "source": [
    "%%time\n",
    "ada = AdaBoostClassifier(base_estimator= d_tree, n_estimators=100, learning_rate= 0.3,random_state=7)\n",
    "\n",
    "model_ada = ada.fit(X_train,y_train)"
   ]
  },
  {
   "cell_type": "code",
   "execution_count": 44,
   "id": "0514526d",
   "metadata": {
    "hidden": true
   },
   "outputs": [
    {
     "name": "stdout",
     "output_type": "stream",
     "text": [
      "Accuracy Score on Training Data is    : 1.0\n",
      "Precision Score on Training Data is   : 1.0\n",
      "Recall Score on Training Data is      : 1.0\n",
      "Recall Score on Training Data is      : 1.0\n",
      "Confusion Matrix on Training Data     :\n",
      " [[3321    0]\n",
      " [   0 3320]]\n"
     ]
    }
   ],
   "source": [
    "# predictions on Train Data\n",
    "\n",
    "y_pred_train_ada = model_ada.predict(X_train)\n",
    "\n",
    "# metrics\n",
    "\n",
    "ada_train_accuracy         = np.round(accuracy_score(y_train,y_pred_train_ada),4)\n",
    "\n",
    "ada_train_precision        = np.round(precision_score(y_train,y_pred_train_ada),4)\n",
    "\n",
    "ada_train_recall           = np.round(recall_score(y_train,y_pred_train_ada),4)\n",
    "\n",
    "ada_train_auc              = np.round(roc_auc_score(y_train,y_pred_train_ada),4)\n",
    "\n",
    "ada_train_confusion_matrix = confusion_matrix(y_train,y_pred_train_ada)\n",
    "\n",
    "print(f'Accuracy Score on Training Data is    : {ada_train_accuracy}')\n",
    "\n",
    "print(f'Precision Score on Training Data is   : {ada_train_precision}')\n",
    "\n",
    "print(f'Recall Score on Training Data is      : {ada_train_recall}')\n",
    "\n",
    "print(f'AUC Score on Training Data is         : {ada_train_auc}')\n",
    "\n",
    "print(f'Confusion Matrix on Training Data     :\\n {ada_train_confusion_matrix}')"
   ]
  },
  {
   "cell_type": "code",
   "execution_count": 45,
   "id": "783c86cf",
   "metadata": {
    "hidden": true
   },
   "outputs": [
    {
     "name": "stdout",
     "output_type": "stream",
     "text": [
      "Accuracy Score on Testing Data is    : 0.9266\n",
      "Precision Score on Testing Data is   : 0.9658\n",
      "Recall Score on Testing Data is      : 0.8845\n",
      "Recall Score on Testing Data is      : 0.9266\n",
      "Confusion Matrix on Testing Data     :\n",
      " [[804  26]\n",
      " [ 96 735]]\n"
     ]
    }
   ],
   "source": [
    "# predictions on Test Data\n",
    "\n",
    "y_pred_test_ada = model_ada.predict(X_test)\n",
    "\n",
    "# metrics\n",
    "\n",
    "ada_test_accuracy         = np.round(accuracy_score(y_test,y_pred_test_ada),4)\n",
    "\n",
    "ada_test_precision        = np.round(precision_score(y_test,y_pred_test_ada),4)\n",
    "\n",
    "ada_test_recall           = np.round(recall_score(y_test,y_pred_test_ada),4)\n",
    "\n",
    "ada_test_auc              = np.round(roc_auc_score(y_test,y_pred_test_ada),4)\n",
    "\n",
    "ada_test_confusion_matrix = confusion_matrix(y_test,y_pred_test_ada)\n",
    "\n",
    "\n",
    "print(f'Accuracy Score on Testing Data is    : {ada_test_accuracy}')\n",
    "\n",
    "print(f'Precision Score on Testing Data is   : {ada_test_precision}')\n",
    "\n",
    "print(f'Recall Score on Testing Data is      : {ada_test_recall}')\n",
    "\n",
    "print(f'AUC Score on Testing Data is         : {ada_test_auc}')\n",
    "\n",
    "print(f'Confusion Matrix on Testing Data     :\\n {ada_test_confusion_matrix}') "
   ]
  },
  {
   "cell_type": "code",
   "execution_count": null,
   "id": "592e9fc2",
   "metadata": {
    "hidden": true
   },
   "outputs": [],
   "source": []
  },
  {
   "cell_type": "markdown",
   "id": "9184af23",
   "metadata": {
    "heading_collapsed": true
   },
   "source": [
    "### Gradient Boosting Model"
   ]
  },
  {
   "cell_type": "code",
   "execution_count": 46,
   "id": "9c8c57fd",
   "metadata": {
    "hidden": true
   },
   "outputs": [
    {
     "name": "stdout",
     "output_type": "stream",
     "text": [
      "Wall time: 1min 24s\n"
     ]
    }
   ],
   "source": [
    "%%time\n",
    "gd = GradientBoostingClassifier(n_estimators=100, learning_rate= 0.1,random_state=7)\n",
    "\n",
    "model_gd = gd.fit(X_train,y_train)"
   ]
  },
  {
   "cell_type": "code",
   "execution_count": 50,
   "id": "973e9e80",
   "metadata": {
    "hidden": true
   },
   "outputs": [
    {
     "name": "stdout",
     "output_type": "stream",
     "text": [
      "Accuracy Score on Training Data is    : 0.947\n",
      "Precision Score on Training Data is   : 0.9435\n",
      "Recall Score on Training Data is      : 0.9509\n",
      "Recall Score on Training Data is      : 0.947\n",
      "Confusion Matrix on Training Data     :\n",
      " [[3132  189]\n",
      " [ 163 3157]]\n"
     ]
    }
   ],
   "source": [
    "# predictions on Train Data\n",
    "\n",
    "y_pred_train_gd = model_gd.predict(X_train)\n",
    "\n",
    "# metrics\n",
    "\n",
    "gd_train_accuracy         = np.round(accuracy_score(y_train,y_pred_train_gd),4)\n",
    "\n",
    "gd_train_precision        = np.round(precision_score(y_train,y_pred_train_gd),4)\n",
    "\n",
    "gd_train_recall           = np.round(recall_score(y_train,y_pred_train_gd),4)\n",
    "\n",
    "gd_train_auc              = np.round(roc_auc_score(y_train,y_pred_train_gd),4)\n",
    "\n",
    "gd_train_confusion_matrix = confusion_matrix(y_train,y_pred_train_gd)\n",
    "\n",
    "print(f'Accuracy Score on Training Data is    : {gd_train_accuracy}')\n",
    "\n",
    "print(f'Precision Score on Training Data is   : {gd_train_precision}')\n",
    "\n",
    "print(f'Recall Score on Training Data is      : {gd_train_recall}')\n",
    "\n",
    "print(f'AUC Score on Training Data is         : {gd_train_auc}')\n",
    "\n",
    "print(f'Confusion Matrix on Training Data     :\\n {gd_train_confusion_matrix}')"
   ]
  },
  {
   "cell_type": "code",
   "execution_count": 48,
   "id": "ad56cc2e",
   "metadata": {
    "hidden": true
   },
   "outputs": [
    {
     "name": "stdout",
     "output_type": "stream",
     "text": [
      "Accuracy Score on Testing Data is    : 0.9278\n",
      "Precision Score on Testing Data is   : 0.932\n",
      "Recall Score on Testing Data is      : 0.923\n",
      "Recall Score on Testing Data is      : 0.9278\n",
      "Confusion Matrix on Testing Data     :\n",
      " [[774  56]\n",
      " [ 64 767]]\n"
     ]
    }
   ],
   "source": [
    "# predictions on Test Data\n",
    "\n",
    "y_pred_test_gd = model_gd.predict(X_test)\n",
    "\n",
    "# metrics\n",
    "\n",
    "gd_test_accuracy         = np.round(accuracy_score(y_test,y_pred_test_gd),4)\n",
    "\n",
    "gd_test_precision        = np.round(precision_score(y_test,y_pred_test_gd),4)\n",
    "\n",
    "gd_test_recall           = np.round(recall_score(y_test,y_pred_test_gd),4)\n",
    "\n",
    "gd_test_auc              = np.round(roc_auc_score(y_test,y_pred_test_gd),4)\n",
    "\n",
    "gd_test_confusion_matrix = confusion_matrix(y_test,y_pred_test_gd)\n",
    "\n",
    "\n",
    "print(f'Accuracy Score on Testing Data is    : {gd_test_accuracy}')\n",
    "\n",
    "print(f'Precision Score on Testing Data is   : {gd_test_precision}')\n",
    "\n",
    "print(f'Recall Score on Testing Data is      : {gd_test_recall}')\n",
    "\n",
    "print(f'AUC Score on Testing Data is         : {gd_test_auc}')\n",
    "\n",
    "print(f'Confusion Matrix on Testing Data     :\\n {gd_test_confusion_matrix}') "
   ]
  },
  {
   "cell_type": "code",
   "execution_count": null,
   "id": "c11126a3",
   "metadata": {
    "hidden": true
   },
   "outputs": [],
   "source": []
  },
  {
   "cell_type": "markdown",
   "id": "55222d9d",
   "metadata": {
    "heading_collapsed": true
   },
   "source": [
    "### Xtreame Gradient Boosting Model"
   ]
  },
  {
   "cell_type": "code",
   "execution_count": 49,
   "id": "1b73bdf2",
   "metadata": {
    "hidden": true
   },
   "outputs": [
    {
     "name": "stdout",
     "output_type": "stream",
     "text": [
      "[13:56:34] WARNING: C:/Users/Administrator/workspace/xgboost-win64_release_1.5.1/src/learner.cc:1115: Starting in XGBoost 1.3.0, the default evaluation metric used with the objective 'binary:logistic' was changed from 'error' to 'logloss'. Explicitly set eval_metric if you'd like to restore the old behavior.\n",
      "Wall time: 53.1 s\n"
     ]
    }
   ],
   "source": [
    "%%time\n",
    "xgb_clsf = xgb.XGBClassifier(learning_rate = 0.3, reg_alpha= 0, reg_lambda = 1,gamma = 10)\n",
    "\n",
    "model_xgb = xgb_clsf.fit(X_train, y_train)"
   ]
  },
  {
   "cell_type": "code",
   "execution_count": 51,
   "id": "c05199d6",
   "metadata": {
    "hidden": true
   },
   "outputs": [
    {
     "name": "stdout",
     "output_type": "stream",
     "text": [
      "Accuracy Score on Training Data is    : 0.9529\n",
      "Precision Score on Training Data is   : 0.9479\n",
      "Recall Score on Training Data is      : 0.9584\n",
      "Recall Score on Training Data is      : 0.9529\n",
      "Confusion Matrix on Training Data     :\n",
      " [[3146  175]\n",
      " [ 138 3182]]\n"
     ]
    }
   ],
   "source": [
    "# predictions on Train Data\n",
    "\n",
    "y_pred_train_xgb = model_xgb.predict(X_train)\n",
    "\n",
    "# metrics\n",
    "\n",
    "xgb_train_accuracy         = np.round(accuracy_score(y_train,y_pred_train_xgb),4)\n",
    "\n",
    "xgb_train_precision        = np.round(precision_score(y_train,y_pred_train_xgb),4)\n",
    "\n",
    "xgb_train_recall           = np.round(recall_score(y_train,y_pred_train_xgb),4)\n",
    "\n",
    "xgb_train_auc              = np.round(roc_auc_score(y_train,y_pred_train_xgb),4)\n",
    "\n",
    "xgb_train_confusion_matrix = confusion_matrix(y_train,y_pred_train_xgb)\n",
    "\n",
    "print(f'Accuracy Score on Training Data is    : {xgb_train_accuracy}')\n",
    "\n",
    "print(f'Precision Score on Training Data is   : {xgb_train_precision}')\n",
    "\n",
    "print(f'Recall Score on Training Data is      : {xgb_train_recall}')\n",
    "\n",
    "print(f'AUC Score on Training Data is         : {xgb_train_auc}')\n",
    "\n",
    "print(f'Confusion Matrix on Training Data     :\\n {xgb_train_confusion_matrix}')"
   ]
  },
  {
   "cell_type": "code",
   "execution_count": 52,
   "id": "d8fdf665",
   "metadata": {
    "hidden": true
   },
   "outputs": [
    {
     "name": "stdout",
     "output_type": "stream",
     "text": [
      "Accuracy Score on Testing Data is    : 0.9296\n",
      "Precision Score on Testing Data is   : 0.9343\n",
      "Recall Score on Testing Data is      : 0.9242\n",
      "Recall Score on Testing Data is      : 0.9296\n",
      "Confusion Matrix on Testing Data     :\n",
      " [[776  54]\n",
      " [ 63 768]]\n"
     ]
    }
   ],
   "source": [
    "# predictions on Test Data\n",
    "\n",
    "y_pred_test_xgb = model_xgb.predict(X_test)\n",
    "\n",
    "# metrics\n",
    "\n",
    "xgb_test_accuracy         = np.round(accuracy_score(y_test,y_pred_test_xgb),4)\n",
    "\n",
    "xgb_test_precision        = np.round(precision_score(y_test,y_pred_test_xgb),4)\n",
    "\n",
    "xgb_test_recall           = np.round(recall_score(y_test,y_pred_test_xgb),4)\n",
    "\n",
    "xgb_test_auc              = np.round(roc_auc_score(y_test,y_pred_test_xgb),4)\n",
    "\n",
    "xgb_test_confusion_matrix = confusion_matrix(y_test,y_pred_test_xgb)\n",
    "\n",
    "\n",
    "print(f'Accuracy Score on Testing Data is    : {xgb_test_accuracy}')\n",
    "\n",
    "print(f'Precision Score on Testing Data is   : {xgb_test_precision}')\n",
    "\n",
    "print(f'Recall Score on Testing Data is      : {xgb_test_recall}')\n",
    "\n",
    "print(f'AUC Score on Testing Data is         : {xgb_test_auc}')\n",
    "\n",
    "print(f'Confusion Matrix on Testing Data     :\\n {xgb_test_confusion_matrix}') "
   ]
  },
  {
   "cell_type": "code",
   "execution_count": null,
   "id": "ada4036e",
   "metadata": {
    "hidden": true
   },
   "outputs": [],
   "source": []
  },
  {
   "cell_type": "markdown",
   "id": "0ba43404",
   "metadata": {
    "heading_collapsed": true
   },
   "source": [
    "### Light Gradient Boosting Model"
   ]
  },
  {
   "cell_type": "code",
   "execution_count": 53,
   "id": "cf76fea5",
   "metadata": {
    "hidden": true
   },
   "outputs": [
    {
     "name": "stdout",
     "output_type": "stream",
     "text": [
      "Wall time: 3.13 s\n"
     ]
    }
   ],
   "source": [
    "%%time\n",
    "lgb_clsf = lgb.LGBMClassifier(boosting_type='dart')\n",
    "\n",
    "model_lgb = lgb_clsf.fit(X_train,y_train)"
   ]
  },
  {
   "cell_type": "code",
   "execution_count": 54,
   "id": "8ae5fe0d",
   "metadata": {
    "hidden": true
   },
   "outputs": [
    {
     "name": "stdout",
     "output_type": "stream",
     "text": [
      "Accuracy Score on Training Data is    : 0.9771\n",
      "Precision Score on Training Data is   : 0.9762\n",
      "Recall Score on Training Data is      : 0.978\n",
      "Recall Score on Training Data is      : 0.9771\n",
      "Confusion Matrix on Training Data     :\n",
      " [[3242   79]\n",
      " [  73 3247]]\n"
     ]
    }
   ],
   "source": [
    "# predictions on Train Data\n",
    "\n",
    "y_pred_train_lgb = model_lgb.predict(X_train)\n",
    "\n",
    "# metrics\n",
    "\n",
    "lgb_train_accuracy         = np.round(accuracy_score(y_train,y_pred_train_lgb),4)\n",
    "\n",
    "lgb_train_precision        = np.round(precision_score(y_train,y_pred_train_lgb),4)\n",
    "\n",
    "lgb_train_recall           = np.round(recall_score(y_train,y_pred_train_lgb),4)\n",
    "\n",
    "lgb_train_auc              = np.round(roc_auc_score(y_train,y_pred_train_lgb),4)\n",
    "\n",
    "lgb_train_confusion_matrix = confusion_matrix(y_train,y_pred_train_lgb)\n",
    "\n",
    "print(f'Accuracy Score on Training Data is    : {lgb_train_accuracy}')\n",
    "\n",
    "print(f'Precision Score on Training Data is   : {lgb_train_precision}')\n",
    "\n",
    "print(f'Recall Score on Training Data is      : {lgb_train_recall}')\n",
    "\n",
    "print(f'AUC Score on Training Data is         : {lgb_train_auc}')\n",
    "\n",
    "print(f'Confusion Matrix on Training Data     :\\n {lgb_train_confusion_matrix}')"
   ]
  },
  {
   "cell_type": "code",
   "execution_count": 55,
   "id": "33ea5c8c",
   "metadata": {
    "hidden": true
   },
   "outputs": [
    {
     "name": "stdout",
     "output_type": "stream",
     "text": [
      "Accuracy Score on Testing Data is    : 0.9512\n",
      "Precision Score on Testing Data is   : 0.9573\n",
      "Recall Score on Testing Data is      : 0.9446\n",
      "Recall Score on Testing Data is      : 0.9512\n",
      "Confusion Matrix on Testing Data     :\n",
      " [[795  35]\n",
      " [ 46 785]]\n"
     ]
    }
   ],
   "source": [
    "# predictions on Test Data\n",
    "\n",
    "y_pred_test_lgb = model_lgb.predict(X_test)\n",
    "\n",
    "# metrics\n",
    "\n",
    "lgb_test_accuracy         = np.round(accuracy_score(y_test,y_pred_test_lgb),4)\n",
    "\n",
    "lgb_test_precision        = np.round(precision_score(y_test,y_pred_test_lgb),4)\n",
    "\n",
    "lgb_test_recall           = np.round(recall_score(y_test,y_pred_test_lgb),4)\n",
    "\n",
    "lgb_test_auc              = np.round(roc_auc_score(y_test,y_pred_test_lgb),4)\n",
    "\n",
    "lgb_test_confusion_matrix = confusion_matrix(y_test,y_pred_test_lgb)\n",
    "\n",
    "\n",
    "print(f'Accuracy Score on Testing Data is    : {lgb_test_accuracy}')\n",
    "\n",
    "print(f'Precision Score on Testing Data is   : {lgb_test_precision}')\n",
    "\n",
    "print(f'Recall Score on Testing Data is      : {lgb_test_recall}')\n",
    "\n",
    "print(f'AUC Score on Testing Data is         : {lgb_test_auc}')\n",
    "\n",
    "print(f'Confusion Matrix on Testing Data     :\\n {lgb_test_confusion_matrix}') "
   ]
  },
  {
   "cell_type": "code",
   "execution_count": null,
   "id": "d20a9f4b",
   "metadata": {
    "hidden": true
   },
   "outputs": [],
   "source": []
  },
  {
   "cell_type": "markdown",
   "id": "a89bb099",
   "metadata": {},
   "source": [
    "### Scores DF"
   ]
  },
  {
   "cell_type": "code",
   "execution_count": 58,
   "id": "04574fd9",
   "metadata": {},
   "outputs": [],
   "source": [
    "model_score = pd.DataFrame(columns= ['Algorithm','Accuracy_Score_Train','Accuracy_Score_Test','Precision_Score_Train','Precision_Score_Test','Recall_Score_Train','Recall_Score_Test','AUC_Score_Train','AUC_Score_Test','Time'])"
   ]
  },
  {
   "cell_type": "code",
   "execution_count": 59,
   "id": "f7e32962",
   "metadata": {},
   "outputs": [],
   "source": [
    "model_score['Algorithm'] = ['Logistic_Regression','Naive_Bayes','SVM','Decision_Tree','Random_Forest','AdaBoosting','Gradient_Boosting','eXtreme_gb','Light_gb']"
   ]
  },
  {
   "cell_type": "code",
   "execution_count": 63,
   "id": "21ec08ac",
   "metadata": {},
   "outputs": [],
   "source": [
    "model_score['Accuracy_Score_Train'] = [lg_train_accuracy,nb_train_accuracy,svm_train_accuracy,dt_train_accuracy,rf_train_accuracy,ada_train_accuracy,gd_train_accuracy,xgb_train_accuracy,lgb_train_accuracy]"
   ]
  },
  {
   "cell_type": "code",
   "execution_count": 64,
   "id": "ed82a173",
   "metadata": {},
   "outputs": [],
   "source": [
    "model_score['Accuracy_Score_Test'] = [lg_test_accuracy,nb_test_accuracy,svm_test_accuracy,dt_test_accuracy,rf_test_accuracy,ada_test_accuracy,gd_test_accuracy,xgb_test_accuracy,lgb_test_accuracy]"
   ]
  },
  {
   "cell_type": "code",
   "execution_count": 66,
   "id": "5014950a",
   "metadata": {},
   "outputs": [],
   "source": [
    "model_score['Precision_Score_Train'] = [lg_train_precision,nb_train_precision,svm_train_precision,dt_train_precision,rf_train_precision,ada_train_precision,gd_train_precision,xgb_train_precision,lgb_train_precision]\n",
    "model_score['Precision_Score_Test'] = [lg_test_precision,nb_test_precision,svm_test_precision,dt_test_precision,rf_test_precision,ada_test_precision,gd_test_precision,xgb_test_precision,lgb_test_precision]"
   ]
  },
  {
   "cell_type": "code",
   "execution_count": 67,
   "id": "3ac6d7ab",
   "metadata": {},
   "outputs": [],
   "source": [
    "model_score['Recall_Score_Train'] = [lg_train_recall,nb_train_recall,svm_train_recall,dt_train_recall,rf_train_recall,ada_train_recall,gd_train_recall,xgb_train_recall,lgb_train_recall]\n",
    "model_score['Recall_Score_Test'] = [lg_test_recall,nb_test_recall,svm_test_recall,dt_test_recall,rf_test_recall,ada_test_recall,gd_test_recall,xgb_test_recall,lgb_test_recall]"
   ]
  },
  {
   "cell_type": "code",
   "execution_count": 68,
   "id": "875c2ae7",
   "metadata": {},
   "outputs": [],
   "source": [
    "model_score['AUC_Score_Train'] = [lg_train_auc,nb_train_auc,svm_train_auc,dt_train_auc,rf_train_auc,ada_train_auc,gd_train_auc,xgb_train_auc,lgb_train_auc]\n",
    "model_score['AUC_Score_Test'] = [lg_test_auc,nb_test_auc,svm_test_auc,dt_test_auc,rf_test_auc,ada_test_auc,gd_test_auc,xgb_test_auc,lgb_test_auc]"
   ]
  },
  {
   "cell_type": "code",
   "execution_count": 70,
   "id": "2bbb5be6",
   "metadata": {},
   "outputs": [],
   "source": [
    "model_score['Time'] = ['5.98 s','559 ms','2min 22s','19.4 s','3min 28s','9min 42s','1min 24s','53.1 s','3.13 s']"
   ]
  },
  {
   "cell_type": "code",
   "execution_count": 71,
   "id": "82f8276f",
   "metadata": {},
   "outputs": [
    {
     "data": {
      "text/html": [
       "<div>\n",
       "<style scoped>\n",
       "    .dataframe tbody tr th:only-of-type {\n",
       "        vertical-align: middle;\n",
       "    }\n",
       "\n",
       "    .dataframe tbody tr th {\n",
       "        vertical-align: top;\n",
       "    }\n",
       "\n",
       "    .dataframe thead th {\n",
       "        text-align: right;\n",
       "    }\n",
       "</style>\n",
       "<table border=\"1\" class=\"dataframe\">\n",
       "  <thead>\n",
       "    <tr style=\"text-align: right;\">\n",
       "      <th></th>\n",
       "      <th>Algorithm</th>\n",
       "      <th>Accuracy_Score_Train</th>\n",
       "      <th>Accuracy_Score_Test</th>\n",
       "      <th>Precision_Score_Train</th>\n",
       "      <th>Precision_Score_Test</th>\n",
       "      <th>Recall_Score_Train</th>\n",
       "      <th>Recall_Score_Test</th>\n",
       "      <th>AUC_Score_Train</th>\n",
       "      <th>AUC_Score_Test</th>\n",
       "      <th>Time</th>\n",
       "    </tr>\n",
       "  </thead>\n",
       "  <tbody>\n",
       "    <tr>\n",
       "      <th>0</th>\n",
       "      <td>Logistic_Regression</td>\n",
       "      <td>0.9666</td>\n",
       "      <td>0.9380</td>\n",
       "      <td>0.9874</td>\n",
       "      <td>0.9715</td>\n",
       "      <td>0.9452</td>\n",
       "      <td>0.9025</td>\n",
       "      <td>0.9666</td>\n",
       "      <td>0.9380</td>\n",
       "      <td>5.98 s</td>\n",
       "    </tr>\n",
       "    <tr>\n",
       "      <th>1</th>\n",
       "      <td>Naive_Bayes</td>\n",
       "      <td>0.8993</td>\n",
       "      <td>0.8718</td>\n",
       "      <td>0.9356</td>\n",
       "      <td>0.9023</td>\n",
       "      <td>0.8575</td>\n",
       "      <td>0.8339</td>\n",
       "      <td>0.8993</td>\n",
       "      <td>0.8718</td>\n",
       "      <td>559 ms</td>\n",
       "    </tr>\n",
       "    <tr>\n",
       "      <th>2</th>\n",
       "      <td>SVM</td>\n",
       "      <td>0.9923</td>\n",
       "      <td>0.9645</td>\n",
       "      <td>0.9988</td>\n",
       "      <td>0.9923</td>\n",
       "      <td>0.9858</td>\n",
       "      <td>0.9362</td>\n",
       "      <td>0.9923</td>\n",
       "      <td>0.9645</td>\n",
       "      <td>2min 22s</td>\n",
       "    </tr>\n",
       "    <tr>\n",
       "      <th>3</th>\n",
       "      <td>Decision_Tree</td>\n",
       "      <td>0.9988</td>\n",
       "      <td>0.8784</td>\n",
       "      <td>1.0000</td>\n",
       "      <td>0.9037</td>\n",
       "      <td>0.9976</td>\n",
       "      <td>0.8472</td>\n",
       "      <td>0.9988</td>\n",
       "      <td>0.8784</td>\n",
       "      <td>19.4 s</td>\n",
       "    </tr>\n",
       "    <tr>\n",
       "      <th>4</th>\n",
       "      <td>Random_Forest</td>\n",
       "      <td>1.0000</td>\n",
       "      <td>0.9356</td>\n",
       "      <td>1.0000</td>\n",
       "      <td>0.9525</td>\n",
       "      <td>1.0000</td>\n",
       "      <td>0.9170</td>\n",
       "      <td>1.0000</td>\n",
       "      <td>0.9356</td>\n",
       "      <td>3min 28s</td>\n",
       "    </tr>\n",
       "    <tr>\n",
       "      <th>5</th>\n",
       "      <td>AdaBoosting</td>\n",
       "      <td>1.0000</td>\n",
       "      <td>0.9266</td>\n",
       "      <td>1.0000</td>\n",
       "      <td>0.9658</td>\n",
       "      <td>1.0000</td>\n",
       "      <td>0.8845</td>\n",
       "      <td>1.0000</td>\n",
       "      <td>0.9266</td>\n",
       "      <td>9min 42s</td>\n",
       "    </tr>\n",
       "    <tr>\n",
       "      <th>6</th>\n",
       "      <td>Gradient_Boosting</td>\n",
       "      <td>0.9470</td>\n",
       "      <td>0.9278</td>\n",
       "      <td>0.9435</td>\n",
       "      <td>0.9320</td>\n",
       "      <td>0.9509</td>\n",
       "      <td>0.9230</td>\n",
       "      <td>0.9470</td>\n",
       "      <td>0.9278</td>\n",
       "      <td>1min 24s</td>\n",
       "    </tr>\n",
       "    <tr>\n",
       "      <th>7</th>\n",
       "      <td>eXtreme_gb</td>\n",
       "      <td>0.9529</td>\n",
       "      <td>0.9296</td>\n",
       "      <td>0.9479</td>\n",
       "      <td>0.9343</td>\n",
       "      <td>0.9584</td>\n",
       "      <td>0.9242</td>\n",
       "      <td>0.9529</td>\n",
       "      <td>0.9296</td>\n",
       "      <td>53.1 s</td>\n",
       "    </tr>\n",
       "    <tr>\n",
       "      <th>8</th>\n",
       "      <td>Light_gb</td>\n",
       "      <td>0.9771</td>\n",
       "      <td>0.9512</td>\n",
       "      <td>0.9762</td>\n",
       "      <td>0.9573</td>\n",
       "      <td>0.9780</td>\n",
       "      <td>0.9446</td>\n",
       "      <td>0.9771</td>\n",
       "      <td>0.9512</td>\n",
       "      <td>3.13 s</td>\n",
       "    </tr>\n",
       "  </tbody>\n",
       "</table>\n",
       "</div>"
      ],
      "text/plain": [
       "             Algorithm  Accuracy_Score_Train  Accuracy_Score_Test  \\\n",
       "0  Logistic_Regression                0.9666               0.9380   \n",
       "1          Naive_Bayes                0.8993               0.8718   \n",
       "2                  SVM                0.9923               0.9645   \n",
       "3        Decision_Tree                0.9988               0.8784   \n",
       "4        Random_Forest                1.0000               0.9356   \n",
       "5          AdaBoosting                1.0000               0.9266   \n",
       "6    Gradient_Boosting                0.9470               0.9278   \n",
       "7           eXtreme_gb                0.9529               0.9296   \n",
       "8             Light_gb                0.9771               0.9512   \n",
       "\n",
       "   Precision_Score_Train  Precision_Score_Test  Recall_Score_Train  \\\n",
       "0                 0.9874                0.9715              0.9452   \n",
       "1                 0.9356                0.9023              0.8575   \n",
       "2                 0.9988                0.9923              0.9858   \n",
       "3                 1.0000                0.9037              0.9976   \n",
       "4                 1.0000                0.9525              1.0000   \n",
       "5                 1.0000                0.9658              1.0000   \n",
       "6                 0.9435                0.9320              0.9509   \n",
       "7                 0.9479                0.9343              0.9584   \n",
       "8                 0.9762                0.9573              0.9780   \n",
       "\n",
       "   Recall_Score_Test  AUC_Score_Train  AUC_Score_Test      Time  \n",
       "0             0.9025           0.9666          0.9380    5.98 s  \n",
       "1             0.8339           0.8993          0.8718    559 ms  \n",
       "2             0.9362           0.9923          0.9645  2min 22s  \n",
       "3             0.8472           0.9988          0.8784    19.4 s  \n",
       "4             0.9170           1.0000          0.9356  3min 28s  \n",
       "5             0.8845           1.0000          0.9266  9min 42s  \n",
       "6             0.9230           0.9470          0.9278  1min 24s  \n",
       "7             0.9242           0.9529          0.9296    53.1 s  \n",
       "8             0.9446           0.9771          0.9512    3.13 s  "
      ]
     },
     "execution_count": 71,
     "metadata": {},
     "output_type": "execute_result"
    }
   ],
   "source": [
    "model_score"
   ]
  },
  {
   "cell_type": "code",
   "execution_count": null,
   "id": "454d6d9d",
   "metadata": {},
   "outputs": [],
   "source": []
  },
  {
   "cell_type": "code",
   "execution_count": null,
   "id": "fd94cf4d",
   "metadata": {},
   "outputs": [],
   "source": []
  },
  {
   "cell_type": "code",
   "execution_count": null,
   "id": "3c0acd61",
   "metadata": {},
   "outputs": [],
   "source": []
  },
  {
   "cell_type": "code",
   "execution_count": null,
   "id": "3f93855b",
   "metadata": {},
   "outputs": [],
   "source": []
  },
  {
   "cell_type": "code",
   "execution_count": null,
   "id": "838658ca",
   "metadata": {},
   "outputs": [],
   "source": []
  },
  {
   "cell_type": "code",
   "execution_count": null,
   "id": "47222a88",
   "metadata": {},
   "outputs": [],
   "source": []
  }
 ],
 "metadata": {
  "kernelspec": {
   "display_name": "Python 3 (ipykernel)",
   "language": "python",
   "name": "python3"
  },
  "language_info": {
   "codemirror_mode": {
    "name": "ipython",
    "version": 3
   },
   "file_extension": ".py",
   "mimetype": "text/x-python",
   "name": "python",
   "nbconvert_exporter": "python",
   "pygments_lexer": "ipython3",
   "version": "3.9.7"
  },
  "varInspector": {
   "cols": {
    "lenName": 16,
    "lenType": 16,
    "lenVar": 40
   },
   "kernels_config": {
    "python": {
     "delete_cmd_postfix": "",
     "delete_cmd_prefix": "del ",
     "library": "var_list.py",
     "varRefreshCmd": "print(var_dic_list())"
    },
    "r": {
     "delete_cmd_postfix": ") ",
     "delete_cmd_prefix": "rm(",
     "library": "var_list.r",
     "varRefreshCmd": "cat(var_dic_list()) "
    }
   },
   "types_to_exclude": [
    "module",
    "function",
    "builtin_function_or_method",
    "instance",
    "_Feature"
   ],
   "window_display": false
  }
 },
 "nbformat": 4,
 "nbformat_minor": 5
}
