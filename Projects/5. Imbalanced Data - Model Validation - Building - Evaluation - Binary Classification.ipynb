{
 "cells": [
  {
   "cell_type": "code",
   "execution_count": 1,
   "id": "47debabf",
   "metadata": {},
   "outputs": [],
   "source": [
    "import pandas as pd\n",
    "import numpy as np\n",
    "\n",
    "import matplotlib.pyplot as plt\n",
    "%matplotlib inline\n",
    "\n",
    "import seaborn as sns\n",
    "sns.set()"
   ]
  },
  {
   "cell_type": "code",
   "execution_count": 2,
   "id": "944fe15e",
   "metadata": {},
   "outputs": [],
   "source": [
    "# converting it in numerical data - # Countvectorizer, TFIDF\n",
    "\n",
    "from sklearn.feature_extraction.text import CountVectorizer\n",
    "\n",
    "from sklearn.feature_extraction.text import TfidfVectorizer"
   ]
  },
  {
   "cell_type": "code",
   "execution_count": 3,
   "id": "4621fc95",
   "metadata": {},
   "outputs": [],
   "source": [
    "from sklearn.metrics import accuracy_score, confusion_matrix, classification_report, plot_confusion_matrix\n",
    "\n",
    "from sklearn.metrics import precision_score, recall_score,plot_roc_curve, roc_auc_score"
   ]
  },
  {
   "cell_type": "code",
   "execution_count": 4,
   "id": "3af5be7d",
   "metadata": {},
   "outputs": [],
   "source": [
    "import warnings\n",
    "warnings.filterwarnings('ignore')"
   ]
  },
  {
   "cell_type": "code",
   "execution_count": 5,
   "id": "b5984e2c",
   "metadata": {},
   "outputs": [],
   "source": [
    "# Algorithms\n",
    "\n",
    "from sklearn.linear_model import LogisticRegression\n",
    "\n",
    "from sklearn.tree import DecisionTreeClassifier\n",
    "\n",
    "from sklearn.ensemble import RandomForestClassifier,BaggingClassifier, AdaBoostClassifier, GradientBoostingClassifier\n",
    "\n",
    "from sklearn.ensemble import VotingClassifier\n",
    "\n",
    "import xgboost as xgb\n",
    "\n",
    "import lightgbm as lgb\n",
    "\n",
    "\n",
    "from sklearn.svm import SVC\n",
    "\n",
    "from sklearn.neighbors import KNeighborsClassifier\n",
    "\n",
    "from sklearn.naive_bayes import GaussianNB, MultinomialNB,BernoulliNB"
   ]
  },
  {
   "cell_type": "code",
   "execution_count": 6,
   "id": "af37ca37",
   "metadata": {},
   "outputs": [],
   "source": [
    "from sklearn.model_selection import train_test_split, KFold,cross_val_score\n",
    "\n",
    "from sklearn.preprocessing import LabelEncoder\n",
    "\n",
    "from imblearn.over_sampling import SMOTE"
   ]
  },
  {
   "cell_type": "code",
   "execution_count": null,
   "id": "8a270279",
   "metadata": {},
   "outputs": [],
   "source": []
  },
  {
   "cell_type": "code",
   "execution_count": 7,
   "id": "bde85fa9",
   "metadata": {},
   "outputs": [
    {
     "data": {
      "text/html": [
       "<div>\n",
       "<style scoped>\n",
       "    .dataframe tbody tr th:only-of-type {\n",
       "        vertical-align: middle;\n",
       "    }\n",
       "\n",
       "    .dataframe tbody tr th {\n",
       "        vertical-align: top;\n",
       "    }\n",
       "\n",
       "    .dataframe thead th {\n",
       "        text-align: right;\n",
       "    }\n",
       "</style>\n",
       "<table border=\"1\" class=\"dataframe\">\n",
       "  <thead>\n",
       "    <tr style=\"text-align: right;\">\n",
       "      <th></th>\n",
       "      <th>title</th>\n",
       "      <th>rating</th>\n",
       "      <th>body</th>\n",
       "      <th>clean_review</th>\n",
       "      <th>af_sentiment</th>\n",
       "      <th>tb_polarity</th>\n",
       "      <th>Bi_Sentiment</th>\n",
       "      <th>Mul_Sentiment</th>\n",
       "    </tr>\n",
       "  </thead>\n",
       "  <tbody>\n",
       "    <tr>\n",
       "      <th>0</th>\n",
       "      <td>Unreliable earphones with high cost</td>\n",
       "      <td>1.0</td>\n",
       "      <td>This  earphones are unreliable, i bought it be...</td>\n",
       "      <td>earphone unreliable bought day meanwhile right...</td>\n",
       "      <td>10.0</td>\n",
       "      <td>0.377</td>\n",
       "      <td>Positive</td>\n",
       "      <td>Positive</td>\n",
       "    </tr>\n",
       "    <tr>\n",
       "      <th>1</th>\n",
       "      <td>Honest review of an edm music lover</td>\n",
       "      <td>3.0</td>\n",
       "      <td>No doubt it has a great bass and to a great ex...</td>\n",
       "      <td>doubt great bass great extent noise cancellati...</td>\n",
       "      <td>0.0</td>\n",
       "      <td>0.061</td>\n",
       "      <td>Positive</td>\n",
       "      <td>Neutral</td>\n",
       "    </tr>\n",
       "    <tr>\n",
       "      <th>2</th>\n",
       "      <td>Really good and durable.</td>\n",
       "      <td>4.0</td>\n",
       "      <td>i bought itfor 999,I purchased it second time,...</td>\n",
       "      <td>bought itfor purchased second time gifted firs...</td>\n",
       "      <td>22.0</td>\n",
       "      <td>0.536</td>\n",
       "      <td>Positive</td>\n",
       "      <td>Positive</td>\n",
       "    </tr>\n",
       "    <tr>\n",
       "      <th>3</th>\n",
       "      <td>A good earphone but with some issues, read thi...</td>\n",
       "      <td>4.0</td>\n",
       "      <td>I'll get straight to the pros and cons of Boat...</td>\n",
       "      <td>get straight pro con boat rockerz pro bluetoot...</td>\n",
       "      <td>34.0</td>\n",
       "      <td>0.134</td>\n",
       "      <td>Positive</td>\n",
       "      <td>Neutral</td>\n",
       "    </tr>\n",
       "    <tr>\n",
       "      <th>4</th>\n",
       "      <td>Charging port not working</td>\n",
       "      <td>1.0</td>\n",
       "      <td>After 11 days, the charging port isn't working...</td>\n",
       "      <td>day charging port working even return wat know...</td>\n",
       "      <td>1.0</td>\n",
       "      <td>0.136</td>\n",
       "      <td>Positive</td>\n",
       "      <td>Neutral</td>\n",
       "    </tr>\n",
       "    <tr>\n",
       "      <th>...</th>\n",
       "      <td>...</td>\n",
       "      <td>...</td>\n",
       "      <td>...</td>\n",
       "      <td>...</td>\n",
       "      <td>...</td>\n",
       "      <td>...</td>\n",
       "      <td>...</td>\n",
       "      <td>...</td>\n",
       "    </tr>\n",
       "    <tr>\n",
       "      <th>4995</th>\n",
       "      <td>Bad -Don't Buy -Cheating on warranty -Product ...</td>\n",
       "      <td>1.0</td>\n",
       "      <td>Product is malfunctioning after 3 months and a...</td>\n",
       "      <td>product malfunctioning month sending back warr...</td>\n",
       "      <td>0.0</td>\n",
       "      <td>0.000</td>\n",
       "      <td>Positive</td>\n",
       "      <td>Neutral</td>\n",
       "    </tr>\n",
       "    <tr>\n",
       "      <th>4996</th>\n",
       "      <td>Awesome!!</td>\n",
       "      <td>5.0</td>\n",
       "      <td>very nice and smoothly working with good quali...</td>\n",
       "      <td>nice smoothly working good quality sound thankyou</td>\n",
       "      <td>8.0</td>\n",
       "      <td>0.525</td>\n",
       "      <td>Positive</td>\n",
       "      <td>Positive</td>\n",
       "    </tr>\n",
       "    <tr>\n",
       "      <th>4997</th>\n",
       "      <td>A quality peice of bluetooth earphones, batter...</td>\n",
       "      <td>4.0</td>\n",
       "      <td>I am really contented with the headphones, rea...</td>\n",
       "      <td>really contented headphone really good sound q...</td>\n",
       "      <td>-2.0</td>\n",
       "      <td>-0.053</td>\n",
       "      <td>Negative</td>\n",
       "      <td>Negative</td>\n",
       "    </tr>\n",
       "    <tr>\n",
       "      <th>4998</th>\n",
       "      <td>An outstanding pair of wireless earphones - at...</td>\n",
       "      <td>5.0</td>\n",
       "      <td>This product's sound quality is impressive. Th...</td>\n",
       "      <td>product sound quality impressive tagline speak...</td>\n",
       "      <td>8.0</td>\n",
       "      <td>0.328</td>\n",
       "      <td>Positive</td>\n",
       "      <td>Positive</td>\n",
       "    </tr>\n",
       "    <tr>\n",
       "      <th>4999</th>\n",
       "      <td>4 out of 5</td>\n",
       "      <td>3.0</td>\n",
       "      <td>The Rubber/Silicon ear protectors and buts are...</td>\n",
       "      <td>rubber silicon ear protector buts little uncom...</td>\n",
       "      <td>1.0</td>\n",
       "      <td>0.004</td>\n",
       "      <td>Positive</td>\n",
       "      <td>Neutral</td>\n",
       "    </tr>\n",
       "  </tbody>\n",
       "</table>\n",
       "<p>5000 rows × 8 columns</p>\n",
       "</div>"
      ],
      "text/plain": [
       "                                                  title  rating  \\\n",
       "0                   Unreliable earphones with high cost     1.0   \n",
       "1                   Honest review of an edm music lover     3.0   \n",
       "2                              Really good and durable.     4.0   \n",
       "3     A good earphone but with some issues, read thi...     4.0   \n",
       "4                             Charging port not working     1.0   \n",
       "...                                                 ...     ...   \n",
       "4995  Bad -Don't Buy -Cheating on warranty -Product ...     1.0   \n",
       "4996                                          Awesome!!     5.0   \n",
       "4997  A quality peice of bluetooth earphones, batter...     4.0   \n",
       "4998  An outstanding pair of wireless earphones - at...     5.0   \n",
       "4999                                         4 out of 5     3.0   \n",
       "\n",
       "                                                   body  \\\n",
       "0     This  earphones are unreliable, i bought it be...   \n",
       "1     No doubt it has a great bass and to a great ex...   \n",
       "2     i bought itfor 999,I purchased it second time,...   \n",
       "3     I'll get straight to the pros and cons of Boat...   \n",
       "4     After 11 days, the charging port isn't working...   \n",
       "...                                                 ...   \n",
       "4995  Product is malfunctioning after 3 months and a...   \n",
       "4996  very nice and smoothly working with good quali...   \n",
       "4997  I am really contented with the headphones, rea...   \n",
       "4998  This product's sound quality is impressive. Th...   \n",
       "4999  The Rubber/Silicon ear protectors and buts are...   \n",
       "\n",
       "                                           clean_review  af_sentiment  \\\n",
       "0     earphone unreliable bought day meanwhile right...          10.0   \n",
       "1     doubt great bass great extent noise cancellati...           0.0   \n",
       "2     bought itfor purchased second time gifted firs...          22.0   \n",
       "3     get straight pro con boat rockerz pro bluetoot...          34.0   \n",
       "4     day charging port working even return wat know...           1.0   \n",
       "...                                                 ...           ...   \n",
       "4995  product malfunctioning month sending back warr...           0.0   \n",
       "4996  nice smoothly working good quality sound thankyou           8.0   \n",
       "4997  really contented headphone really good sound q...          -2.0   \n",
       "4998  product sound quality impressive tagline speak...           8.0   \n",
       "4999  rubber silicon ear protector buts little uncom...           1.0   \n",
       "\n",
       "      tb_polarity Bi_Sentiment Mul_Sentiment  \n",
       "0           0.377     Positive      Positive  \n",
       "1           0.061     Positive       Neutral  \n",
       "2           0.536     Positive      Positive  \n",
       "3           0.134     Positive       Neutral  \n",
       "4           0.136     Positive       Neutral  \n",
       "...           ...          ...           ...  \n",
       "4995        0.000     Positive       Neutral  \n",
       "4996        0.525     Positive      Positive  \n",
       "4997       -0.053     Negative      Negative  \n",
       "4998        0.328     Positive      Positive  \n",
       "4999        0.004     Positive       Neutral  \n",
       "\n",
       "[5000 rows x 8 columns]"
      ]
     },
     "execution_count": 7,
     "metadata": {},
     "output_type": "execute_result"
    }
   ],
   "source": [
    "sentiment = pd.read_csv('Sentiment_data.csv')\n",
    "\n",
    "sentiment"
   ]
  },
  {
   "cell_type": "code",
   "execution_count": null,
   "id": "4c295474",
   "metadata": {},
   "outputs": [],
   "source": []
  },
  {
   "cell_type": "code",
   "execution_count": 8,
   "id": "3094293e",
   "metadata": {},
   "outputs": [
    {
     "data": {
      "text/html": [
       "<div>\n",
       "<style scoped>\n",
       "    .dataframe tbody tr th:only-of-type {\n",
       "        vertical-align: middle;\n",
       "    }\n",
       "\n",
       "    .dataframe tbody tr th {\n",
       "        vertical-align: top;\n",
       "    }\n",
       "\n",
       "    .dataframe thead th {\n",
       "        text-align: right;\n",
       "    }\n",
       "</style>\n",
       "<table border=\"1\" class=\"dataframe\">\n",
       "  <thead>\n",
       "    <tr style=\"text-align: right;\">\n",
       "      <th></th>\n",
       "      <th>clean_review</th>\n",
       "      <th>Bi_Sentiment</th>\n",
       "    </tr>\n",
       "  </thead>\n",
       "  <tbody>\n",
       "    <tr>\n",
       "      <th>0</th>\n",
       "      <td>earphone unreliable bought day meanwhile right...</td>\n",
       "      <td>Positive</td>\n",
       "    </tr>\n",
       "    <tr>\n",
       "      <th>1</th>\n",
       "      <td>doubt great bass great extent noise cancellati...</td>\n",
       "      <td>Positive</td>\n",
       "    </tr>\n",
       "    <tr>\n",
       "      <th>2</th>\n",
       "      <td>bought itfor purchased second time gifted firs...</td>\n",
       "      <td>Positive</td>\n",
       "    </tr>\n",
       "  </tbody>\n",
       "</table>\n",
       "</div>"
      ],
      "text/plain": [
       "                                        clean_review Bi_Sentiment\n",
       "0  earphone unreliable bought day meanwhile right...     Positive\n",
       "1  doubt great bass great extent noise cancellati...     Positive\n",
       "2  bought itfor purchased second time gifted firs...     Positive"
      ]
     },
     "execution_count": 8,
     "metadata": {},
     "output_type": "execute_result"
    }
   ],
   "source": [
    "sentiment_binary = sentiment[['clean_review','Bi_Sentiment']]\n",
    "\n",
    "sentiment_binary.head(3)"
   ]
  },
  {
   "cell_type": "code",
   "execution_count": 9,
   "id": "39f52ea7",
   "metadata": {
    "scrolled": true
   },
   "outputs": [
    {
     "data": {
      "text/html": [
       "<div>\n",
       "<style scoped>\n",
       "    .dataframe tbody tr th:only-of-type {\n",
       "        vertical-align: middle;\n",
       "    }\n",
       "\n",
       "    .dataframe tbody tr th {\n",
       "        vertical-align: top;\n",
       "    }\n",
       "\n",
       "    .dataframe thead th {\n",
       "        text-align: right;\n",
       "    }\n",
       "</style>\n",
       "<table border=\"1\" class=\"dataframe\">\n",
       "  <thead>\n",
       "    <tr style=\"text-align: right;\">\n",
       "      <th></th>\n",
       "      <th>clean_review</th>\n",
       "      <th>Bi_Sentiment</th>\n",
       "      <th>Labels</th>\n",
       "    </tr>\n",
       "  </thead>\n",
       "  <tbody>\n",
       "    <tr>\n",
       "      <th>0</th>\n",
       "      <td>earphone unreliable bought day meanwhile right...</td>\n",
       "      <td>Positive</td>\n",
       "      <td>1</td>\n",
       "    </tr>\n",
       "    <tr>\n",
       "      <th>1</th>\n",
       "      <td>doubt great bass great extent noise cancellati...</td>\n",
       "      <td>Positive</td>\n",
       "      <td>1</td>\n",
       "    </tr>\n",
       "    <tr>\n",
       "      <th>2</th>\n",
       "      <td>bought itfor purchased second time gifted firs...</td>\n",
       "      <td>Positive</td>\n",
       "      <td>1</td>\n",
       "    </tr>\n",
       "  </tbody>\n",
       "</table>\n",
       "</div>"
      ],
      "text/plain": [
       "                                        clean_review Bi_Sentiment  Labels\n",
       "0  earphone unreliable bought day meanwhile right...     Positive       1\n",
       "1  doubt great bass great extent noise cancellati...     Positive       1\n",
       "2  bought itfor purchased second time gifted firs...     Positive       1"
      ]
     },
     "execution_count": 9,
     "metadata": {},
     "output_type": "execute_result"
    }
   ],
   "source": [
    "label = LabelEncoder()\n",
    "\n",
    "sentiment_binary['Labels'] = label.fit_transform(sentiment_binary['Bi_Sentiment'])\n",
    "\n",
    "sentiment_binary.head(3)"
   ]
  },
  {
   "cell_type": "code",
   "execution_count": null,
   "id": "c1e480f7",
   "metadata": {},
   "outputs": [],
   "source": []
  },
  {
   "cell_type": "code",
   "execution_count": 10,
   "id": "41c752a5",
   "metadata": {},
   "outputs": [],
   "source": [
    "sentiment_binary['clean_review'] = sentiment_binary['clean_review'].apply(lambda x:str(x))"
   ]
  },
  {
   "cell_type": "code",
   "execution_count": null,
   "id": "387f4de4",
   "metadata": {},
   "outputs": [],
   "source": []
  },
  {
   "cell_type": "markdown",
   "id": "03df0ca9",
   "metadata": {},
   "source": [
    "### TFIDF"
   ]
  },
  {
   "cell_type": "code",
   "execution_count": 11,
   "id": "07c1c7ee",
   "metadata": {},
   "outputs": [],
   "source": [
    "tfidf = TfidfVectorizer()\n",
    "\n",
    "array = tfidf.fit_transform(sentiment_binary['clean_review'].values).toarray()"
   ]
  },
  {
   "cell_type": "code",
   "execution_count": 12,
   "id": "fb5a9225",
   "metadata": {},
   "outputs": [
    {
     "data": {
      "text/html": [
       "<div>\n",
       "<style scoped>\n",
       "    .dataframe tbody tr th:only-of-type {\n",
       "        vertical-align: middle;\n",
       "    }\n",
       "\n",
       "    .dataframe tbody tr th {\n",
       "        vertical-align: top;\n",
       "    }\n",
       "\n",
       "    .dataframe thead th {\n",
       "        text-align: right;\n",
       "    }\n",
       "</style>\n",
       "<table border=\"1\" class=\"dataframe\">\n",
       "  <thead>\n",
       "    <tr style=\"text-align: right;\">\n",
       "      <th></th>\n",
       "      <th>aa</th>\n",
       "      <th>aab</th>\n",
       "      <th>aac</th>\n",
       "      <th>aagya</th>\n",
       "      <th>aaj</th>\n",
       "      <th>aaja</th>\n",
       "      <th>aam</th>\n",
       "      <th>aana</th>\n",
       "      <th>aane</th>\n",
       "      <th>aap</th>\n",
       "      <th>...</th>\n",
       "      <th>zip</th>\n",
       "      <th>zipped</th>\n",
       "      <th>zmi</th>\n",
       "      <th>zone</th>\n",
       "      <th>zook</th>\n",
       "      <th>zoom</th>\n",
       "      <th>zoomautomatically</th>\n",
       "      <th>zorin</th>\n",
       "      <th>zthe</th>\n",
       "      <th>zyada</th>\n",
       "    </tr>\n",
       "  </thead>\n",
       "  <tbody>\n",
       "    <tr>\n",
       "      <th>0</th>\n",
       "      <td>0.0</td>\n",
       "      <td>0.0</td>\n",
       "      <td>0.0</td>\n",
       "      <td>0.0</td>\n",
       "      <td>0.0</td>\n",
       "      <td>0.0</td>\n",
       "      <td>0.0</td>\n",
       "      <td>0.0</td>\n",
       "      <td>0.0</td>\n",
       "      <td>0.0</td>\n",
       "      <td>...</td>\n",
       "      <td>0.0</td>\n",
       "      <td>0.0</td>\n",
       "      <td>0.0</td>\n",
       "      <td>0.0</td>\n",
       "      <td>0.0</td>\n",
       "      <td>0.0</td>\n",
       "      <td>0.0</td>\n",
       "      <td>0.0</td>\n",
       "      <td>0.0</td>\n",
       "      <td>0.0</td>\n",
       "    </tr>\n",
       "    <tr>\n",
       "      <th>1</th>\n",
       "      <td>0.0</td>\n",
       "      <td>0.0</td>\n",
       "      <td>0.0</td>\n",
       "      <td>0.0</td>\n",
       "      <td>0.0</td>\n",
       "      <td>0.0</td>\n",
       "      <td>0.0</td>\n",
       "      <td>0.0</td>\n",
       "      <td>0.0</td>\n",
       "      <td>0.0</td>\n",
       "      <td>...</td>\n",
       "      <td>0.0</td>\n",
       "      <td>0.0</td>\n",
       "      <td>0.0</td>\n",
       "      <td>0.0</td>\n",
       "      <td>0.0</td>\n",
       "      <td>0.0</td>\n",
       "      <td>0.0</td>\n",
       "      <td>0.0</td>\n",
       "      <td>0.0</td>\n",
       "      <td>0.0</td>\n",
       "    </tr>\n",
       "    <tr>\n",
       "      <th>2</th>\n",
       "      <td>0.0</td>\n",
       "      <td>0.0</td>\n",
       "      <td>0.0</td>\n",
       "      <td>0.0</td>\n",
       "      <td>0.0</td>\n",
       "      <td>0.0</td>\n",
       "      <td>0.0</td>\n",
       "      <td>0.0</td>\n",
       "      <td>0.0</td>\n",
       "      <td>0.0</td>\n",
       "      <td>...</td>\n",
       "      <td>0.0</td>\n",
       "      <td>0.0</td>\n",
       "      <td>0.0</td>\n",
       "      <td>0.0</td>\n",
       "      <td>0.0</td>\n",
       "      <td>0.0</td>\n",
       "      <td>0.0</td>\n",
       "      <td>0.0</td>\n",
       "      <td>0.0</td>\n",
       "      <td>0.0</td>\n",
       "    </tr>\n",
       "    <tr>\n",
       "      <th>3</th>\n",
       "      <td>0.0</td>\n",
       "      <td>0.0</td>\n",
       "      <td>0.0</td>\n",
       "      <td>0.0</td>\n",
       "      <td>0.0</td>\n",
       "      <td>0.0</td>\n",
       "      <td>0.0</td>\n",
       "      <td>0.0</td>\n",
       "      <td>0.0</td>\n",
       "      <td>0.0</td>\n",
       "      <td>...</td>\n",
       "      <td>0.0</td>\n",
       "      <td>0.0</td>\n",
       "      <td>0.0</td>\n",
       "      <td>0.0</td>\n",
       "      <td>0.0</td>\n",
       "      <td>0.0</td>\n",
       "      <td>0.0</td>\n",
       "      <td>0.0</td>\n",
       "      <td>0.0</td>\n",
       "      <td>0.0</td>\n",
       "    </tr>\n",
       "    <tr>\n",
       "      <th>4</th>\n",
       "      <td>0.0</td>\n",
       "      <td>0.0</td>\n",
       "      <td>0.0</td>\n",
       "      <td>0.0</td>\n",
       "      <td>0.0</td>\n",
       "      <td>0.0</td>\n",
       "      <td>0.0</td>\n",
       "      <td>0.0</td>\n",
       "      <td>0.0</td>\n",
       "      <td>0.0</td>\n",
       "      <td>...</td>\n",
       "      <td>0.0</td>\n",
       "      <td>0.0</td>\n",
       "      <td>0.0</td>\n",
       "      <td>0.0</td>\n",
       "      <td>0.0</td>\n",
       "      <td>0.0</td>\n",
       "      <td>0.0</td>\n",
       "      <td>0.0</td>\n",
       "      <td>0.0</td>\n",
       "      <td>0.0</td>\n",
       "    </tr>\n",
       "    <tr>\n",
       "      <th>...</th>\n",
       "      <td>...</td>\n",
       "      <td>...</td>\n",
       "      <td>...</td>\n",
       "      <td>...</td>\n",
       "      <td>...</td>\n",
       "      <td>...</td>\n",
       "      <td>...</td>\n",
       "      <td>...</td>\n",
       "      <td>...</td>\n",
       "      <td>...</td>\n",
       "      <td>...</td>\n",
       "      <td>...</td>\n",
       "      <td>...</td>\n",
       "      <td>...</td>\n",
       "      <td>...</td>\n",
       "      <td>...</td>\n",
       "      <td>...</td>\n",
       "      <td>...</td>\n",
       "      <td>...</td>\n",
       "      <td>...</td>\n",
       "      <td>...</td>\n",
       "    </tr>\n",
       "    <tr>\n",
       "      <th>4995</th>\n",
       "      <td>0.0</td>\n",
       "      <td>0.0</td>\n",
       "      <td>0.0</td>\n",
       "      <td>0.0</td>\n",
       "      <td>0.0</td>\n",
       "      <td>0.0</td>\n",
       "      <td>0.0</td>\n",
       "      <td>0.0</td>\n",
       "      <td>0.0</td>\n",
       "      <td>0.0</td>\n",
       "      <td>...</td>\n",
       "      <td>0.0</td>\n",
       "      <td>0.0</td>\n",
       "      <td>0.0</td>\n",
       "      <td>0.0</td>\n",
       "      <td>0.0</td>\n",
       "      <td>0.0</td>\n",
       "      <td>0.0</td>\n",
       "      <td>0.0</td>\n",
       "      <td>0.0</td>\n",
       "      <td>0.0</td>\n",
       "    </tr>\n",
       "    <tr>\n",
       "      <th>4996</th>\n",
       "      <td>0.0</td>\n",
       "      <td>0.0</td>\n",
       "      <td>0.0</td>\n",
       "      <td>0.0</td>\n",
       "      <td>0.0</td>\n",
       "      <td>0.0</td>\n",
       "      <td>0.0</td>\n",
       "      <td>0.0</td>\n",
       "      <td>0.0</td>\n",
       "      <td>0.0</td>\n",
       "      <td>...</td>\n",
       "      <td>0.0</td>\n",
       "      <td>0.0</td>\n",
       "      <td>0.0</td>\n",
       "      <td>0.0</td>\n",
       "      <td>0.0</td>\n",
       "      <td>0.0</td>\n",
       "      <td>0.0</td>\n",
       "      <td>0.0</td>\n",
       "      <td>0.0</td>\n",
       "      <td>0.0</td>\n",
       "    </tr>\n",
       "    <tr>\n",
       "      <th>4997</th>\n",
       "      <td>0.0</td>\n",
       "      <td>0.0</td>\n",
       "      <td>0.0</td>\n",
       "      <td>0.0</td>\n",
       "      <td>0.0</td>\n",
       "      <td>0.0</td>\n",
       "      <td>0.0</td>\n",
       "      <td>0.0</td>\n",
       "      <td>0.0</td>\n",
       "      <td>0.0</td>\n",
       "      <td>...</td>\n",
       "      <td>0.0</td>\n",
       "      <td>0.0</td>\n",
       "      <td>0.0</td>\n",
       "      <td>0.0</td>\n",
       "      <td>0.0</td>\n",
       "      <td>0.0</td>\n",
       "      <td>0.0</td>\n",
       "      <td>0.0</td>\n",
       "      <td>0.0</td>\n",
       "      <td>0.0</td>\n",
       "    </tr>\n",
       "    <tr>\n",
       "      <th>4998</th>\n",
       "      <td>0.0</td>\n",
       "      <td>0.0</td>\n",
       "      <td>0.0</td>\n",
       "      <td>0.0</td>\n",
       "      <td>0.0</td>\n",
       "      <td>0.0</td>\n",
       "      <td>0.0</td>\n",
       "      <td>0.0</td>\n",
       "      <td>0.0</td>\n",
       "      <td>0.0</td>\n",
       "      <td>...</td>\n",
       "      <td>0.0</td>\n",
       "      <td>0.0</td>\n",
       "      <td>0.0</td>\n",
       "      <td>0.0</td>\n",
       "      <td>0.0</td>\n",
       "      <td>0.0</td>\n",
       "      <td>0.0</td>\n",
       "      <td>0.0</td>\n",
       "      <td>0.0</td>\n",
       "      <td>0.0</td>\n",
       "    </tr>\n",
       "    <tr>\n",
       "      <th>4999</th>\n",
       "      <td>0.0</td>\n",
       "      <td>0.0</td>\n",
       "      <td>0.0</td>\n",
       "      <td>0.0</td>\n",
       "      <td>0.0</td>\n",
       "      <td>0.0</td>\n",
       "      <td>0.0</td>\n",
       "      <td>0.0</td>\n",
       "      <td>0.0</td>\n",
       "      <td>0.0</td>\n",
       "      <td>...</td>\n",
       "      <td>0.0</td>\n",
       "      <td>0.0</td>\n",
       "      <td>0.0</td>\n",
       "      <td>0.0</td>\n",
       "      <td>0.0</td>\n",
       "      <td>0.0</td>\n",
       "      <td>0.0</td>\n",
       "      <td>0.0</td>\n",
       "      <td>0.0</td>\n",
       "      <td>0.0</td>\n",
       "    </tr>\n",
       "  </tbody>\n",
       "</table>\n",
       "<p>5000 rows × 9946 columns</p>\n",
       "</div>"
      ],
      "text/plain": [
       "       aa  aab  aac  aagya  aaj  aaja  aam  aana  aane  aap  ...  zip  zipped  \\\n",
       "0     0.0  0.0  0.0    0.0  0.0   0.0  0.0   0.0   0.0  0.0  ...  0.0     0.0   \n",
       "1     0.0  0.0  0.0    0.0  0.0   0.0  0.0   0.0   0.0  0.0  ...  0.0     0.0   \n",
       "2     0.0  0.0  0.0    0.0  0.0   0.0  0.0   0.0   0.0  0.0  ...  0.0     0.0   \n",
       "3     0.0  0.0  0.0    0.0  0.0   0.0  0.0   0.0   0.0  0.0  ...  0.0     0.0   \n",
       "4     0.0  0.0  0.0    0.0  0.0   0.0  0.0   0.0   0.0  0.0  ...  0.0     0.0   \n",
       "...   ...  ...  ...    ...  ...   ...  ...   ...   ...  ...  ...  ...     ...   \n",
       "4995  0.0  0.0  0.0    0.0  0.0   0.0  0.0   0.0   0.0  0.0  ...  0.0     0.0   \n",
       "4996  0.0  0.0  0.0    0.0  0.0   0.0  0.0   0.0   0.0  0.0  ...  0.0     0.0   \n",
       "4997  0.0  0.0  0.0    0.0  0.0   0.0  0.0   0.0   0.0  0.0  ...  0.0     0.0   \n",
       "4998  0.0  0.0  0.0    0.0  0.0   0.0  0.0   0.0   0.0  0.0  ...  0.0     0.0   \n",
       "4999  0.0  0.0  0.0    0.0  0.0   0.0  0.0   0.0   0.0  0.0  ...  0.0     0.0   \n",
       "\n",
       "      zmi  zone  zook  zoom  zoomautomatically  zorin  zthe  zyada  \n",
       "0     0.0   0.0   0.0   0.0                0.0    0.0   0.0    0.0  \n",
       "1     0.0   0.0   0.0   0.0                0.0    0.0   0.0    0.0  \n",
       "2     0.0   0.0   0.0   0.0                0.0    0.0   0.0    0.0  \n",
       "3     0.0   0.0   0.0   0.0                0.0    0.0   0.0    0.0  \n",
       "4     0.0   0.0   0.0   0.0                0.0    0.0   0.0    0.0  \n",
       "...   ...   ...   ...   ...                ...    ...   ...    ...  \n",
       "4995  0.0   0.0   0.0   0.0                0.0    0.0   0.0    0.0  \n",
       "4996  0.0   0.0   0.0   0.0                0.0    0.0   0.0    0.0  \n",
       "4997  0.0   0.0   0.0   0.0                0.0    0.0   0.0    0.0  \n",
       "4998  0.0   0.0   0.0   0.0                0.0    0.0   0.0    0.0  \n",
       "4999  0.0   0.0   0.0   0.0                0.0    0.0   0.0    0.0  \n",
       "\n",
       "[5000 rows x 9946 columns]"
      ]
     },
     "execution_count": 12,
     "metadata": {},
     "output_type": "execute_result"
    }
   ],
   "source": [
    "X = pd.DataFrame(data = array, columns= tfidf.get_feature_names())\n",
    "X"
   ]
  },
  {
   "cell_type": "code",
   "execution_count": 13,
   "id": "032cba19",
   "metadata": {},
   "outputs": [],
   "source": [
    "y = sentiment_binary['Labels']"
   ]
  },
  {
   "cell_type": "code",
   "execution_count": null,
   "id": "ce948b63",
   "metadata": {},
   "outputs": [],
   "source": []
  },
  {
   "cell_type": "markdown",
   "id": "793ec7b5",
   "metadata": {},
   "source": [
    "### Checking the Classification Value Counts - Data is Balanced or Not ?"
   ]
  },
  {
   "cell_type": "code",
   "execution_count": 14,
   "id": "bd0c460d",
   "metadata": {
    "scrolled": true
   },
   "outputs": [
    {
     "name": "stdout",
     "output_type": "stream",
     "text": [
      "1    4151\n",
      "0     849\n",
      "Name: Labels, dtype: int64\n"
     ]
    },
    {
     "data": {
      "text/plain": [
       "<AxesSubplot:ylabel='Labels'>"
      ]
     },
     "execution_count": 14,
     "metadata": {},
     "output_type": "execute_result"
    },
    {
     "data": {
      "image/png": "[encoded data removed]",
      "text/plain": [
       "<Figure size 432x288 with 1 Axes>"
      ]
     },
     "metadata": {},
     "output_type": "display_data"
    }
   ],
   "source": [
    "print(y.value_counts())\n",
    "\n",
    "y.value_counts().plot.pie(autopct = '%0.2f%%')"
   ]
  },
  {
   "cell_type": "code",
   "execution_count": null,
   "id": "24bb7a5f",
   "metadata": {},
   "outputs": [],
   "source": [
    "# Data Is Im Balanced Data"
   ]
  },
  {
   "cell_type": "markdown",
   "id": "f00feb7e",
   "metadata": {},
   "source": [
    "### Model Building Without Balancing the Data"
   ]
  },
  {
   "cell_type": "code",
   "execution_count": 15,
   "id": "e937410e",
   "metadata": {},
   "outputs": [],
   "source": [
    "X_train, X_test, y_train, y_test = train_test_split(X,y, test_size=0.2, shuffle=True, random_state=7,stratify=y)"
   ]
  },
  {
   "cell_type": "code",
   "execution_count": 16,
   "id": "638615d1",
   "metadata": {
    "scrolled": true
   },
   "outputs": [
    {
     "name": "stdout",
     "output_type": "stream",
     "text": [
      "1    3321\n",
      "0     679\n",
      "Name: Labels, dtype: int64\n"
     ]
    },
    {
     "data": {
      "text/plain": [
       "<AxesSubplot:ylabel='Labels'>"
      ]
     },
     "execution_count": 16,
     "metadata": {},
     "output_type": "execute_result"
    },
    {
     "data": {
      "image/png": "[encoded data removed]",
      "text/plain": [
       "<Figure size 432x288 with 1 Axes>"
      ]
     },
     "metadata": {},
     "output_type": "display_data"
    }
   ],
   "source": [
    "print(y_train.value_counts())\n",
    "\n",
    "y_train.value_counts().plot.pie(autopct = '%0.2f%%')"
   ]
  },
  {
   "cell_type": "code",
   "execution_count": 17,
   "id": "866e37ad",
   "metadata": {},
   "outputs": [
    {
     "name": "stdout",
     "output_type": "stream",
     "text": [
      "1    830\n",
      "0    170\n",
      "Name: Labels, dtype: int64\n"
     ]
    },
    {
     "data": {
      "text/plain": [
       "<AxesSubplot:ylabel='Labels'>"
      ]
     },
     "execution_count": 17,
     "metadata": {},
     "output_type": "execute_result"
    },
    {
     "data": {
      "image/png": "[encoded data removed]",
      "text/plain": [
       "<Figure size 432x288 with 1 Axes>"
      ]
     },
     "metadata": {},
     "output_type": "display_data"
    }
   ],
   "source": [
    "print(y_test.value_counts())\n",
    "\n",
    "y_test.value_counts().plot.pie(autopct = '%0.2f%%')"
   ]
  },
  {
   "cell_type": "code",
   "execution_count": null,
   "id": "2b484cb4",
   "metadata": {},
   "outputs": [],
   "source": []
  },
  {
   "cell_type": "markdown",
   "id": "983b96f6",
   "metadata": {},
   "source": [
    "## Model Building & Evaluation"
   ]
  },
  {
   "cell_type": "markdown",
   "id": "e01b3241",
   "metadata": {
    "heading_collapsed": true
   },
   "source": [
    "### Logistic Regression"
   ]
  },
  {
   "cell_type": "code",
   "execution_count": 18,
   "id": "f56ca388",
   "metadata": {
    "hidden": true
   },
   "outputs": [
    {
     "name": "stdout",
     "output_type": "stream",
     "text": [
      "Wall time: 1.4 s\n"
     ]
    }
   ],
   "source": [
    "%%time\n",
    "lg = LogisticRegression(class_weight= {0:5,1:1})\n",
    "\n",
    "model_lg = lg.fit(X_train,y_train)\n"
   ]
  },
  {
   "cell_type": "code",
   "execution_count": 19,
   "id": "b7da32c9",
   "metadata": {
    "hidden": true
   },
   "outputs": [
    {
     "name": "stdout",
     "output_type": "stream",
     "text": [
      "Accuracy Score on Training Data is    : 0.9498\n",
      "Precision Score on Training Data is   : 0.999\n",
      "Recall Score on Training Data is      : 0.9404\n",
      "AUC Score on Training Data is         : 0.968\n",
      "Confusion Matrix on Training Data     :\n",
      " [[ 676    3]\n",
      " [ 198 3123]]\n"
     ]
    }
   ],
   "source": [
    "# predictions on Train Data\n",
    "\n",
    "y_pred_train_lg = model_lg.predict(X_train)\n",
    "\n",
    "# metrics\n",
    "\n",
    "lg_train_accuracy         = np.round(accuracy_score(y_train,y_pred_train_lg),4)\n",
    "\n",
    "lg_train_precision        = np.round(precision_score(y_train,y_pred_train_lg),4)\n",
    "\n",
    "lg_train_recall           = np.round(recall_score(y_train,y_pred_train_lg),4)\n",
    "\n",
    "lg_train_auc              = np.round(roc_auc_score(y_train,y_pred_train_lg),4)\n",
    "\n",
    "lg_train_confusion_matrix = confusion_matrix(y_train,y_pred_train_lg)\n",
    "\n",
    "print(f'Accuracy Score on Training Data is    : {lg_train_accuracy}')\n",
    "\n",
    "print(f'Precision Score on Training Data is   : {lg_train_precision}')\n",
    "\n",
    "print(f'Recall Score on Training Data is      : {lg_train_recall}')\n",
    "\n",
    "print(f'AUC Score on Training Data is         : {lg_train_auc}')\n",
    "\n",
    "print(f'Confusion Matrix on Training Data     :\\n {lg_train_confusion_matrix}')"
   ]
  },
  {
   "cell_type": "code",
   "execution_count": 20,
   "id": "258f6206",
   "metadata": {
    "hidden": true
   },
   "outputs": [
    {
     "name": "stdout",
     "output_type": "stream",
     "text": [
      "Accuracy Score on Testing Data is    : 0.904\n",
      "Precision Score on Testing Data is   : 0.9717\n",
      "Recall Score on Testing Data is      : 0.9108\n",
      "Recall Score on Testing Data is      : 0.8907\n",
      "Confusion Matrix on Testing Data     :\n",
      " [[148  22]\n",
      " [ 74 756]]\n"
     ]
    }
   ],
   "source": [
    "# predictions on Test Data\n",
    "\n",
    "y_pred_test_lg = model_lg.predict(X_test)\n",
    "\n",
    "# metrics\n",
    "\n",
    "lg_test_accuracy         = np.round(accuracy_score(y_test,y_pred_test_lg),4)\n",
    "\n",
    "lg_test_precision        = np.round(precision_score(y_test,y_pred_test_lg),4)\n",
    "\n",
    "lg_test_recall           = np.round(recall_score(y_test,y_pred_test_lg),4)\n",
    "\n",
    "lg_test_auc              = np.round(roc_auc_score(y_test,y_pred_test_lg),4)\n",
    "\n",
    "lg_test_confusion_matrix = confusion_matrix(y_test,y_pred_test_lg)\n",
    "\n",
    "print(f'Accuracy Score on Testing Data is    : {lg_test_accuracy}')\n",
    "\n",
    "print(f'Precision Score on Testing Data is   : {lg_test_precision}')\n",
    "\n",
    "print(f'Recall Score on Testing Data is      : {lg_test_recall}')\n",
    "\n",
    "print(f'Recall Score on Testing Data is      : {lg_test_auc}')\n",
    "\n",
    "print(f'Confusion Matrix on Testing Data     :\\n {lg_test_confusion_matrix}')"
   ]
  },
  {
   "cell_type": "code",
   "execution_count": null,
   "id": "fa0f40ca",
   "metadata": {
    "hidden": true
   },
   "outputs": [],
   "source": []
  },
  {
   "cell_type": "markdown",
   "id": "7648cbb8",
   "metadata": {
    "heading_collapsed": true
   },
   "source": [
    "### Naive Bayes"
   ]
  },
  {
   "cell_type": "code",
   "execution_count": 21,
   "id": "cf0cd156",
   "metadata": {
    "hidden": true
   },
   "outputs": [
    {
     "name": "stdout",
     "output_type": "stream",
     "text": [
      "Wall time: 167 ms\n"
     ]
    }
   ],
   "source": [
    "%%time\n",
    "nb = MultinomialNB()\n",
    "\n",
    "model_nb = nb.fit(X_train,y_train)"
   ]
  },
  {
   "cell_type": "code",
   "execution_count": 22,
   "id": "26f5bb06",
   "metadata": {
    "hidden": true
   },
   "outputs": [
    {
     "name": "stdout",
     "output_type": "stream",
     "text": [
      "Accuracy Score on Training Data is    : 0.832\n",
      "Precision Score on Training Data is   : 0.8319\n",
      "Recall Score on Training Data is      : 0.9997\n",
      "AUC Score on Training Data is         : 0.5057\n",
      "Confusion Matrix on Training Data     :\n",
      " [[   8  671]\n",
      " [   1 3320]]\n"
     ]
    }
   ],
   "source": [
    "# predictions on Train Data\n",
    "\n",
    "y_pred_train_nb = model_nb.predict(X_train)\n",
    "\n",
    "# metrics\n",
    "\n",
    "nb_train_accuracy         = np.round(accuracy_score(y_train,y_pred_train_nb),4)\n",
    "\n",
    "nb_train_precision        = np.round(precision_score(y_train,y_pred_train_nb),4)\n",
    "\n",
    "nb_train_recall           = np.round(recall_score(y_train,y_pred_train_nb),4)\n",
    "\n",
    "nb_train_auc              = np.round(roc_auc_score(y_train,y_pred_train_nb),4)\n",
    "\n",
    "nb_train_confusion_matrix = confusion_matrix(y_train,y_pred_train_nb)\n",
    "\n",
    "print(f'Accuracy Score on Training Data is    : {nb_train_accuracy}')\n",
    "\n",
    "print(f'Precision Score on Training Data is   : {nb_train_precision}')\n",
    "\n",
    "print(f'Recall Score on Training Data is      : {nb_train_recall}')\n",
    "\n",
    "print(f'AUC Score on Training Data is         : {nb_train_auc}')\n",
    "\n",
    "print(f'Confusion Matrix on Training Data     :\\n {nb_train_confusion_matrix}')"
   ]
  },
  {
   "cell_type": "code",
   "execution_count": 23,
   "id": "7a2402f7",
   "metadata": {
    "hidden": true
   },
   "outputs": [
    {
     "name": "stdout",
     "output_type": "stream",
     "text": [
      "Accuracy Score on Testing Data is    : 0.829\n",
      "Precision Score on Testing Data is   : 0.8298\n",
      "Recall Score on Testing Data is      : 0.9988\n",
      "AUC Score on Testing Data is         : 0.4994\n",
      "Confusion Matrix on Testing Data     :\n",
      " [[  0 170]\n",
      " [  1 829]]\n"
     ]
    }
   ],
   "source": [
    "# predictions on Test Data\n",
    "\n",
    "y_pred_test_nb = model_nb.predict(X_test)\n",
    "\n",
    "# metrics\n",
    "\n",
    "nb_test_accuracy         = np.round(accuracy_score(y_test,y_pred_test_nb),4)\n",
    "\n",
    "nb_test_precision        = np.round(precision_score(y_test,y_pred_test_nb),4)\n",
    "\n",
    "nb_test_recall           = np.round(recall_score(y_test,y_pred_test_nb),4)\n",
    "\n",
    "nb_test_auc              = np.round(roc_auc_score(y_test,y_pred_test_nb),4)\n",
    "\n",
    "nb_test_confusion_matrix = confusion_matrix(y_test,y_pred_test_nb)\n",
    "\n",
    "print(f'Accuracy Score on Testing Data is    : {nb_test_accuracy}')\n",
    "\n",
    "print(f'Precision Score on Testing Data is   : {nb_test_precision}')\n",
    "\n",
    "print(f'Recall Score on Testing Data is      : {nb_test_recall}')\n",
    "\n",
    "print(f'AUC Score on Testing Data is         : {nb_test_auc}')\n",
    "\n",
    "print(f'Confusion Matrix on Testing Data     :\\n {nb_test_confusion_matrix}')"
   ]
  },
  {
   "cell_type": "code",
   "execution_count": null,
   "id": "3e4a60ac",
   "metadata": {
    "hidden": true
   },
   "outputs": [],
   "source": []
  },
  {
   "cell_type": "markdown",
   "id": "0c870fca",
   "metadata": {
    "heading_collapsed": true
   },
   "source": [
    "### Support Vector Machine"
   ]
  },
  {
   "cell_type": "code",
   "execution_count": 24,
   "id": "f297ffa5",
   "metadata": {
    "hidden": true
   },
   "outputs": [
    {
     "name": "stdout",
     "output_type": "stream",
     "text": [
      "Wall time: 55.8 s\n"
     ]
    }
   ],
   "source": [
    "%%time \n",
    "\n",
    "svm = SVC(kernel='linear')\n",
    "\n",
    "model_svm = svm.fit(X_train,y_train)"
   ]
  },
  {
   "cell_type": "code",
   "execution_count": 25,
   "id": "c9d1d6a9",
   "metadata": {
    "hidden": true
   },
   "outputs": [
    {
     "name": "stdout",
     "output_type": "stream",
     "text": [
      "Accuracy Score on Training Data is    : 0.9775\n",
      "Precision Score on Training Data is   : 0.9761\n",
      "Recall Score on Training Data is      : 0.9973\n",
      "AUC Score on Training Data is         : 0.939\n",
      "Confusion Matrix on Training Data     :\n",
      " [[ 598   81]\n",
      " [   9 3312]]\n"
     ]
    }
   ],
   "source": [
    "# predictions on Train Data\n",
    "\n",
    "y_pred_train_svm = model_svm.predict(X_train)\n",
    "\n",
    "# metrics\n",
    "\n",
    "svm_train_accuracy         = np.round(accuracy_score(y_train,y_pred_train_svm),4)\n",
    "\n",
    "svm_train_precision        = np.round(precision_score(y_train,y_pred_train_svm),4)\n",
    "\n",
    "svm_train_recall           = np.round(recall_score(y_train,y_pred_train_svm),4)\n",
    "\n",
    "svm_train_auc              = np.round(roc_auc_score(y_train,y_pred_train_svm),4)\n",
    "\n",
    "svm_train_confusion_matrix = confusion_matrix(y_train,y_pred_train_svm)\n",
    "\n",
    "print(f'Accuracy Score on Training Data is    : {svm_train_accuracy}')\n",
    "\n",
    "print(f'Precision Score on Training Data is   : {svm_train_precision}')\n",
    "\n",
    "print(f'Recall Score on Training Data is      : {svm_train_recall}')\n",
    "\n",
    "print(f'AUC Score on Training Data is         : {svm_train_auc}')\n",
    "\n",
    "print(f'Confusion Matrix on Training Data     :\\n {svm_train_confusion_matrix}')"
   ]
  },
  {
   "cell_type": "code",
   "execution_count": 26,
   "id": "c815c8e0",
   "metadata": {
    "hidden": true
   },
   "outputs": [
    {
     "name": "stdout",
     "output_type": "stream",
     "text": [
      "Accuracy Score on Testing Data is    : 0.906\n",
      "Precision Score on Testing Data is   : 0.9135\n",
      "Recall Score on Testing Data is      : 0.9795\n",
      "AUC Score on Testing Data is         : 0.7633\n",
      "Confusion Matrix on Testing Data     :\n",
      " [[ 93  77]\n",
      " [ 17 813]]\n"
     ]
    }
   ],
   "source": [
    "# predictions on Test Data\n",
    "\n",
    "y_pred_test_svm = model_svm.predict(X_test)\n",
    "\n",
    "# metrics\n",
    "\n",
    "svm_test_accuracy         = np.round(accuracy_score(y_test,y_pred_test_svm),4)\n",
    "\n",
    "svm_test_precision        = np.round(precision_score(y_test,y_pred_test_svm),4)\n",
    "\n",
    "svm_test_recall           = np.round(recall_score(y_test,y_pred_test_svm),4)\n",
    "\n",
    "svm_test_auc              = np.round(roc_auc_score(y_test,y_pred_test_svm),4)\n",
    "\n",
    "svm_test_confusion_matrix = confusion_matrix(y_test,y_pred_test_svm)\n",
    "\n",
    "print(f'Accuracy Score on Testing Data is    : {svm_test_accuracy}')\n",
    "\n",
    "print(f'Precision Score on Testing Data is   : {svm_test_precision}')\n",
    "\n",
    "print(f'Recall Score on Testing Data is      : {svm_test_recall}')\n",
    "\n",
    "print(f'AUC Score on Testing Data is         : {svm_test_auc}')\n",
    "\n",
    "print(f'Confusion Matrix on Testing Data     :\\n {svm_test_confusion_matrix}')"
   ]
  },
  {
   "cell_type": "code",
   "execution_count": null,
   "id": "f8a1c52b",
   "metadata": {
    "hidden": true
   },
   "outputs": [],
   "source": []
  },
  {
   "cell_type": "code",
   "execution_count": null,
   "id": "41ddfff6",
   "metadata": {
    "hidden": true
   },
   "outputs": [],
   "source": []
  },
  {
   "cell_type": "markdown",
   "id": "2cb3bbac",
   "metadata": {
    "heading_collapsed": true
   },
   "source": [
    "### Decision Tree"
   ]
  },
  {
   "cell_type": "code",
   "execution_count": 27,
   "id": "b5dba68e",
   "metadata": {
    "hidden": true
   },
   "outputs": [
    {
     "name": "stdout",
     "output_type": "stream",
     "text": [
      "Wall time: 23.6 s\n"
     ]
    }
   ],
   "source": [
    "%%time\n",
    "d_tree = DecisionTreeClassifier(criterion= 'gini', min_samples_split= 5, random_state=7, class_weight={0:5,1:1})\n",
    "\n",
    "model_dt = d_tree.fit(X_train,y_train)"
   ]
  },
  {
   "cell_type": "code",
   "execution_count": 28,
   "id": "36ef0ce0",
   "metadata": {
    "hidden": true
   },
   "outputs": [
    {
     "name": "stdout",
     "output_type": "stream",
     "text": [
      "Accuracy Score on Training Data is    : 0.998\n",
      "Precision Score on Training Data is   : 1.0\n",
      "Recall Score on Training Data is      : 0.9976\n",
      "AUC Score on Training Data is         : 0.9988\n",
      "Confusion Matrix on Training Data     :\n",
      " [[ 679    0]\n",
      " [   8 3313]]\n"
     ]
    }
   ],
   "source": [
    "# predictions on Train Data\n",
    "\n",
    "y_pred_train_dt = model_dt.predict(X_train)\n",
    "\n",
    "# metrics\n",
    "\n",
    "dt_train_accuracy         = np.round(accuracy_score(y_train,y_pred_train_dt),4)\n",
    "\n",
    "dt_train_precision        = np.round(precision_score(y_train,y_pred_train_dt),4)\n",
    "\n",
    "dt_train_recall           = np.round(recall_score(y_train,y_pred_train_dt),4)\n",
    "\n",
    "dt_train_auc              = np.round(roc_auc_score(y_train,y_pred_train_dt),4)\n",
    "\n",
    "dt_train_confusion_matrix = confusion_matrix(y_train,y_pred_train_dt)\n",
    "\n",
    "print(f'Accuracy Score on Training Data is    : {dt_train_accuracy}')\n",
    "\n",
    "print(f'Precision Score on Training Data is   : {dt_train_precision}')\n",
    "\n",
    "print(f'Recall Score on Training Data is      : {dt_train_recall}')\n",
    "\n",
    "print(f'AUC Score on Training Data is         : {dt_train_auc}')\n",
    "\n",
    "print(f'Confusion Matrix on Training Data     :\\n {dt_train_confusion_matrix}')"
   ]
  },
  {
   "cell_type": "code",
   "execution_count": 29,
   "id": "d9554c6a",
   "metadata": {
    "hidden": true
   },
   "outputs": [
    {
     "name": "stdout",
     "output_type": "stream",
     "text": [
      "Accuracy Score on Testing Data is    : 0.857\n",
      "Precision Score on Testing Data is   : 0.9215\n",
      "Recall Score on Testing Data is      : 0.9048\n",
      "AUC Score on Testing Data is         : 0.7642\n",
      "Confusion Matrix on Testing Data     :\n",
      " [[106  64]\n",
      " [ 79 751]]\n"
     ]
    }
   ],
   "source": [
    "# predictions on Test Data\n",
    "\n",
    "y_pred_test_dt = model_dt.predict(X_test)\n",
    "\n",
    "# metrics\n",
    "\n",
    "dt_test_accuracy         = np.round(accuracy_score(y_test,y_pred_test_dt),4)\n",
    "\n",
    "dt_test_precision        = np.round(precision_score(y_test,y_pred_test_dt),4)\n",
    "\n",
    "dt_test_recall           = np.round(recall_score(y_test,y_pred_test_dt),4)\n",
    "\n",
    "dt_test_auc              = np.round(roc_auc_score(y_test,y_pred_test_dt),4)\n",
    "\n",
    "dt_test_confusion_matrix = confusion_matrix(y_test,y_pred_test_dt)\n",
    "\n",
    "print(f'Accuracy Score on Testing Data is    : {dt_test_accuracy}')\n",
    "\n",
    "print(f'Precision Score on Testing Data is   : {dt_test_precision}')\n",
    "\n",
    "print(f'Recall Score on Testing Data is      : {dt_test_recall}')\n",
    "\n",
    "print(f'AUC Score on Testing Data is         : {dt_test_auc}')\n",
    "\n",
    "print(f'Confusion Matrix on Testing Data     :\\n {dt_test_confusion_matrix}')"
   ]
  },
  {
   "cell_type": "code",
   "execution_count": null,
   "id": "36e07d35",
   "metadata": {
    "hidden": true
   },
   "outputs": [],
   "source": []
  },
  {
   "cell_type": "code",
   "execution_count": null,
   "id": "0b0d8281",
   "metadata": {
    "hidden": true
   },
   "outputs": [],
   "source": []
  },
  {
   "cell_type": "code",
   "execution_count": null,
   "id": "07c9e9f2",
   "metadata": {
    "hidden": true
   },
   "outputs": [],
   "source": []
  },
  {
   "cell_type": "markdown",
   "id": "963350fa",
   "metadata": {
    "heading_collapsed": true
   },
   "source": [
    "### Random Forest"
   ]
  },
  {
   "cell_type": "code",
   "execution_count": 30,
   "id": "7b157b02",
   "metadata": {
    "hidden": true
   },
   "outputs": [
    {
     "name": "stdout",
     "output_type": "stream",
     "text": [
      "Wall time: 7min 51s\n"
     ]
    }
   ],
   "source": [
    "%%time\n",
    "\n",
    "rf = RandomForestClassifier(n_estimators=100, criterion='gini',max_features= 3300,random_state=7,min_samples_split=5)\n",
    "\n",
    "model_rf = rf.fit(X_train,y_train)"
   ]
  },
  {
   "cell_type": "code",
   "execution_count": 31,
   "id": "336a870e",
   "metadata": {
    "hidden": true
   },
   "outputs": [
    {
     "name": "stdout",
     "output_type": "stream",
     "text": [
      "Accuracy Score on Training Data is    : 1.0\n",
      "Precision Score on Training Data is   : 1.0\n",
      "Recall Score on Training Data is      : 1.0\n",
      "AUC Score on Training Data is         : 1.0\n",
      "Confusion Matrix on Training Data     :\n",
      " [[ 679    0]\n",
      " [   0 3321]]\n"
     ]
    }
   ],
   "source": [
    "# predictions on Train Data\n",
    "\n",
    "y_pred_train_rf = model_rf.predict(X_train)\n",
    "\n",
    "# metrics\n",
    "\n",
    "rf_train_accuracy         = np.round(accuracy_score(y_train,y_pred_train_rf),4)\n",
    "\n",
    "rf_train_precision        = np.round(precision_score(y_train,y_pred_train_rf),4)\n",
    "\n",
    "rf_train_recall           = np.round(recall_score(y_train,y_pred_train_rf),4)\n",
    "\n",
    "rf_train_auc              = np.round(roc_auc_score(y_train,y_pred_train_rf),4)\n",
    "\n",
    "rf_train_confusion_matrix = confusion_matrix(y_train,y_pred_train_rf)\n",
    "\n",
    "print(f'Accuracy Score on Training Data is    : {rf_train_accuracy}')\n",
    "\n",
    "print(f'Precision Score on Training Data is   : {rf_train_precision}')\n",
    "\n",
    "print(f'Recall Score on Training Data is      : {rf_train_recall}')\n",
    "\n",
    "print(f'AUC Score on Training Data is         : {rf_train_auc}')\n",
    "\n",
    "print(f'Confusion Matrix on Training Data     :\\n {rf_train_confusion_matrix}')"
   ]
  },
  {
   "cell_type": "code",
   "execution_count": 32,
   "id": "558d1b5e",
   "metadata": {
    "hidden": true
   },
   "outputs": [
    {
     "name": "stdout",
     "output_type": "stream",
     "text": [
      "Accuracy Score on Testing Data is    : 0.91\n",
      "Precision Score on Testing Data is   : 0.9176\n",
      "Recall Score on Testing Data is      : 0.9795\n",
      "AUC Score on Testing Data is         : 0.7751\n",
      "Confusion Matrix on Testing Data     :\n",
      " [[ 97  73]\n",
      " [ 17 813]]\n"
     ]
    }
   ],
   "source": [
    "# predictions on Test Data\n",
    "\n",
    "y_pred_test_rf = model_rf.predict(X_test)\n",
    "\n",
    "# metrics\n",
    "\n",
    "rf_test_accuracy         = np.round(accuracy_score(y_test,y_pred_test_rf),4)\n",
    "\n",
    "rf_test_precision        = np.round(precision_score(y_test,y_pred_test_rf),4)\n",
    "\n",
    "rf_test_recall           = np.round(recall_score(y_test,y_pred_test_rf),4)\n",
    "\n",
    "rf_test_auc              = np.round(roc_auc_score(y_test,y_pred_test_rf),4)\n",
    "\n",
    "rf_test_confusion_matrix = confusion_matrix(y_test,y_pred_test_rf)\n",
    "\n",
    "print(f'Accuracy Score on Testing Data is    : {rf_test_accuracy}')\n",
    "\n",
    "print(f'Precision Score on Testing Data is   : {rf_test_precision}')\n",
    "\n",
    "print(f'Recall Score on Testing Data is      : {rf_test_recall}')\n",
    "\n",
    "print(f'AUC Score on Testing Data is         : {rf_test_auc}')\n",
    "\n",
    "print(f'Confusion Matrix on Testing Data     :\\n {rf_test_confusion_matrix}')"
   ]
  },
  {
   "cell_type": "code",
   "execution_count": null,
   "id": "ead6f8ee",
   "metadata": {
    "hidden": true
   },
   "outputs": [],
   "source": []
  },
  {
   "cell_type": "code",
   "execution_count": null,
   "id": "56e6c317",
   "metadata": {
    "hidden": true
   },
   "outputs": [],
   "source": []
  },
  {
   "cell_type": "markdown",
   "id": "fa621d61",
   "metadata": {
    "heading_collapsed": true
   },
   "source": [
    "### AdaBoost Model"
   ]
  },
  {
   "cell_type": "code",
   "execution_count": 33,
   "id": "f235b395",
   "metadata": {
    "hidden": true
   },
   "outputs": [
    {
     "name": "stdout",
     "output_type": "stream",
     "text": [
      "Wall time: 31min 38s\n"
     ]
    }
   ],
   "source": [
    "%%time\n",
    "ada = AdaBoostClassifier(base_estimator= d_tree, n_estimators=100, learning_rate= 0.3,random_state=7)\n",
    "\n",
    "model_ada = ada.fit(X_train,y_train)"
   ]
  },
  {
   "cell_type": "code",
   "execution_count": 34,
   "id": "0f51655a",
   "metadata": {
    "hidden": true
   },
   "outputs": [
    {
     "name": "stdout",
     "output_type": "stream",
     "text": [
      "Accuracy Score on Training Data is    : 1.0\n",
      "Precision Score on Training Data is   : 1.0\n",
      "Recall Score on Training Data is      : 1.0\n",
      "AUC Score on Training Data is         : 1.0\n",
      "Confusion Matrix on Training Data     :\n",
      " [[ 679    0]\n",
      " [   0 3321]]\n"
     ]
    }
   ],
   "source": [
    "# predictions on Train Data\n",
    "\n",
    "y_pred_train_ada = model_ada.predict(X_train)\n",
    "\n",
    "# metrics\n",
    "\n",
    "ada_train_accuracy         = np.round(accuracy_score(y_train,y_pred_train_ada),4)\n",
    "\n",
    "ada_train_precision        = np.round(precision_score(y_train,y_pred_train_ada),4)\n",
    "\n",
    "ada_train_recall           = np.round(recall_score(y_train,y_pred_train_ada),4)\n",
    "\n",
    "ada_train_auc              = np.round(roc_auc_score(y_train,y_pred_train_ada),4)\n",
    "\n",
    "ada_train_confusion_matrix = confusion_matrix(y_train,y_pred_train_ada)\n",
    "\n",
    "print(f'Accuracy Score on Training Data is    : {ada_train_accuracy}')\n",
    "\n",
    "print(f'Precision Score on Training Data is   : {ada_train_precision}')\n",
    "\n",
    "print(f'Recall Score on Training Data is      : {ada_train_recall}')\n",
    "\n",
    "print(f'AUC Score on Training Data is         : {ada_train_auc}')\n",
    "\n",
    "print(f'Confusion Matrix on Training Data     :\\n {ada_train_confusion_matrix}')"
   ]
  },
  {
   "cell_type": "code",
   "execution_count": 35,
   "id": "dbcc1cee",
   "metadata": {
    "hidden": true
   },
   "outputs": [
    {
     "name": "stdout",
     "output_type": "stream",
     "text": [
      "Accuracy Score on Testing Data is    : 0.86\n",
      "Precision Score on Testing Data is   : 0.892\n",
      "Recall Score on Testing Data is      : 0.9458\n",
      "AUC Score on Testing Data is         : 0.6935\n",
      "Confusion Matrix on Testing Data     :\n",
      " [[ 75  95]\n",
      " [ 45 785]]\n"
     ]
    }
   ],
   "source": [
    "# predictions on Test Data\n",
    "\n",
    "y_pred_test_ada = model_ada.predict(X_test)\n",
    "\n",
    "# metrics\n",
    "\n",
    "ada_test_accuracy         = np.round(accuracy_score(y_test,y_pred_test_ada),4)\n",
    "\n",
    "ada_test_precision        = np.round(precision_score(y_test,y_pred_test_ada),4)\n",
    "\n",
    "ada_test_recall           = np.round(recall_score(y_test,y_pred_test_ada),4)\n",
    "\n",
    "ada_test_auc              = np.round(roc_auc_score(y_test,y_pred_test_ada),4)\n",
    "\n",
    "ada_test_confusion_matrix = confusion_matrix(y_test,y_pred_test_ada)\n",
    "\n",
    "\n",
    "print(f'Accuracy Score on Testing Data is    : {ada_test_accuracy}')\n",
    "\n",
    "print(f'Precision Score on Testing Data is   : {ada_test_precision}')\n",
    "\n",
    "print(f'Recall Score on Testing Data is      : {ada_test_recall}')\n",
    "\n",
    "print(f'AUC Score on Testing Data is         : {ada_test_auc}')\n",
    "\n",
    "print(f'Confusion Matrix on Testing Data     :\\n {ada_test_confusion_matrix}') "
   ]
  },
  {
   "cell_type": "code",
   "execution_count": null,
   "id": "3f975b85",
   "metadata": {
    "hidden": true
   },
   "outputs": [],
   "source": []
  },
  {
   "cell_type": "code",
   "execution_count": null,
   "id": "262d38c2",
   "metadata": {
    "hidden": true
   },
   "outputs": [],
   "source": []
  },
  {
   "cell_type": "markdown",
   "id": "0fcb690f",
   "metadata": {},
   "source": [
    "### Gradient Boosting Model\n"
   ]
  },
  {
   "cell_type": "code",
   "execution_count": 36,
   "id": "7138b17a",
   "metadata": {},
   "outputs": [
    {
     "name": "stdout",
     "output_type": "stream",
     "text": [
      "Wall time: 9min 21s\n"
     ]
    }
   ],
   "source": [
    "%%time\n",
    "gd = GradientBoostingClassifier(n_estimators=100, learning_rate= 0.1,random_state=7)\n",
    "\n",
    "model_gd = gd.fit(X_train,y_train)"
   ]
  },
  {
   "cell_type": "code",
   "execution_count": 37,
   "id": "9b63d5d3",
   "metadata": {},
   "outputs": [
    {
     "name": "stdout",
     "output_type": "stream",
     "text": [
      "Accuracy Score on Training Data is    : 0.938\n",
      "Precision Score on Training Data is   : 0.9364\n",
      "Recall Score on Training Data is      : 0.9928\n",
      "AUC Score on Training Data is         : 0.8314\n",
      "Confusion Matrix on Training Data     :\n",
      " [[ 455  224]\n",
      " [  24 3297]]\n"
     ]
    }
   ],
   "source": [
    "# predictions on Train Data\n",
    "\n",
    "y_pred_train_gd = model_gd.predict(X_train)\n",
    "\n",
    "# metrics\n",
    "\n",
    "gd_train_accuracy         = np.round(accuracy_score(y_train,y_pred_train_gd),4)\n",
    "\n",
    "gd_train_precision        = np.round(precision_score(y_train,y_pred_train_gd),4)\n",
    "\n",
    "gd_train_recall           = np.round(recall_score(y_train,y_pred_train_gd),4)\n",
    "\n",
    "gd_train_auc              = np.round(roc_auc_score(y_train,y_pred_train_gd),4)\n",
    "\n",
    "gd_train_confusion_matrix = confusion_matrix(y_train,y_pred_train_gd)\n",
    "\n",
    "print(f'Accuracy Score on Training Data is    : {gd_train_accuracy}')\n",
    "\n",
    "print(f'Precision Score on Training Data is   : {gd_train_precision}')\n",
    "\n",
    "print(f'Recall Score on Training Data is      : {gd_train_recall}')\n",
    "\n",
    "print(f'AUC Score on Training Data is         : {gd_train_auc}')\n",
    "\n",
    "print(f'Confusion Matrix on Training Data     :\\n {gd_train_confusion_matrix}')"
   ]
  },
  {
   "cell_type": "code",
   "execution_count": 38,
   "id": "da8cbff3",
   "metadata": {},
   "outputs": [
    {
     "name": "stdout",
     "output_type": "stream",
     "text": [
      "Accuracy Score on Testing Data is    : 0.901\n",
      "Precision Score on Testing Data is   : 0.9039\n",
      "Recall Score on Testing Data is      : 0.9855\n",
      "AUC Score on Testing Data is         : 0.7369\n",
      "Confusion Matrix on Testing Data     :\n",
      " [[ 83  87]\n",
      " [ 12 818]]\n"
     ]
    }
   ],
   "source": [
    "# predictions on Test Data\n",
    "\n",
    "y_pred_test_gd = model_gd.predict(X_test)\n",
    "\n",
    "# metrics\n",
    "\n",
    "gd_test_accuracy         = np.round(accuracy_score(y_test,y_pred_test_gd),4)\n",
    "\n",
    "gd_test_precision        = np.round(precision_score(y_test,y_pred_test_gd),4)\n",
    "\n",
    "gd_test_recall           = np.round(recall_score(y_test,y_pred_test_gd),4)\n",
    "\n",
    "gd_test_auc              = np.round(roc_auc_score(y_test,y_pred_test_gd),4)\n",
    "\n",
    "gd_test_confusion_matrix = confusion_matrix(y_test,y_pred_test_gd)\n",
    "\n",
    "\n",
    "print(f'Accuracy Score on Testing Data is    : {gd_test_accuracy}')\n",
    "\n",
    "print(f'Precision Score on Testing Data is   : {gd_test_precision}')\n",
    "\n",
    "print(f'Recall Score on Testing Data is      : {gd_test_recall}')\n",
    "\n",
    "print(f'AUC Score on Testing Data is         : {gd_test_auc}')\n",
    "\n",
    "print(f'Confusion Matrix on Testing Data     :\\n {gd_test_confusion_matrix}') "
   ]
  },
  {
   "cell_type": "code",
   "execution_count": null,
   "id": "e83a9d22",
   "metadata": {},
   "outputs": [],
   "source": []
  },
  {
   "cell_type": "code",
   "execution_count": null,
   "id": "a5697a12",
   "metadata": {},
   "outputs": [],
   "source": []
  },
  {
   "cell_type": "markdown",
   "id": "d7114b47",
   "metadata": {},
   "source": [
    "### Xtreame Gradient Boosting Model"
   ]
  },
  {
   "cell_type": "code",
   "execution_count": 39,
   "id": "7060ad23",
   "metadata": {
    "scrolled": true
   },
   "outputs": [
    {
     "name": "stdout",
     "output_type": "stream",
     "text": [
      "[16:39:21] WARNING: C:/Users/Administrator/workspace/xgboost-win64_release_1.5.1/src/learner.cc:1115: Starting in XGBoost 1.3.0, the default evaluation metric used with the objective 'binary:logistic' was changed from 'error' to 'logloss'. Explicitly set eval_metric if you'd like to restore the old behavior.\n",
      "Wall time: 1min 34s\n"
     ]
    }
   ],
   "source": [
    "%%time\n",
    "xgb_clsf = xgb.XGBClassifier(learning_rate = 0.3, reg_alpha= 0, reg_lambda = 1,gamma = 10)\n",
    "\n",
    "model_xgb = xgb_clsf.fit(X_train, y_train)"
   ]
  },
  {
   "cell_type": "code",
   "execution_count": 40,
   "id": "56bf744d",
   "metadata": {},
   "outputs": [
    {
     "name": "stdout",
     "output_type": "stream",
     "text": [
      "Accuracy Score on Training Data is    : 0.9258\n",
      "Precision Score on Training Data is   : 0.9281\n",
      "Recall Score on Training Data is      : 0.9871\n",
      "AUC Score on Training Data is         : 0.8065\n",
      "Confusion Matrix on Training Data     :\n",
      " [[ 425  254]\n",
      " [  43 3278]]\n"
     ]
    }
   ],
   "source": [
    "# predictions on Train Data\n",
    "\n",
    "y_pred_train_xgb = model_xgb.predict(X_train)\n",
    "\n",
    "# metrics\n",
    "\n",
    "xgb_train_accuracy         = np.round(accuracy_score(y_train,y_pred_train_xgb),4)\n",
    "\n",
    "xgb_train_precision        = np.round(precision_score(y_train,y_pred_train_xgb),4)\n",
    "\n",
    "xgb_train_recall           = np.round(recall_score(y_train,y_pred_train_xgb),4)\n",
    "\n",
    "xgb_train_auc              = np.round(roc_auc_score(y_train,y_pred_train_xgb),4)\n",
    "\n",
    "xgb_train_confusion_matrix = confusion_matrix(y_train,y_pred_train_xgb)\n",
    "\n",
    "print(f'Accuracy Score on Training Data is    : {xgb_train_accuracy}')\n",
    "\n",
    "print(f'Precision Score on Training Data is   : {xgb_train_precision}')\n",
    "\n",
    "print(f'Recall Score on Training Data is      : {xgb_train_recall}')\n",
    "\n",
    "print(f'AUC Score on Training Data is         : {xgb_train_auc}')\n",
    "\n",
    "print(f'Confusion Matrix on Training Data     :\\n {xgb_train_confusion_matrix}')"
   ]
  },
  {
   "cell_type": "code",
   "execution_count": 41,
   "id": "d1fb8812",
   "metadata": {},
   "outputs": [
    {
     "name": "stdout",
     "output_type": "stream",
     "text": [
      "Accuracy Score on Testing Data is    : 0.912\n",
      "Precision Score on Testing Data is   : 0.9159\n",
      "Recall Score on Testing Data is      : 0.9843\n",
      "AUC Score on Testing Data is         : 0.7716\n",
      "Confusion Matrix on Testing Data     :\n",
      " [[ 95  75]\n",
      " [ 13 817]]\n"
     ]
    }
   ],
   "source": [
    "# predictions on Test Data\n",
    "\n",
    "y_pred_test_xgb = model_xgb.predict(X_test)\n",
    "\n",
    "# metrics\n",
    "\n",
    "xgb_test_accuracy         = np.round(accuracy_score(y_test,y_pred_test_xgb),4)\n",
    "\n",
    "xgb_test_precision        = np.round(precision_score(y_test,y_pred_test_xgb),4)\n",
    "\n",
    "xgb_test_recall           = np.round(recall_score(y_test,y_pred_test_xgb),4)\n",
    "\n",
    "xgb_test_auc              = np.round(roc_auc_score(y_test,y_pred_test_xgb),4)\n",
    "\n",
    "xgb_test_confusion_matrix = confusion_matrix(y_test,y_pred_test_xgb)\n",
    "\n",
    "\n",
    "print(f'Accuracy Score on Testing Data is    : {xgb_test_accuracy}')\n",
    "\n",
    "print(f'Precision Score on Testing Data is   : {xgb_test_precision}')\n",
    "\n",
    "print(f'Recall Score on Testing Data is      : {xgb_test_recall}')\n",
    "\n",
    "print(f'AUC Score on Testing Data is         : {xgb_test_auc}')\n",
    "\n",
    "print(f'Confusion Matrix on Testing Data     :\\n {xgb_test_confusion_matrix}') "
   ]
  },
  {
   "cell_type": "code",
   "execution_count": null,
   "id": "b0912594",
   "metadata": {},
   "outputs": [],
   "source": []
  },
  {
   "cell_type": "code",
   "execution_count": null,
   "id": "ebb07e8a",
   "metadata": {},
   "outputs": [],
   "source": []
  },
  {
   "cell_type": "markdown",
   "id": "fafd72a2",
   "metadata": {},
   "source": [
    "### Light Gradient Boosting Model"
   ]
  },
  {
   "cell_type": "code",
   "execution_count": 42,
   "id": "fcdb260b",
   "metadata": {},
   "outputs": [
    {
     "name": "stdout",
     "output_type": "stream",
     "text": [
      "Wall time: 6.02 s\n"
     ]
    }
   ],
   "source": [
    "%%time\n",
    "lgb_clsf = lgb.LGBMClassifier(boosting_type='dart')\n",
    "\n",
    "model_lgb = lgb_clsf.fit(X_train,y_train)"
   ]
  },
  {
   "cell_type": "code",
   "execution_count": 43,
   "id": "49983ca3",
   "metadata": {},
   "outputs": [
    {
     "name": "stdout",
     "output_type": "stream",
     "text": [
      "Accuracy Score on Training Data is    : 0.9765\n",
      "Precision Score on Training Data is   : 0.9764\n",
      "Recall Score on Training Data is      : 0.9958\n",
      "AUC Score on Training Data is         : 0.939\n",
      "Confusion Matrix on Training Data     :\n",
      " [[ 599   80]\n",
      " [  14 3307]]\n"
     ]
    }
   ],
   "source": [
    "# predictions on Train Data\n",
    "\n",
    "y_pred_train_lgb = model_lgb.predict(X_train)\n",
    "\n",
    "# metrics\n",
    "\n",
    "lgb_train_accuracy         = np.round(accuracy_score(y_train,y_pred_train_lgb),4)\n",
    "\n",
    "lgb_train_precision        = np.round(precision_score(y_train,y_pred_train_lgb),4)\n",
    "\n",
    "lgb_train_recall           = np.round(recall_score(y_train,y_pred_train_lgb),4)\n",
    "\n",
    "lgb_train_auc              = np.round(roc_auc_score(y_train,y_pred_train_lgb),4)\n",
    "\n",
    "lgb_train_confusion_matrix = confusion_matrix(y_train,y_pred_train_lgb)\n",
    "\n",
    "print(f'Accuracy Score on Training Data is    : {lgb_train_accuracy}')\n",
    "\n",
    "print(f'Precision Score on Training Data is   : {lgb_train_precision}')\n",
    "\n",
    "print(f'Recall Score on Training Data is      : {lgb_train_recall}')\n",
    "\n",
    "print(f'AUC Score on Training Data is         : {lgb_train_auc}')\n",
    "\n",
    "print(f'Confusion Matrix on Training Data     :\\n {lgb_train_confusion_matrix}')"
   ]
  },
  {
   "cell_type": "code",
   "execution_count": 44,
   "id": "dee71566",
   "metadata": {},
   "outputs": [
    {
     "name": "stdout",
     "output_type": "stream",
     "text": [
      "Accuracy Score on Testing Data is    : 0.928\n",
      "Precision Score on Testing Data is   : 0.9376\n",
      "Recall Score on Testing Data is      : 0.9783\n",
      "AUC Score on Testing Data is         : 0.8303\n",
      "Confusion Matrix on Testing Data     :\n",
      " [[116  54]\n",
      " [ 18 812]]\n"
     ]
    }
   ],
   "source": [
    "# predictions on Test Data\n",
    "\n",
    "y_pred_test_lgb = model_lgb.predict(X_test)\n",
    "\n",
    "# metrics\n",
    "\n",
    "lgb_test_accuracy         = np.round(accuracy_score(y_test,y_pred_test_lgb),4)\n",
    "\n",
    "lgb_test_precision        = np.round(precision_score(y_test,y_pred_test_lgb),4)\n",
    "\n",
    "lgb_test_recall           = np.round(recall_score(y_test,y_pred_test_lgb),4)\n",
    "\n",
    "lgb_test_auc              = np.round(roc_auc_score(y_test,y_pred_test_lgb),4)\n",
    "\n",
    "lgb_test_confusion_matrix = confusion_matrix(y_test,y_pred_test_lgb)\n",
    "\n",
    "\n",
    "print(f'Accuracy Score on Testing Data is    : {lgb_test_accuracy}')\n",
    "\n",
    "print(f'Precision Score on Testing Data is   : {lgb_test_precision}')\n",
    "\n",
    "print(f'Recall Score on Testing Data is      : {lgb_test_recall}')\n",
    "\n",
    "print(f'AUC Score on Testing Data is         : {lgb_test_auc}')\n",
    "\n",
    "print(f'Confusion Matrix on Testing Data     :\\n {lgb_test_confusion_matrix}') "
   ]
  },
  {
   "cell_type": "code",
   "execution_count": null,
   "id": "0053221c",
   "metadata": {},
   "outputs": [],
   "source": []
  },
  {
   "cell_type": "code",
   "execution_count": null,
   "id": "f2e62fe9",
   "metadata": {},
   "outputs": [],
   "source": []
  },
  {
   "cell_type": "markdown",
   "id": "ac60a7f7",
   "metadata": {},
   "source": [
    "### Scores DF"
   ]
  },
  {
   "cell_type": "code",
   "execution_count": 45,
   "id": "144d4dc1",
   "metadata": {},
   "outputs": [],
   "source": [
    "model_score = pd.DataFrame(columns= ['Algorithm','Accuracy_Score_Train','Accuracy_Score_Test','Precision_Score_Train','Precision_Score_Test','Recall_Score_Train','Recall_Score_Test','AUC_Score_Train','AUC_Score_Test','Time'])"
   ]
  },
  {
   "cell_type": "code",
   "execution_count": 46,
   "id": "51c50b8d",
   "metadata": {},
   "outputs": [],
   "source": [
    "model_score['Algorithm'] = ['Logistic_Regression','Naive_Bayes','SVM','Decision_Tree','Random_Forest','AdaBoosting','Gradient_Boosting','eXtreme_gb','Light_gb']"
   ]
  },
  {
   "cell_type": "code",
   "execution_count": 47,
   "id": "7cea97ca",
   "metadata": {},
   "outputs": [],
   "source": [
    "model_score['Accuracy_Score_Train'] = [lg_train_accuracy,nb_train_accuracy,svm_train_accuracy,dt_train_accuracy,rf_train_accuracy,ada_train_accuracy,gd_train_accuracy,xgb_train_accuracy,lgb_train_accuracy]\n",
    "model_score['Accuracy_Score_Test'] = [lg_test_accuracy,nb_test_accuracy,svm_test_accuracy,dt_test_accuracy,rf_test_accuracy,ada_test_accuracy,gd_test_accuracy,xgb_test_accuracy,lgb_test_accuracy]"
   ]
  },
  {
   "cell_type": "code",
   "execution_count": 48,
   "id": "36eaec3c",
   "metadata": {},
   "outputs": [],
   "source": [
    "model_score['Precision_Score_Train'] = [lg_train_precision,nb_train_precision,svm_train_precision,dt_train_precision,rf_train_precision,ada_train_precision,gd_train_precision,xgb_train_precision,lgb_train_precision]\n",
    "model_score['Precision_Score_Test'] = [lg_test_precision,nb_test_precision,svm_test_precision,dt_test_precision,rf_test_precision,ada_test_precision,gd_test_precision,xgb_test_precision,lgb_test_precision]"
   ]
  },
  {
   "cell_type": "code",
   "execution_count": 49,
   "id": "3752a509",
   "metadata": {},
   "outputs": [],
   "source": [
    "model_score['Recall_Score_Train'] = [lg_train_recall,nb_train_recall,svm_train_recall,dt_train_recall,rf_train_recall,ada_train_recall,gd_train_recall,xgb_train_recall,lgb_train_recall]\n",
    "model_score['Recall_Score_Test'] = [lg_test_recall,nb_test_recall,svm_test_recall,dt_test_recall,rf_test_recall,ada_test_recall,gd_test_recall,xgb_test_recall,lgb_test_recall]"
   ]
  },
  {
   "cell_type": "code",
   "execution_count": 50,
   "id": "a25dcdcb",
   "metadata": {},
   "outputs": [],
   "source": [
    "model_score['AUC_Score_Train'] = [lg_train_auc,nb_train_auc,svm_train_auc,dt_train_auc,rf_train_auc,ada_train_auc,gd_train_auc,xgb_train_auc,lgb_train_auc]\n",
    "model_score['AUC_Score_Test'] = [lg_test_auc,nb_test_auc,svm_test_auc,dt_test_auc,rf_test_auc,ada_test_auc,gd_test_auc,xgb_test_auc,lgb_test_auc]"
   ]
  },
  {
   "cell_type": "code",
   "execution_count": 51,
   "id": "cd7c5890",
   "metadata": {},
   "outputs": [],
   "source": [
    "model_score['Time'] = ['1.4 s','167 ms','55.8 s','23.6 s','7min 51s','31min 38s','9min 21s','1min 34s','6.02 s']"
   ]
  },
  {
   "cell_type": "code",
   "execution_count": 52,
   "id": "9ec3f55c",
   "metadata": {},
   "outputs": [
    {
     "data": {
      "text/html": [
       "<div>\n",
       "<style scoped>\n",
       "    .dataframe tbody tr th:only-of-type {\n",
       "        vertical-align: middle;\n",
       "    }\n",
       "\n",
       "    .dataframe tbody tr th {\n",
       "        vertical-align: top;\n",
       "    }\n",
       "\n",
       "    .dataframe thead th {\n",
       "        text-align: right;\n",
       "    }\n",
       "</style>\n",
       "<table border=\"1\" class=\"dataframe\">\n",
       "  <thead>\n",
       "    <tr style=\"text-align: right;\">\n",
       "      <th></th>\n",
       "      <th>Algorithm</th>\n",
       "      <th>Accuracy_Score_Train</th>\n",
       "      <th>Accuracy_Score_Test</th>\n",
       "      <th>Precision_Score_Train</th>\n",
       "      <th>Precision_Score_Test</th>\n",
       "      <th>Recall_Score_Train</th>\n",
       "      <th>Recall_Score_Test</th>\n",
       "      <th>AUC_Score_Train</th>\n",
       "      <th>AUC_Score_Test</th>\n",
       "      <th>Time</th>\n",
       "    </tr>\n",
       "  </thead>\n",
       "  <tbody>\n",
       "    <tr>\n",
       "      <th>0</th>\n",
       "      <td>Logistic_Regression</td>\n",
       "      <td>0.9498</td>\n",
       "      <td>0.904</td>\n",
       "      <td>0.9990</td>\n",
       "      <td>0.9717</td>\n",
       "      <td>0.9404</td>\n",
       "      <td>0.9108</td>\n",
       "      <td>0.9680</td>\n",
       "      <td>0.8907</td>\n",
       "      <td>1.4 s</td>\n",
       "    </tr>\n",
       "    <tr>\n",
       "      <th>1</th>\n",
       "      <td>Naive_Bayes</td>\n",
       "      <td>0.8320</td>\n",
       "      <td>0.829</td>\n",
       "      <td>0.8319</td>\n",
       "      <td>0.8298</td>\n",
       "      <td>0.9997</td>\n",
       "      <td>0.9988</td>\n",
       "      <td>0.5057</td>\n",
       "      <td>0.4994</td>\n",
       "      <td>167 ms</td>\n",
       "    </tr>\n",
       "    <tr>\n",
       "      <th>2</th>\n",
       "      <td>SVM</td>\n",
       "      <td>0.9775</td>\n",
       "      <td>0.906</td>\n",
       "      <td>0.9761</td>\n",
       "      <td>0.9135</td>\n",
       "      <td>0.9973</td>\n",
       "      <td>0.9795</td>\n",
       "      <td>0.9390</td>\n",
       "      <td>0.7633</td>\n",
       "      <td>55.8 s</td>\n",
       "    </tr>\n",
       "    <tr>\n",
       "      <th>3</th>\n",
       "      <td>Decision_Tree</td>\n",
       "      <td>0.9980</td>\n",
       "      <td>0.857</td>\n",
       "      <td>1.0000</td>\n",
       "      <td>0.9215</td>\n",
       "      <td>0.9976</td>\n",
       "      <td>0.9048</td>\n",
       "      <td>0.9988</td>\n",
       "      <td>0.7642</td>\n",
       "      <td>23.6 s</td>\n",
       "    </tr>\n",
       "    <tr>\n",
       "      <th>4</th>\n",
       "      <td>Random_Forest</td>\n",
       "      <td>1.0000</td>\n",
       "      <td>0.910</td>\n",
       "      <td>1.0000</td>\n",
       "      <td>0.9176</td>\n",
       "      <td>1.0000</td>\n",
       "      <td>0.9795</td>\n",
       "      <td>1.0000</td>\n",
       "      <td>0.7751</td>\n",
       "      <td>7min 51s</td>\n",
       "    </tr>\n",
       "    <tr>\n",
       "      <th>5</th>\n",
       "      <td>AdaBoosting</td>\n",
       "      <td>1.0000</td>\n",
       "      <td>0.860</td>\n",
       "      <td>1.0000</td>\n",
       "      <td>0.8920</td>\n",
       "      <td>1.0000</td>\n",
       "      <td>0.9458</td>\n",
       "      <td>1.0000</td>\n",
       "      <td>0.6935</td>\n",
       "      <td>31min 38s</td>\n",
       "    </tr>\n",
       "    <tr>\n",
       "      <th>6</th>\n",
       "      <td>Gradient_Boosting</td>\n",
       "      <td>0.9380</td>\n",
       "      <td>0.901</td>\n",
       "      <td>0.9364</td>\n",
       "      <td>0.9039</td>\n",
       "      <td>0.9928</td>\n",
       "      <td>0.9855</td>\n",
       "      <td>0.8314</td>\n",
       "      <td>0.7369</td>\n",
       "      <td>9min 21s</td>\n",
       "    </tr>\n",
       "    <tr>\n",
       "      <th>7</th>\n",
       "      <td>eXtreme_gb</td>\n",
       "      <td>0.9258</td>\n",
       "      <td>0.912</td>\n",
       "      <td>0.9281</td>\n",
       "      <td>0.9159</td>\n",
       "      <td>0.9871</td>\n",
       "      <td>0.9843</td>\n",
       "      <td>0.8065</td>\n",
       "      <td>0.7716</td>\n",
       "      <td>1min 34s</td>\n",
       "    </tr>\n",
       "    <tr>\n",
       "      <th>8</th>\n",
       "      <td>Light_gb</td>\n",
       "      <td>0.9765</td>\n",
       "      <td>0.928</td>\n",
       "      <td>0.9764</td>\n",
       "      <td>0.9376</td>\n",
       "      <td>0.9958</td>\n",
       "      <td>0.9783</td>\n",
       "      <td>0.9390</td>\n",
       "      <td>0.8303</td>\n",
       "      <td>6.02 s</td>\n",
       "    </tr>\n",
       "  </tbody>\n",
       "</table>\n",
       "</div>"
      ],
      "text/plain": [
       "             Algorithm  Accuracy_Score_Train  Accuracy_Score_Test  \\\n",
       "0  Logistic_Regression                0.9498                0.904   \n",
       "1          Naive_Bayes                0.8320                0.829   \n",
       "2                  SVM                0.9775                0.906   \n",
       "3        Decision_Tree                0.9980                0.857   \n",
       "4        Random_Forest                1.0000                0.910   \n",
       "5          AdaBoosting                1.0000                0.860   \n",
       "6    Gradient_Boosting                0.9380                0.901   \n",
       "7           eXtreme_gb                0.9258                0.912   \n",
       "8             Light_gb                0.9765                0.928   \n",
       "\n",
       "   Precision_Score_Train  Precision_Score_Test  Recall_Score_Train  \\\n",
       "0                 0.9990                0.9717              0.9404   \n",
       "1                 0.8319                0.8298              0.9997   \n",
       "2                 0.9761                0.9135              0.9973   \n",
       "3                 1.0000                0.9215              0.9976   \n",
       "4                 1.0000                0.9176              1.0000   \n",
       "5                 1.0000                0.8920              1.0000   \n",
       "6                 0.9364                0.9039              0.9928   \n",
       "7                 0.9281                0.9159              0.9871   \n",
       "8                 0.9764                0.9376              0.9958   \n",
       "\n",
       "   Recall_Score_Test  AUC_Score_Train  AUC_Score_Test       Time  \n",
       "0             0.9108           0.9680          0.8907      1.4 s  \n",
       "1             0.9988           0.5057          0.4994     167 ms  \n",
       "2             0.9795           0.9390          0.7633     55.8 s  \n",
       "3             0.9048           0.9988          0.7642     23.6 s  \n",
       "4             0.9795           1.0000          0.7751   7min 51s  \n",
       "5             0.9458           1.0000          0.6935  31min 38s  \n",
       "6             0.9855           0.8314          0.7369   9min 21s  \n",
       "7             0.9843           0.8065          0.7716   1min 34s  \n",
       "8             0.9783           0.9390          0.8303     6.02 s  "
      ]
     },
     "execution_count": 52,
     "metadata": {},
     "output_type": "execute_result"
    }
   ],
   "source": [
    "model_score"
   ]
  },
  {
   "cell_type": "code",
   "execution_count": null,
   "id": "9dd8a7f8",
   "metadata": {},
   "outputs": [],
   "source": []
  },
  {
   "cell_type": "code",
   "execution_count": 53,
   "id": "1b5f5e35",
   "metadata": {},
   "outputs": [],
   "source": [
    "model_score.to_csv('Imalanced_data_score.csv',index=False)"
   ]
  },
  {
   "cell_type": "code",
   "execution_count": null,
   "id": "3b4dae3e",
   "metadata": {},
   "outputs": [],
   "source": []
  },
  {
   "cell_type": "code",
   "execution_count": null,
   "id": "2f384e65",
   "metadata": {},
   "outputs": [],
   "source": []
  },
  {
   "cell_type": "code",
   "execution_count": null,
   "id": "23ace695",
   "metadata": {},
   "outputs": [],
   "source": []
  },
  {
   "cell_type": "code",
   "execution_count": null,
   "id": "f917e9b7",
   "metadata": {},
   "outputs": [],
   "source": []
  },
  {
   "cell_type": "code",
   "execution_count": null,
   "id": "c80f7006",
   "metadata": {},
   "outputs": [],
   "source": []
  },
  {
   "cell_type": "code",
   "execution_count": null,
   "id": "a62863c4",
   "metadata": {},
   "outputs": [],
   "source": []
  },
  {
   "cell_type": "code",
   "execution_count": null,
   "id": "898fe041",
   "metadata": {},
   "outputs": [],
   "source": []
  },
  {
   "cell_type": "code",
   "execution_count": null,
   "id": "6a2c61ac",
   "metadata": {},
   "outputs": [],
   "source": []
  },
  {
   "cell_type": "code",
   "execution_count": null,
   "id": "58b90102",
   "metadata": {},
   "outputs": [],
   "source": []
  },
  {
   "cell_type": "code",
   "execution_count": null,
   "id": "82181db6",
   "metadata": {},
   "outputs": [],
   "source": []
  }
 ],
 "metadata": {
  "kernelspec": {
   "display_name": "Python 3 (ipykernel)",
   "language": "python",
   "name": "python3"
  },
  "language_info": {
   "codemirror_mode": {
    "name": "ipython",
    "version": 3
   },
   "file_extension": ".py",
   "mimetype": "text/x-python",
   "name": "python",
   "nbconvert_exporter": "python",
   "pygments_lexer": "ipython3",
   "version": "3.9.7"
  },
  "varInspector": {
   "cols": {
    "lenName": 16,
    "lenType": 16,
    "lenVar": 40
   },
   "kernels_config": {
    "python": {
     "delete_cmd_postfix": "",
     "delete_cmd_prefix": "del ",
     "library": "var_list.py",
     "varRefreshCmd": "print(var_dic_list())"
    },
    "r": {
     "delete_cmd_postfix": ") ",
     "delete_cmd_prefix": "rm(",
     "library": "var_list.r",
     "varRefreshCmd": "cat(var_dic_list()) "
    }
   },
   "types_to_exclude": [
    "module",
    "function",
    "builtin_function_or_method",
    "instance",
    "_Feature"
   ],
   "window_display": false
  }
 },
 "nbformat": 4,
 "nbformat_minor": 5
}
