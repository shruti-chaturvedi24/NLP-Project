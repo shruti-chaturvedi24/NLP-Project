{
 "cells": [
  {
   "cell_type": "code",
   "execution_count": 1,
   "id": "cb95d8ae",
   "metadata": {},
   "outputs": [],
   "source": [
    "import pandas as pd\n",
    "import numpy as np\n",
    "\n",
    "import matplotlib.pyplot as plt\n",
    "%matplotlib inline\n",
    "\n",
    "import seaborn as sns\n",
    "sns.set()"
   ]
  },
  {
   "cell_type": "code",
   "execution_count": null,
   "id": "348614a1",
   "metadata": {},
   "outputs": [],
   "source": [
    "from afinn import Afinn\n",
    "from textblob import TextBlob"
   ]
  },
  {
   "cell_type": "code",
   "execution_count": 2,
   "id": "2c3a9ed5",
   "metadata": {},
   "outputs": [],
   "source": [
    "import spacy\n",
    "\n",
    "nlp = spacy.load('en_core_web_sm')"
   ]
  },
  {
   "cell_type": "code",
   "execution_count": 3,
   "id": "5a2148e2",
   "metadata": {},
   "outputs": [],
   "source": [
    "# converting it in numerical data - # Countvectorizer, TFIDF\n",
    "\n",
    "from sklearn.feature_extraction.text import CountVectorizer\n",
    "\n",
    "from sklearn.feature_extraction.text import TfidfVectorizer"
   ]
  },
  {
   "cell_type": "code",
   "execution_count": 4,
   "id": "548af944",
   "metadata": {},
   "outputs": [],
   "source": [
    "import warnings\n",
    "\n",
    "warnings.filterwarnings('ignore')\n"
   ]
  },
  {
   "cell_type": "code",
   "execution_count": 5,
   "id": "9462fda9",
   "metadata": {},
   "outputs": [
    {
     "data": {
      "text/html": [
       "<div>\n",
       "<style scoped>\n",
       "    .dataframe tbody tr th:only-of-type {\n",
       "        vertical-align: middle;\n",
       "    }\n",
       "\n",
       "    .dataframe tbody tr th {\n",
       "        vertical-align: top;\n",
       "    }\n",
       "\n",
       "    .dataframe thead th {\n",
       "        text-align: right;\n",
       "    }\n",
       "</style>\n",
       "<table border=\"1\" class=\"dataframe\">\n",
       "  <thead>\n",
       "    <tr style=\"text-align: right;\">\n",
       "      <th></th>\n",
       "      <th>title</th>\n",
       "      <th>rating</th>\n",
       "      <th>body</th>\n",
       "      <th>clean_review</th>\n",
       "    </tr>\n",
       "  </thead>\n",
       "  <tbody>\n",
       "    <tr>\n",
       "      <th>0</th>\n",
       "      <td>Unreliable earphones with high cost</td>\n",
       "      <td>1.0</td>\n",
       "      <td>This  earphones are unreliable, i bought it be...</td>\n",
       "      <td>earphone unreliable bought day meanwhile right...</td>\n",
       "    </tr>\n",
       "    <tr>\n",
       "      <th>1</th>\n",
       "      <td>Honest review of an edm music lover</td>\n",
       "      <td>3.0</td>\n",
       "      <td>No doubt it has a great bass and to a great ex...</td>\n",
       "      <td>doubt great bass great extent noise cancellati...</td>\n",
       "    </tr>\n",
       "    <tr>\n",
       "      <th>2</th>\n",
       "      <td>Really good and durable.</td>\n",
       "      <td>4.0</td>\n",
       "      <td>i bought itfor 999,I purchased it second time,...</td>\n",
       "      <td>bought itfor purchased second time gifted firs...</td>\n",
       "    </tr>\n",
       "    <tr>\n",
       "      <th>3</th>\n",
       "      <td>A good earphone but with some issues, read thi...</td>\n",
       "      <td>4.0</td>\n",
       "      <td>I'll get straight to the pros and cons of Boat...</td>\n",
       "      <td>get straight pro con boat rockerz pro bluetoot...</td>\n",
       "    </tr>\n",
       "    <tr>\n",
       "      <th>4</th>\n",
       "      <td>Charging port not working</td>\n",
       "      <td>1.0</td>\n",
       "      <td>After 11 days, the charging port isn't working...</td>\n",
       "      <td>day charging port working even return wat know...</td>\n",
       "    </tr>\n",
       "  </tbody>\n",
       "</table>\n",
       "</div>"
      ],
      "text/plain": [
       "                                               title  rating  \\\n",
       "0                Unreliable earphones with high cost     1.0   \n",
       "1                Honest review of an edm music lover     3.0   \n",
       "2                           Really good and durable.     4.0   \n",
       "3  A good earphone but with some issues, read thi...     4.0   \n",
       "4                          Charging port not working     1.0   \n",
       "\n",
       "                                                body  \\\n",
       "0  This  earphones are unreliable, i bought it be...   \n",
       "1  No doubt it has a great bass and to a great ex...   \n",
       "2  i bought itfor 999,I purchased it second time,...   \n",
       "3  I'll get straight to the pros and cons of Boat...   \n",
       "4  After 11 days, the charging port isn't working...   \n",
       "\n",
       "                                        clean_review  \n",
       "0  earphone unreliable bought day meanwhile right...  \n",
       "1  doubt great bass great extent noise cancellati...  \n",
       "2  bought itfor purchased second time gifted firs...  \n",
       "3  get straight pro con boat rockerz pro bluetoot...  \n",
       "4  day charging port working even return wat know...  "
      ]
     },
     "execution_count": 5,
     "metadata": {},
     "output_type": "execute_result"
    }
   ],
   "source": [
    "amazon = pd.read_csv('Amazon_Review_CleanData.csv')\n",
    "\n",
    "amazon.head()"
   ]
  },
  {
   "cell_type": "code",
   "execution_count": 8,
   "id": "72d990d8",
   "metadata": {},
   "outputs": [
    {
     "data": {
      "text/plain": [
       "1.0    1287\n",
       "5.0    1243\n",
       "4.0    1162\n",
       "3.0     810\n",
       "2.0     498\n",
       "Name: rating, dtype: int64"
      ]
     },
     "execution_count": 8,
     "metadata": {},
     "output_type": "execute_result"
    }
   ],
   "source": [
    "amazon['rating'].value_counts()"
   ]
  },
  {
   "cell_type": "code",
   "execution_count": 10,
   "id": "2e769c3e",
   "metadata": {
    "scrolled": false
   },
   "outputs": [
    {
     "data": {
      "text/plain": [
       "<AxesSubplot:xlabel='rating', ylabel='count'>"
      ]
     },
     "execution_count": 10,
     "metadata": {},
     "output_type": "execute_result"
    },
    {
     "data": {
      "image/png": "[encoded data removed]",
      "text/plain": [
       "<Figure size 1296x720 with 1 Axes>"
      ]
     },
     "metadata": {},
     "output_type": "display_data"
    }
   ],
   "source": [
    "plt.figure(figsize=(18,10))\n",
    "\n",
    "sns.countplot(x = amazon['rating'], data = amazon)"
   ]
  },
  {
   "cell_type": "code",
   "execution_count": null,
   "id": "036e5460",
   "metadata": {},
   "outputs": [],
   "source": []
  },
  {
   "cell_type": "code",
   "execution_count": 13,
   "id": "e742ccfb",
   "metadata": {},
   "outputs": [],
   "source": [
    "amazon['clean_review'] = amazon['clean_review'].apply(lambda x:str(x))"
   ]
  },
  {
   "cell_type": "markdown",
   "id": "d230e9c2",
   "metadata": {},
   "source": [
    "### Sentiment Analysis with AFINN Lexicon"
   ]
  },
  {
   "cell_type": "code",
   "execution_count": 11,
   "id": "916c5368",
   "metadata": {},
   "outputs": [],
   "source": [
    "from afinn import Afinn\n",
    "af = Afinn()\n"
   ]
  },
  {
   "cell_type": "code",
   "execution_count": 14,
   "id": "70eb65b3",
   "metadata": {},
   "outputs": [
    {
     "data": {
      "text/html": [
       "<div>\n",
       "<style scoped>\n",
       "    .dataframe tbody tr th:only-of-type {\n",
       "        vertical-align: middle;\n",
       "    }\n",
       "\n",
       "    .dataframe tbody tr th {\n",
       "        vertical-align: top;\n",
       "    }\n",
       "\n",
       "    .dataframe thead th {\n",
       "        text-align: right;\n",
       "    }\n",
       "</style>\n",
       "<table border=\"1\" class=\"dataframe\">\n",
       "  <thead>\n",
       "    <tr style=\"text-align: right;\">\n",
       "      <th></th>\n",
       "      <th>title</th>\n",
       "      <th>rating</th>\n",
       "      <th>body</th>\n",
       "      <th>clean_review</th>\n",
       "      <th>af_sentiment</th>\n",
       "    </tr>\n",
       "  </thead>\n",
       "  <tbody>\n",
       "    <tr>\n",
       "      <th>0</th>\n",
       "      <td>Unreliable earphones with high cost</td>\n",
       "      <td>1.0</td>\n",
       "      <td>This  earphones are unreliable, i bought it be...</td>\n",
       "      <td>earphone unreliable bought day meanwhile right...</td>\n",
       "      <td>10.0</td>\n",
       "    </tr>\n",
       "    <tr>\n",
       "      <th>1</th>\n",
       "      <td>Honest review of an edm music lover</td>\n",
       "      <td>3.0</td>\n",
       "      <td>No doubt it has a great bass and to a great ex...</td>\n",
       "      <td>doubt great bass great extent noise cancellati...</td>\n",
       "      <td>0.0</td>\n",
       "    </tr>\n",
       "    <tr>\n",
       "      <th>2</th>\n",
       "      <td>Really good and durable.</td>\n",
       "      <td>4.0</td>\n",
       "      <td>i bought itfor 999,I purchased it second time,...</td>\n",
       "      <td>bought itfor purchased second time gifted firs...</td>\n",
       "      <td>22.0</td>\n",
       "    </tr>\n",
       "    <tr>\n",
       "      <th>3</th>\n",
       "      <td>A good earphone but with some issues, read thi...</td>\n",
       "      <td>4.0</td>\n",
       "      <td>I'll get straight to the pros and cons of Boat...</td>\n",
       "      <td>get straight pro con boat rockerz pro bluetoot...</td>\n",
       "      <td>34.0</td>\n",
       "    </tr>\n",
       "    <tr>\n",
       "      <th>4</th>\n",
       "      <td>Charging port not working</td>\n",
       "      <td>1.0</td>\n",
       "      <td>After 11 days, the charging port isn't working...</td>\n",
       "      <td>day charging port working even return wat know...</td>\n",
       "      <td>1.0</td>\n",
       "    </tr>\n",
       "  </tbody>\n",
       "</table>\n",
       "</div>"
      ],
      "text/plain": [
       "                                               title  rating  \\\n",
       "0                Unreliable earphones with high cost     1.0   \n",
       "1                Honest review of an edm music lover     3.0   \n",
       "2                           Really good and durable.     4.0   \n",
       "3  A good earphone but with some issues, read thi...     4.0   \n",
       "4                          Charging port not working     1.0   \n",
       "\n",
       "                                                body  \\\n",
       "0  This  earphones are unreliable, i bought it be...   \n",
       "1  No doubt it has a great bass and to a great ex...   \n",
       "2  i bought itfor 999,I purchased it second time,...   \n",
       "3  I'll get straight to the pros and cons of Boat...   \n",
       "4  After 11 days, the charging port isn't working...   \n",
       "\n",
       "                                        clean_review  af_sentiment  \n",
       "0  earphone unreliable bought day meanwhile right...          10.0  \n",
       "1  doubt great bass great extent noise cancellati...           0.0  \n",
       "2  bought itfor purchased second time gifted firs...          22.0  \n",
       "3  get straight pro con boat rockerz pro bluetoot...          34.0  \n",
       "4  day charging port working even return wat know...           1.0  "
      ]
     },
     "execution_count": 14,
     "metadata": {},
     "output_type": "execute_result"
    }
   ],
   "source": [
    "amazon['af_sentiment'] = amazon['clean_review'].apply(lambda x: af.score(x))\n",
    "amazon.head()"
   ]
  },
  {
   "cell_type": "code",
   "execution_count": 15,
   "id": "ec0f1b3d",
   "metadata": {},
   "outputs": [
    {
     "data": {
      "text/plain": [
       "<AxesSubplot:xlabel='af_sentiment'>"
      ]
     },
     "execution_count": 15,
     "metadata": {},
     "output_type": "execute_result"
    },
    {
     "data": {
      "image/png": "[encoded data removed]",
      "text/plain": [
       "<Figure size 1440x504 with 1 Axes>"
      ]
     },
     "metadata": {},
     "output_type": "display_data"
    }
   ],
   "source": [
    "plt.figure(figsize=(20,7))\n",
    "sns.boxplot(amazon['af_sentiment'])"
   ]
  },
  {
   "cell_type": "code",
   "execution_count": 16,
   "id": "a1c3ee38",
   "metadata": {},
   "outputs": [
    {
     "data": {
      "text/plain": [
       "<AxesSubplot:xlabel='af_sentiment', ylabel='Density'>"
      ]
     },
     "execution_count": 16,
     "metadata": {},
     "output_type": "execute_result"
    },
    {
     "data": {
      "image/png": "[encoded data removed]",
      "text/plain": [
       "<Figure size 1440x504 with 1 Axes>"
      ]
     },
     "metadata": {},
     "output_type": "display_data"
    }
   ],
   "source": [
    "# we will plot the distribution \n",
    "plt.figure(figsize=(20,7))\n",
    "sns.distplot(amazon['af_sentiment'])"
   ]
  },
  {
   "cell_type": "code",
   "execution_count": 17,
   "id": "7f37776a",
   "metadata": {},
   "outputs": [
    {
     "data": {
      "text/plain": [
       "<AxesSubplot:xlabel='af_sentiment', ylabel='count'>"
      ]
     },
     "execution_count": 17,
     "metadata": {},
     "output_type": "execute_result"
    },
    {
     "data": {
      "image/png": "[encoded data removed]",
      "text/plain": [
       "<Figure size 1440x504 with 1 Axes>"
      ]
     },
     "metadata": {},
     "output_type": "display_data"
    }
   ],
   "source": [
    "# we will plot the counts\n",
    "\n",
    "plt.figure(figsize=(20,7))\n",
    "sns.countplot(amazon['af_sentiment'])"
   ]
  },
  {
   "cell_type": "code",
   "execution_count": null,
   "id": "5bee096b",
   "metadata": {},
   "outputs": [],
   "source": []
  },
  {
   "cell_type": "code",
   "execution_count": null,
   "id": "8b20cacb",
   "metadata": {},
   "outputs": [],
   "source": []
  },
  {
   "cell_type": "markdown",
   "id": "a996294d",
   "metadata": {},
   "source": [
    "### Sentiment Analysis with TextBlob Lexicon"
   ]
  },
  {
   "cell_type": "code",
   "execution_count": 18,
   "id": "4fe4c1b3",
   "metadata": {},
   "outputs": [],
   "source": [
    "from textblob import TextBlob"
   ]
  },
  {
   "cell_type": "code",
   "execution_count": 21,
   "id": "bffc3e5b",
   "metadata": {},
   "outputs": [],
   "source": [
    "amazon['tb_polarity'] = amazon['clean_review'].apply(lambda x : round(TextBlob(x).sentiment.polarity,3))"
   ]
  },
  {
   "cell_type": "code",
   "execution_count": 22,
   "id": "2e4095f0",
   "metadata": {},
   "outputs": [
    {
     "data": {
      "text/html": [
       "<div>\n",
       "<style scoped>\n",
       "    .dataframe tbody tr th:only-of-type {\n",
       "        vertical-align: middle;\n",
       "    }\n",
       "\n",
       "    .dataframe tbody tr th {\n",
       "        vertical-align: top;\n",
       "    }\n",
       "\n",
       "    .dataframe thead th {\n",
       "        text-align: right;\n",
       "    }\n",
       "</style>\n",
       "<table border=\"1\" class=\"dataframe\">\n",
       "  <thead>\n",
       "    <tr style=\"text-align: right;\">\n",
       "      <th></th>\n",
       "      <th>title</th>\n",
       "      <th>rating</th>\n",
       "      <th>body</th>\n",
       "      <th>clean_review</th>\n",
       "      <th>af_sentiment</th>\n",
       "      <th>tb_polarity</th>\n",
       "    </tr>\n",
       "  </thead>\n",
       "  <tbody>\n",
       "    <tr>\n",
       "      <th>0</th>\n",
       "      <td>Unreliable earphones with high cost</td>\n",
       "      <td>1.0</td>\n",
       "      <td>This  earphones are unreliable, i bought it be...</td>\n",
       "      <td>earphone unreliable bought day meanwhile right...</td>\n",
       "      <td>10.0</td>\n",
       "      <td>0.377</td>\n",
       "    </tr>\n",
       "    <tr>\n",
       "      <th>1</th>\n",
       "      <td>Honest review of an edm music lover</td>\n",
       "      <td>3.0</td>\n",
       "      <td>No doubt it has a great bass and to a great ex...</td>\n",
       "      <td>doubt great bass great extent noise cancellati...</td>\n",
       "      <td>0.0</td>\n",
       "      <td>0.061</td>\n",
       "    </tr>\n",
       "    <tr>\n",
       "      <th>2</th>\n",
       "      <td>Really good and durable.</td>\n",
       "      <td>4.0</td>\n",
       "      <td>i bought itfor 999,I purchased it second time,...</td>\n",
       "      <td>bought itfor purchased second time gifted firs...</td>\n",
       "      <td>22.0</td>\n",
       "      <td>0.536</td>\n",
       "    </tr>\n",
       "    <tr>\n",
       "      <th>3</th>\n",
       "      <td>A good earphone but with some issues, read thi...</td>\n",
       "      <td>4.0</td>\n",
       "      <td>I'll get straight to the pros and cons of Boat...</td>\n",
       "      <td>get straight pro con boat rockerz pro bluetoot...</td>\n",
       "      <td>34.0</td>\n",
       "      <td>0.134</td>\n",
       "    </tr>\n",
       "    <tr>\n",
       "      <th>4</th>\n",
       "      <td>Charging port not working</td>\n",
       "      <td>1.0</td>\n",
       "      <td>After 11 days, the charging port isn't working...</td>\n",
       "      <td>day charging port working even return wat know...</td>\n",
       "      <td>1.0</td>\n",
       "      <td>0.136</td>\n",
       "    </tr>\n",
       "    <tr>\n",
       "      <th>5</th>\n",
       "      <td>धांसू Bass &amp; जबरदस्त Battery.</td>\n",
       "      <td>4.0</td>\n",
       "      <td>Hey Guys,,,,,,, it's Value for money if you ge...</td>\n",
       "      <td>hey guy value money get bass quite good thumpi...</td>\n",
       "      <td>17.0</td>\n",
       "      <td>0.140</td>\n",
       "    </tr>\n",
       "    <tr>\n",
       "      <th>6</th>\n",
       "      <td>Just Awesome Wireless Headphone under 1000...😉</td>\n",
       "      <td>5.0</td>\n",
       "      <td>Its Awesome... Good sound quality &amp; 8-9 hrs ba...</td>\n",
       "      <td>awesome good sound quality hr battery life waw...</td>\n",
       "      <td>6.0</td>\n",
       "      <td>0.250</td>\n",
       "    </tr>\n",
       "    <tr>\n",
       "      <th>7</th>\n",
       "      <td>stopped working in just 14 days</td>\n",
       "      <td>1.0</td>\n",
       "      <td>Its sound quality is adorable. overall it was ...</td>\n",
       "      <td>sound quality adorable overall good week stopp...</td>\n",
       "      <td>7.0</td>\n",
       "      <td>0.400</td>\n",
       "    </tr>\n",
       "    <tr>\n",
       "      <th>8</th>\n",
       "      <td>Great sound with worst mic.</td>\n",
       "      <td>3.0</td>\n",
       "      <td>After one month usage reviewing this .Pros-1- ...</td>\n",
       "      <td>one month usage reviewing pro sound quality de...</td>\n",
       "      <td>-1.0</td>\n",
       "      <td>-0.067</td>\n",
       "    </tr>\n",
       "    <tr>\n",
       "      <th>9</th>\n",
       "      <td>Very very bad Durabity</td>\n",
       "      <td>1.0</td>\n",
       "      <td>The product durability is 1 month..I just lost...</td>\n",
       "      <td>product durability month lost bill detail cant...</td>\n",
       "      <td>-4.0</td>\n",
       "      <td>-0.300</td>\n",
       "    </tr>\n",
       "  </tbody>\n",
       "</table>\n",
       "</div>"
      ],
      "text/plain": [
       "                                               title  rating  \\\n",
       "0                Unreliable earphones with high cost     1.0   \n",
       "1                Honest review of an edm music lover     3.0   \n",
       "2                           Really good and durable.     4.0   \n",
       "3  A good earphone but with some issues, read thi...     4.0   \n",
       "4                          Charging port not working     1.0   \n",
       "5                      धांसू Bass & जबरदस्त Battery.     4.0   \n",
       "6     Just Awesome Wireless Headphone under 1000...😉     5.0   \n",
       "7                    stopped working in just 14 days     1.0   \n",
       "8                        Great sound with worst mic.     3.0   \n",
       "9                             Very very bad Durabity     1.0   \n",
       "\n",
       "                                                body  \\\n",
       "0  This  earphones are unreliable, i bought it be...   \n",
       "1  No doubt it has a great bass and to a great ex...   \n",
       "2  i bought itfor 999,I purchased it second time,...   \n",
       "3  I'll get straight to the pros and cons of Boat...   \n",
       "4  After 11 days, the charging port isn't working...   \n",
       "5  Hey Guys,,,,,,, it's Value for money if you ge...   \n",
       "6  Its Awesome... Good sound quality & 8-9 hrs ba...   \n",
       "7  Its sound quality is adorable. overall it was ...   \n",
       "8  After one month usage reviewing this .Pros-1- ...   \n",
       "9  The product durability is 1 month..I just lost...   \n",
       "\n",
       "                                        clean_review  af_sentiment  \\\n",
       "0  earphone unreliable bought day meanwhile right...          10.0   \n",
       "1  doubt great bass great extent noise cancellati...           0.0   \n",
       "2  bought itfor purchased second time gifted firs...          22.0   \n",
       "3  get straight pro con boat rockerz pro bluetoot...          34.0   \n",
       "4  day charging port working even return wat know...           1.0   \n",
       "5  hey guy value money get bass quite good thumpi...          17.0   \n",
       "6  awesome good sound quality hr battery life waw...           6.0   \n",
       "7  sound quality adorable overall good week stopp...           7.0   \n",
       "8  one month usage reviewing pro sound quality de...          -1.0   \n",
       "9  product durability month lost bill detail cant...          -4.0   \n",
       "\n",
       "   tb_polarity  \n",
       "0        0.377  \n",
       "1        0.061  \n",
       "2        0.536  \n",
       "3        0.134  \n",
       "4        0.136  \n",
       "5        0.140  \n",
       "6        0.250  \n",
       "7        0.400  \n",
       "8       -0.067  \n",
       "9       -0.300  "
      ]
     },
     "execution_count": 22,
     "metadata": {},
     "output_type": "execute_result"
    }
   ],
   "source": [
    "amazon.head(10)"
   ]
  },
  {
   "cell_type": "code",
   "execution_count": null,
   "id": "1b528ecb",
   "metadata": {},
   "outputs": [],
   "source": []
  },
  {
   "cell_type": "code",
   "execution_count": 23,
   "id": "ae395491",
   "metadata": {},
   "outputs": [
    {
     "data": {
      "text/plain": [
       "rating\n",
       "1.0   -0.008341\n",
       "2.0    0.118048\n",
       "3.0    0.192631\n",
       "4.0    0.298989\n",
       "5.0    0.350608\n",
       "Name: tb_polarity, dtype: float64"
      ]
     },
     "execution_count": 23,
     "metadata": {},
     "output_type": "execute_result"
    }
   ],
   "source": [
    "amazon.groupby(amazon['rating'])['tb_polarity'].mean()"
   ]
  },
  {
   "cell_type": "code",
   "execution_count": 25,
   "id": "57b24039",
   "metadata": {},
   "outputs": [
    {
     "data": {
      "text/plain": [
       "Text(0, 0.5, 'Average polarity')"
      ]
     },
     "execution_count": 25,
     "metadata": {},
     "output_type": "execute_result"
    },
    {
     "data": {
      "image/png": "[encoded data removed]",
      "text/plain": [
       "<Figure size 1440x432 with 1 Axes>"
      ]
     },
     "metadata": {},
     "output_type": "display_data"
    }
   ],
   "source": [
    "plt.figure(figsize=(20,6))\n",
    "amazon.groupby(amazon['rating'])['tb_polarity'].mean().plot(kind = 'bar')\n",
    "\n",
    "plt.title('change in average polarity wrt rating')\n",
    "plt.xlabel('Rating')\n",
    "plt.ylabel('Average polarity')"
   ]
  },
  {
   "cell_type": "code",
   "execution_count": 26,
   "id": "74271af6",
   "metadata": {},
   "outputs": [
    {
     "data": {
      "text/plain": [
       "<AxesSubplot:xlabel='tb_polarity', ylabel='Density'>"
      ]
     },
     "execution_count": 26,
     "metadata": {},
     "output_type": "execute_result"
    },
    {
     "data": {
      "image/png": "[encoded data removed]",
      "text/plain": [
       "<Figure size 1440x504 with 1 Axes>"
      ]
     },
     "metadata": {},
     "output_type": "display_data"
    }
   ],
   "source": [
    "# we will plot the distribution of Polarity\n",
    "\n",
    "plt.figure(figsize=(20,7))\n",
    "sns.distplot(amazon['tb_polarity'])\n"
   ]
  },
  {
   "cell_type": "code",
   "execution_count": null,
   "id": "4d2b82e1",
   "metadata": {},
   "outputs": [],
   "source": []
  },
  {
   "cell_type": "code",
   "execution_count": 29,
   "id": "2d079107",
   "metadata": {},
   "outputs": [
    {
     "data": {
      "text/html": [
       "<div>\n",
       "<style scoped>\n",
       "    .dataframe tbody tr th:only-of-type {\n",
       "        vertical-align: middle;\n",
       "    }\n",
       "\n",
       "    .dataframe tbody tr th {\n",
       "        vertical-align: top;\n",
       "    }\n",
       "\n",
       "    .dataframe thead th {\n",
       "        text-align: right;\n",
       "    }\n",
       "</style>\n",
       "<table border=\"1\" class=\"dataframe\">\n",
       "  <thead>\n",
       "    <tr style=\"text-align: right;\">\n",
       "      <th></th>\n",
       "      <th>title</th>\n",
       "      <th>rating</th>\n",
       "      <th>body</th>\n",
       "      <th>clean_review</th>\n",
       "      <th>af_sentiment</th>\n",
       "      <th>tb_polarity</th>\n",
       "    </tr>\n",
       "  </thead>\n",
       "  <tbody>\n",
       "    <tr>\n",
       "      <th>3763</th>\n",
       "      <td>Good product, better service.</td>\n",
       "      <td>4.0</td>\n",
       "      <td>This is the best Bluetooth Earphone at this pr...</td>\n",
       "      <td>best bluetooth earphone price plus get year wa...</td>\n",
       "      <td>4.0</td>\n",
       "      <td>1.0</td>\n",
       "    </tr>\n",
       "    <tr>\n",
       "      <th>221</th>\n",
       "      <td>Just go for it</td>\n",
       "      <td>5.0</td>\n",
       "      <td>Awesome best budget wireless earphones</td>\n",
       "      <td>awesome best budget wireless earphone</td>\n",
       "      <td>7.0</td>\n",
       "      <td>1.0</td>\n",
       "    </tr>\n",
       "    <tr>\n",
       "      <th>4817</th>\n",
       "      <td>Value for money</td>\n",
       "      <td>5.0</td>\n",
       "      <td>Excellent headphones that stay around your nec...</td>\n",
       "      <td>excellent headphone stay around neck need ear</td>\n",
       "      <td>3.0</td>\n",
       "      <td>1.0</td>\n",
       "    </tr>\n",
       "    <tr>\n",
       "      <th>4491</th>\n",
       "      <td>Nice product👍</td>\n",
       "      <td>4.0</td>\n",
       "      <td>Is the best in this price range. The only thin...</td>\n",
       "      <td>best price range thing add magnetic bt neck ba...</td>\n",
       "      <td>10.0</td>\n",
       "      <td>1.0</td>\n",
       "    </tr>\n",
       "    <tr>\n",
       "      <th>2956</th>\n",
       "      <td>Best product for this price</td>\n",
       "      <td>5.0</td>\n",
       "      <td>If you manage to get these under 1400 they are...</td>\n",
       "      <td>manage get best buy find k go sony one</td>\n",
       "      <td>3.0</td>\n",
       "      <td>1.0</td>\n",
       "    </tr>\n",
       "    <tr>\n",
       "      <th>4287</th>\n",
       "      <td>I like this product due to bettry backup is best.</td>\n",
       "      <td>5.0</td>\n",
       "      <td>The media could not be loaded.\\n              ...</td>\n",
       "      <td>medium could loaded bettry backup almost hour ...</td>\n",
       "      <td>10.0</td>\n",
       "      <td>1.0</td>\n",
       "    </tr>\n",
       "    <tr>\n",
       "      <th>4294</th>\n",
       "      <td>Best Product. boAT Naam Hi Kafi Hai 👍</td>\n",
       "      <td>5.0</td>\n",
       "      <td>This Product Gives What It commits... i.e. 40 ...</td>\n",
       "      <td>product give commits e hr battery backup else ...</td>\n",
       "      <td>4.0</td>\n",
       "      <td>1.0</td>\n",
       "    </tr>\n",
       "    <tr>\n",
       "      <th>2912</th>\n",
       "      <td>Best</td>\n",
       "      <td>5.0</td>\n",
       "      <td>Backup is best when I use less it gave me upto...</td>\n",
       "      <td>backup best use le gave upto daysand used hr p...</td>\n",
       "      <td>6.0</td>\n",
       "      <td>1.0</td>\n",
       "    </tr>\n",
       "    <tr>\n",
       "      <th>3855</th>\n",
       "      <td>Excellent</td>\n",
       "      <td>5.0</td>\n",
       "      <td>Deadpool versus excellent the best quality the...</td>\n",
       "      <td>deadpool versus excellent best quality voice c...</td>\n",
       "      <td>10.0</td>\n",
       "      <td>1.0</td>\n",
       "    </tr>\n",
       "    <tr>\n",
       "      <th>1805</th>\n",
       "      <td>Just Awesome😘❤</td>\n",
       "      <td>5.0</td>\n",
       "      <td>The media could not be loaded.\\n              ...</td>\n",
       "      <td>medium could loaded got product bcos offer roc...</td>\n",
       "      <td>6.0</td>\n",
       "      <td>0.9</td>\n",
       "    </tr>\n",
       "  </tbody>\n",
       "</table>\n",
       "</div>"
      ],
      "text/plain": [
       "                                                  title  rating  \\\n",
       "3763                      Good product, better service.     4.0   \n",
       "221                                      Just go for it     5.0   \n",
       "4817                                    Value for money     5.0   \n",
       "4491                                      Nice product👍     4.0   \n",
       "2956                        Best product for this price     5.0   \n",
       "4287  I like this product due to bettry backup is best.     5.0   \n",
       "4294              Best Product. boAT Naam Hi Kafi Hai 👍     5.0   \n",
       "2912                                               Best     5.0   \n",
       "3855                                          Excellent     5.0   \n",
       "1805                                     Just Awesome😘❤     5.0   \n",
       "\n",
       "                                                   body  \\\n",
       "3763  This is the best Bluetooth Earphone at this pr...   \n",
       "221              Awesome best budget wireless earphones   \n",
       "4817  Excellent headphones that stay around your nec...   \n",
       "4491  Is the best in this price range. The only thin...   \n",
       "2956  If you manage to get these under 1400 they are...   \n",
       "4287  The media could not be loaded.\\n              ...   \n",
       "4294  This Product Gives What It commits... i.e. 40 ...   \n",
       "2912  Backup is best when I use less it gave me upto...   \n",
       "3855  Deadpool versus excellent the best quality the...   \n",
       "1805  The media could not be loaded.\\n              ...   \n",
       "\n",
       "                                           clean_review  af_sentiment  \\\n",
       "3763  best bluetooth earphone price plus get year wa...           4.0   \n",
       "221               awesome best budget wireless earphone           7.0   \n",
       "4817      excellent headphone stay around neck need ear           3.0   \n",
       "4491  best price range thing add magnetic bt neck ba...          10.0   \n",
       "2956             manage get best buy find k go sony one           3.0   \n",
       "4287  medium could loaded bettry backup almost hour ...          10.0   \n",
       "4294  product give commits e hr battery backup else ...           4.0   \n",
       "2912  backup best use le gave upto daysand used hr p...           6.0   \n",
       "3855  deadpool versus excellent best quality voice c...          10.0   \n",
       "1805  medium could loaded got product bcos offer roc...           6.0   \n",
       "\n",
       "      tb_polarity  \n",
       "3763          1.0  \n",
       "221           1.0  \n",
       "4817          1.0  \n",
       "4491          1.0  \n",
       "2956          1.0  \n",
       "4287          1.0  \n",
       "4294          1.0  \n",
       "2912          1.0  \n",
       "3855          1.0  \n",
       "1805          0.9  "
      ]
     },
     "execution_count": 29,
     "metadata": {},
     "output_type": "execute_result"
    }
   ],
   "source": [
    "### Sorting top 10 Reviews based on Polarity\n",
    "\n",
    "\n",
    "amazon.sort_values(by='tb_polarity', ascending=False)[:10]"
   ]
  },
  {
   "cell_type": "code",
   "execution_count": null,
   "id": "fdd4649b",
   "metadata": {},
   "outputs": [],
   "source": []
  },
  {
   "cell_type": "code",
   "execution_count": 30,
   "id": "e94aed6b",
   "metadata": {},
   "outputs": [
    {
     "data": {
      "text/html": [
       "<div>\n",
       "<style scoped>\n",
       "    .dataframe tbody tr th:only-of-type {\n",
       "        vertical-align: middle;\n",
       "    }\n",
       "\n",
       "    .dataframe tbody tr th {\n",
       "        vertical-align: top;\n",
       "    }\n",
       "\n",
       "    .dataframe thead th {\n",
       "        text-align: right;\n",
       "    }\n",
       "</style>\n",
       "<table border=\"1\" class=\"dataframe\">\n",
       "  <thead>\n",
       "    <tr style=\"text-align: right;\">\n",
       "      <th></th>\n",
       "      <th>title</th>\n",
       "      <th>rating</th>\n",
       "      <th>body</th>\n",
       "      <th>clean_review</th>\n",
       "      <th>af_sentiment</th>\n",
       "      <th>tb_polarity</th>\n",
       "    </tr>\n",
       "  </thead>\n",
       "  <tbody>\n",
       "    <tr>\n",
       "      <th>4336</th>\n",
       "      <td>Battery drain and bad customers  support  serv...</td>\n",
       "      <td>1.0</td>\n",
       "      <td>Wrost productWithin 10 days noticed defectedBa...</td>\n",
       "      <td>wrost productwithin day noticed defectedbatter...</td>\n",
       "      <td>-1.0</td>\n",
       "      <td>-1.0</td>\n",
       "    </tr>\n",
       "    <tr>\n",
       "      <th>1716</th>\n",
       "      <td>Be careful when you purchase during sale.</td>\n",
       "      <td>1.0</td>\n",
       "      <td>The worst product in the category. I don't kno...</td>\n",
       "      <td>worst product category know whether rec defect...</td>\n",
       "      <td>-3.0</td>\n",
       "      <td>-1.0</td>\n",
       "    </tr>\n",
       "    <tr>\n",
       "      <th>4172</th>\n",
       "      <td>Don't Buy this Product</td>\n",
       "      <td>1.0</td>\n",
       "      <td>I bought this product on Mar since 2 months Ea...</td>\n",
       "      <td>bought product mar since month earphone death ...</td>\n",
       "      <td>-5.0</td>\n",
       "      <td>-1.0</td>\n",
       "    </tr>\n",
       "    <tr>\n",
       "      <th>3945</th>\n",
       "      <td>Big time cheaters</td>\n",
       "      <td>1.0</td>\n",
       "      <td>Twice the product after a months use started s...</td>\n",
       "      <td>twice product month use started showing proble...</td>\n",
       "      <td>-4.0</td>\n",
       "      <td>-1.0</td>\n",
       "    </tr>\n",
       "    <tr>\n",
       "      <th>4095</th>\n",
       "      <td>Worst earphones</td>\n",
       "      <td>1.0</td>\n",
       "      <td>I bought 2 same earphones and both of those go...</td>\n",
       "      <td>bought earphone got stopped working year produ...</td>\n",
       "      <td>-3.0</td>\n",
       "      <td>-1.0</td>\n",
       "    </tr>\n",
       "    <tr>\n",
       "      <th>4182</th>\n",
       "      <td>Highly not recommended</td>\n",
       "      <td>1.0</td>\n",
       "      <td>Worst quality have been using for 9 months and...</td>\n",
       "      <td>worst quality using month th time one side sto...</td>\n",
       "      <td>-2.0</td>\n",
       "      <td>-1.0</td>\n",
       "    </tr>\n",
       "    <tr>\n",
       "      <th>4739</th>\n",
       "      <td>Worst &amp; faulty product and no service</td>\n",
       "      <td>1.0</td>\n",
       "      <td>This is  worst product and don't buy it. Withi...</td>\n",
       "      <td>worst product buy within month faced speaker i...</td>\n",
       "      <td>-9.0</td>\n",
       "      <td>-1.0</td>\n",
       "    </tr>\n",
       "    <tr>\n",
       "      <th>3981</th>\n",
       "      <td>Don't buy.</td>\n",
       "      <td>1.0</td>\n",
       "      <td>Within 6 months of my purchase the head phone ...</td>\n",
       "      <td>within month purchase head phone stopped worki...</td>\n",
       "      <td>1.0</td>\n",
       "      <td>-1.0</td>\n",
       "    </tr>\n",
       "    <tr>\n",
       "      <th>2208</th>\n",
       "      <td>Automatically disconnected</td>\n",
       "      <td>1.0</td>\n",
       "      <td>I don't like these Bluetooth because they are ...</td>\n",
       "      <td>like bluetooth creating problem automatically ...</td>\n",
       "      <td>-8.0</td>\n",
       "      <td>-1.0</td>\n",
       "    </tr>\n",
       "    <tr>\n",
       "      <th>2953</th>\n",
       "      <td>Do not buy...go with oneplus</td>\n",
       "      <td>1.0</td>\n",
       "      <td>Totally worst product...i bought on 28 dec 202...</td>\n",
       "      <td>totally worst product bought dec nd th feb alm...</td>\n",
       "      <td>-3.0</td>\n",
       "      <td>-1.0</td>\n",
       "    </tr>\n",
       "  </tbody>\n",
       "</table>\n",
       "</div>"
      ],
      "text/plain": [
       "                                                  title  rating  \\\n",
       "4336  Battery drain and bad customers  support  serv...     1.0   \n",
       "1716          Be careful when you purchase during sale.     1.0   \n",
       "4172                             Don't Buy this Product     1.0   \n",
       "3945                                  Big time cheaters     1.0   \n",
       "4095                                    Worst earphones     1.0   \n",
       "4182                             Highly not recommended     1.0   \n",
       "4739              Worst & faulty product and no service     1.0   \n",
       "3981                                         Don't buy.     1.0   \n",
       "2208                         Automatically disconnected     1.0   \n",
       "2953                       Do not buy...go with oneplus     1.0   \n",
       "\n",
       "                                                   body  \\\n",
       "4336  Wrost productWithin 10 days noticed defectedBa...   \n",
       "1716  The worst product in the category. I don't kno...   \n",
       "4172  I bought this product on Mar since 2 months Ea...   \n",
       "3945  Twice the product after a months use started s...   \n",
       "4095  I bought 2 same earphones and both of those go...   \n",
       "4182  Worst quality have been using for 9 months and...   \n",
       "4739  This is  worst product and don't buy it. Withi...   \n",
       "3981  Within 6 months of my purchase the head phone ...   \n",
       "2208  I don't like these Bluetooth because they are ...   \n",
       "2953  Totally worst product...i bought on 28 dec 202...   \n",
       "\n",
       "                                           clean_review  af_sentiment  \\\n",
       "4336  wrost productwithin day noticed defectedbatter...          -1.0   \n",
       "1716  worst product category know whether rec defect...          -3.0   \n",
       "4172  bought product mar since month earphone death ...          -5.0   \n",
       "3945  twice product month use started showing proble...          -4.0   \n",
       "4095  bought earphone got stopped working year produ...          -3.0   \n",
       "4182  worst quality using month th time one side sto...          -2.0   \n",
       "4739  worst product buy within month faced speaker i...          -9.0   \n",
       "3981  within month purchase head phone stopped worki...           1.0   \n",
       "2208  like bluetooth creating problem automatically ...          -8.0   \n",
       "2953  totally worst product bought dec nd th feb alm...          -3.0   \n",
       "\n",
       "      tb_polarity  \n",
       "4336         -1.0  \n",
       "1716         -1.0  \n",
       "4172         -1.0  \n",
       "3945         -1.0  \n",
       "4095         -1.0  \n",
       "4182         -1.0  \n",
       "4739         -1.0  \n",
       "3981         -1.0  \n",
       "2208         -1.0  \n",
       "2953         -1.0  "
      ]
     },
     "execution_count": 30,
     "metadata": {},
     "output_type": "execute_result"
    }
   ],
   "source": [
    "### Sorting negative top 10 Reviews based on Polarity\n",
    "\n",
    "\n",
    "amazon.sort_values(by='tb_polarity', ascending=True)[:10]"
   ]
  },
  {
   "cell_type": "code",
   "execution_count": null,
   "id": "9799038b",
   "metadata": {},
   "outputs": [],
   "source": []
  },
  {
   "cell_type": "code",
   "execution_count": 31,
   "id": "8a0b7e82",
   "metadata": {},
   "outputs": [],
   "source": [
    "# Binary Classification\n",
    "\n",
    "def class_pol(polarity):\n",
    "    \n",
    "    if polarity >=0:\n",
    "        return 'Positive'\n",
    "    else:\n",
    "        return 'Negative'"
   ]
  },
  {
   "cell_type": "code",
   "execution_count": 32,
   "id": "b74e255b",
   "metadata": {},
   "outputs": [],
   "source": [
    "amazon['Bi_Sentiment'] = amazon['tb_polarity'].apply(class_pol)"
   ]
  },
  {
   "cell_type": "code",
   "execution_count": 33,
   "id": "c925bc00",
   "metadata": {},
   "outputs": [
    {
     "data": {
      "text/html": [
       "<div>\n",
       "<style scoped>\n",
       "    .dataframe tbody tr th:only-of-type {\n",
       "        vertical-align: middle;\n",
       "    }\n",
       "\n",
       "    .dataframe tbody tr th {\n",
       "        vertical-align: top;\n",
       "    }\n",
       "\n",
       "    .dataframe thead th {\n",
       "        text-align: right;\n",
       "    }\n",
       "</style>\n",
       "<table border=\"1\" class=\"dataframe\">\n",
       "  <thead>\n",
       "    <tr style=\"text-align: right;\">\n",
       "      <th></th>\n",
       "      <th>title</th>\n",
       "      <th>rating</th>\n",
       "      <th>body</th>\n",
       "      <th>clean_review</th>\n",
       "      <th>af_sentiment</th>\n",
       "      <th>tb_polarity</th>\n",
       "      <th>Bi_Sentiment</th>\n",
       "    </tr>\n",
       "  </thead>\n",
       "  <tbody>\n",
       "    <tr>\n",
       "      <th>0</th>\n",
       "      <td>Unreliable earphones with high cost</td>\n",
       "      <td>1.0</td>\n",
       "      <td>This  earphones are unreliable, i bought it be...</td>\n",
       "      <td>earphone unreliable bought day meanwhile right...</td>\n",
       "      <td>10.0</td>\n",
       "      <td>0.377</td>\n",
       "      <td>Positive</td>\n",
       "    </tr>\n",
       "    <tr>\n",
       "      <th>1</th>\n",
       "      <td>Honest review of an edm music lover</td>\n",
       "      <td>3.0</td>\n",
       "      <td>No doubt it has a great bass and to a great ex...</td>\n",
       "      <td>doubt great bass great extent noise cancellati...</td>\n",
       "      <td>0.0</td>\n",
       "      <td>0.061</td>\n",
       "      <td>Positive</td>\n",
       "    </tr>\n",
       "    <tr>\n",
       "      <th>2</th>\n",
       "      <td>Really good and durable.</td>\n",
       "      <td>4.0</td>\n",
       "      <td>i bought itfor 999,I purchased it second time,...</td>\n",
       "      <td>bought itfor purchased second time gifted firs...</td>\n",
       "      <td>22.0</td>\n",
       "      <td>0.536</td>\n",
       "      <td>Positive</td>\n",
       "    </tr>\n",
       "    <tr>\n",
       "      <th>3</th>\n",
       "      <td>A good earphone but with some issues, read thi...</td>\n",
       "      <td>4.0</td>\n",
       "      <td>I'll get straight to the pros and cons of Boat...</td>\n",
       "      <td>get straight pro con boat rockerz pro bluetoot...</td>\n",
       "      <td>34.0</td>\n",
       "      <td>0.134</td>\n",
       "      <td>Positive</td>\n",
       "    </tr>\n",
       "    <tr>\n",
       "      <th>4</th>\n",
       "      <td>Charging port not working</td>\n",
       "      <td>1.0</td>\n",
       "      <td>After 11 days, the charging port isn't working...</td>\n",
       "      <td>day charging port working even return wat know...</td>\n",
       "      <td>1.0</td>\n",
       "      <td>0.136</td>\n",
       "      <td>Positive</td>\n",
       "    </tr>\n",
       "    <tr>\n",
       "      <th>5</th>\n",
       "      <td>धांसू Bass &amp; जबरदस्त Battery.</td>\n",
       "      <td>4.0</td>\n",
       "      <td>Hey Guys,,,,,,, it's Value for money if you ge...</td>\n",
       "      <td>hey guy value money get bass quite good thumpi...</td>\n",
       "      <td>17.0</td>\n",
       "      <td>0.140</td>\n",
       "      <td>Positive</td>\n",
       "    </tr>\n",
       "    <tr>\n",
       "      <th>6</th>\n",
       "      <td>Just Awesome Wireless Headphone under 1000...😉</td>\n",
       "      <td>5.0</td>\n",
       "      <td>Its Awesome... Good sound quality &amp; 8-9 hrs ba...</td>\n",
       "      <td>awesome good sound quality hr battery life waw...</td>\n",
       "      <td>6.0</td>\n",
       "      <td>0.250</td>\n",
       "      <td>Positive</td>\n",
       "    </tr>\n",
       "    <tr>\n",
       "      <th>7</th>\n",
       "      <td>stopped working in just 14 days</td>\n",
       "      <td>1.0</td>\n",
       "      <td>Its sound quality is adorable. overall it was ...</td>\n",
       "      <td>sound quality adorable overall good week stopp...</td>\n",
       "      <td>7.0</td>\n",
       "      <td>0.400</td>\n",
       "      <td>Positive</td>\n",
       "    </tr>\n",
       "    <tr>\n",
       "      <th>8</th>\n",
       "      <td>Great sound with worst mic.</td>\n",
       "      <td>3.0</td>\n",
       "      <td>After one month usage reviewing this .Pros-1- ...</td>\n",
       "      <td>one month usage reviewing pro sound quality de...</td>\n",
       "      <td>-1.0</td>\n",
       "      <td>-0.067</td>\n",
       "      <td>Negative</td>\n",
       "    </tr>\n",
       "    <tr>\n",
       "      <th>9</th>\n",
       "      <td>Very very bad Durabity</td>\n",
       "      <td>1.0</td>\n",
       "      <td>The product durability is 1 month..I just lost...</td>\n",
       "      <td>product durability month lost bill detail cant...</td>\n",
       "      <td>-4.0</td>\n",
       "      <td>-0.300</td>\n",
       "      <td>Negative</td>\n",
       "    </tr>\n",
       "  </tbody>\n",
       "</table>\n",
       "</div>"
      ],
      "text/plain": [
       "                                               title  rating  \\\n",
       "0                Unreliable earphones with high cost     1.0   \n",
       "1                Honest review of an edm music lover     3.0   \n",
       "2                           Really good and durable.     4.0   \n",
       "3  A good earphone but with some issues, read thi...     4.0   \n",
       "4                          Charging port not working     1.0   \n",
       "5                      धांसू Bass & जबरदस्त Battery.     4.0   \n",
       "6     Just Awesome Wireless Headphone under 1000...😉     5.0   \n",
       "7                    stopped working in just 14 days     1.0   \n",
       "8                        Great sound with worst mic.     3.0   \n",
       "9                             Very very bad Durabity     1.0   \n",
       "\n",
       "                                                body  \\\n",
       "0  This  earphones are unreliable, i bought it be...   \n",
       "1  No doubt it has a great bass and to a great ex...   \n",
       "2  i bought itfor 999,I purchased it second time,...   \n",
       "3  I'll get straight to the pros and cons of Boat...   \n",
       "4  After 11 days, the charging port isn't working...   \n",
       "5  Hey Guys,,,,,,, it's Value for money if you ge...   \n",
       "6  Its Awesome... Good sound quality & 8-9 hrs ba...   \n",
       "7  Its sound quality is adorable. overall it was ...   \n",
       "8  After one month usage reviewing this .Pros-1- ...   \n",
       "9  The product durability is 1 month..I just lost...   \n",
       "\n",
       "                                        clean_review  af_sentiment  \\\n",
       "0  earphone unreliable bought day meanwhile right...          10.0   \n",
       "1  doubt great bass great extent noise cancellati...           0.0   \n",
       "2  bought itfor purchased second time gifted firs...          22.0   \n",
       "3  get straight pro con boat rockerz pro bluetoot...          34.0   \n",
       "4  day charging port working even return wat know...           1.0   \n",
       "5  hey guy value money get bass quite good thumpi...          17.0   \n",
       "6  awesome good sound quality hr battery life waw...           6.0   \n",
       "7  sound quality adorable overall good week stopp...           7.0   \n",
       "8  one month usage reviewing pro sound quality de...          -1.0   \n",
       "9  product durability month lost bill detail cant...          -4.0   \n",
       "\n",
       "   tb_polarity Bi_Sentiment  \n",
       "0        0.377     Positive  \n",
       "1        0.061     Positive  \n",
       "2        0.536     Positive  \n",
       "3        0.134     Positive  \n",
       "4        0.136     Positive  \n",
       "5        0.140     Positive  \n",
       "6        0.250     Positive  \n",
       "7        0.400     Positive  \n",
       "8       -0.067     Negative  \n",
       "9       -0.300     Negative  "
      ]
     },
     "execution_count": 33,
     "metadata": {},
     "output_type": "execute_result"
    }
   ],
   "source": [
    "amazon.head(10)"
   ]
  },
  {
   "cell_type": "code",
   "execution_count": null,
   "id": "747ed50f",
   "metadata": {},
   "outputs": [],
   "source": []
  },
  {
   "cell_type": "code",
   "execution_count": 35,
   "id": "2f1fa26a",
   "metadata": {},
   "outputs": [
    {
     "data": {
      "text/plain": [
       "(127, 7)"
      ]
     },
     "execution_count": 35,
     "metadata": {},
     "output_type": "execute_result"
    }
   ],
   "source": [
    "amazon[amazon['tb_polarity'] == 0].shape"
   ]
  },
  {
   "cell_type": "code",
   "execution_count": 36,
   "id": "00e11ccf",
   "metadata": {},
   "outputs": [
    {
     "data": {
      "text/plain": [
       "Positive    4151\n",
       "Negative     849\n",
       "Name: Bi_Sentiment, dtype: int64"
      ]
     },
     "execution_count": 36,
     "metadata": {},
     "output_type": "execute_result"
    }
   ],
   "source": [
    "amazon['Bi_Sentiment'].value_counts()"
   ]
  },
  {
   "cell_type": "code",
   "execution_count": null,
   "id": "e584f73c",
   "metadata": {},
   "outputs": [],
   "source": []
  },
  {
   "cell_type": "code",
   "execution_count": 37,
   "id": "d2b3e37e",
   "metadata": {},
   "outputs": [
    {
     "data": {
      "text/plain": [
       "<AxesSubplot:xlabel='Bi_Sentiment', ylabel='count'>"
      ]
     },
     "execution_count": 37,
     "metadata": {},
     "output_type": "execute_result"
    },
    {
     "data": {
      "image/png": "[encoded data removed]",
      "text/plain": [
       "<Figure size 1440x504 with 1 Axes>"
      ]
     },
     "metadata": {},
     "output_type": "display_data"
    }
   ],
   "source": [
    "plt.figure(figsize=(20,7))\n",
    "\n",
    "sns.countplot(amazon['Bi_Sentiment'])"
   ]
  },
  {
   "cell_type": "code",
   "execution_count": null,
   "id": "1347dfa7",
   "metadata": {},
   "outputs": [],
   "source": []
  },
  {
   "cell_type": "code",
   "execution_count": null,
   "id": "0e01cd54",
   "metadata": {},
   "outputs": [],
   "source": []
  },
  {
   "cell_type": "code",
   "execution_count": 38,
   "id": "f7c1f4fc",
   "metadata": {},
   "outputs": [],
   "source": [
    "# Multi Class Classification\n",
    "\n",
    "def class_polarity(polarity):\n",
    "    \n",
    "    if polarity < 0:\n",
    "        return 'Negative'\n",
    "    elif polarity < 0.25:\n",
    "        return 'Neutral'\n",
    "    else:\n",
    "        return 'Positive'"
   ]
  },
  {
   "cell_type": "code",
   "execution_count": 39,
   "id": "87b6760a",
   "metadata": {},
   "outputs": [],
   "source": [
    "amazon['Mul_Sentiment'] = amazon['tb_polarity'].apply(class_polarity)"
   ]
  },
  {
   "cell_type": "code",
   "execution_count": 40,
   "id": "19bd9293",
   "metadata": {},
   "outputs": [
    {
     "data": {
      "text/html": [
       "<div>\n",
       "<style scoped>\n",
       "    .dataframe tbody tr th:only-of-type {\n",
       "        vertical-align: middle;\n",
       "    }\n",
       "\n",
       "    .dataframe tbody tr th {\n",
       "        vertical-align: top;\n",
       "    }\n",
       "\n",
       "    .dataframe thead th {\n",
       "        text-align: right;\n",
       "    }\n",
       "</style>\n",
       "<table border=\"1\" class=\"dataframe\">\n",
       "  <thead>\n",
       "    <tr style=\"text-align: right;\">\n",
       "      <th></th>\n",
       "      <th>title</th>\n",
       "      <th>rating</th>\n",
       "      <th>body</th>\n",
       "      <th>clean_review</th>\n",
       "      <th>af_sentiment</th>\n",
       "      <th>tb_polarity</th>\n",
       "      <th>Bi_Sentiment</th>\n",
       "      <th>Mul_Sentiment</th>\n",
       "    </tr>\n",
       "  </thead>\n",
       "  <tbody>\n",
       "    <tr>\n",
       "      <th>0</th>\n",
       "      <td>Unreliable earphones with high cost</td>\n",
       "      <td>1.0</td>\n",
       "      <td>This  earphones are unreliable, i bought it be...</td>\n",
       "      <td>earphone unreliable bought day meanwhile right...</td>\n",
       "      <td>10.0</td>\n",
       "      <td>0.377</td>\n",
       "      <td>Positive</td>\n",
       "      <td>Positive</td>\n",
       "    </tr>\n",
       "    <tr>\n",
       "      <th>1</th>\n",
       "      <td>Honest review of an edm music lover</td>\n",
       "      <td>3.0</td>\n",
       "      <td>No doubt it has a great bass and to a great ex...</td>\n",
       "      <td>doubt great bass great extent noise cancellati...</td>\n",
       "      <td>0.0</td>\n",
       "      <td>0.061</td>\n",
       "      <td>Positive</td>\n",
       "      <td>Neutral</td>\n",
       "    </tr>\n",
       "    <tr>\n",
       "      <th>2</th>\n",
       "      <td>Really good and durable.</td>\n",
       "      <td>4.0</td>\n",
       "      <td>i bought itfor 999,I purchased it second time,...</td>\n",
       "      <td>bought itfor purchased second time gifted firs...</td>\n",
       "      <td>22.0</td>\n",
       "      <td>0.536</td>\n",
       "      <td>Positive</td>\n",
       "      <td>Positive</td>\n",
       "    </tr>\n",
       "    <tr>\n",
       "      <th>3</th>\n",
       "      <td>A good earphone but with some issues, read thi...</td>\n",
       "      <td>4.0</td>\n",
       "      <td>I'll get straight to the pros and cons of Boat...</td>\n",
       "      <td>get straight pro con boat rockerz pro bluetoot...</td>\n",
       "      <td>34.0</td>\n",
       "      <td>0.134</td>\n",
       "      <td>Positive</td>\n",
       "      <td>Neutral</td>\n",
       "    </tr>\n",
       "    <tr>\n",
       "      <th>4</th>\n",
       "      <td>Charging port not working</td>\n",
       "      <td>1.0</td>\n",
       "      <td>After 11 days, the charging port isn't working...</td>\n",
       "      <td>day charging port working even return wat know...</td>\n",
       "      <td>1.0</td>\n",
       "      <td>0.136</td>\n",
       "      <td>Positive</td>\n",
       "      <td>Neutral</td>\n",
       "    </tr>\n",
       "    <tr>\n",
       "      <th>5</th>\n",
       "      <td>धांसू Bass &amp; जबरदस्त Battery.</td>\n",
       "      <td>4.0</td>\n",
       "      <td>Hey Guys,,,,,,, it's Value for money if you ge...</td>\n",
       "      <td>hey guy value money get bass quite good thumpi...</td>\n",
       "      <td>17.0</td>\n",
       "      <td>0.140</td>\n",
       "      <td>Positive</td>\n",
       "      <td>Neutral</td>\n",
       "    </tr>\n",
       "    <tr>\n",
       "      <th>6</th>\n",
       "      <td>Just Awesome Wireless Headphone under 1000...😉</td>\n",
       "      <td>5.0</td>\n",
       "      <td>Its Awesome... Good sound quality &amp; 8-9 hrs ba...</td>\n",
       "      <td>awesome good sound quality hr battery life waw...</td>\n",
       "      <td>6.0</td>\n",
       "      <td>0.250</td>\n",
       "      <td>Positive</td>\n",
       "      <td>Positive</td>\n",
       "    </tr>\n",
       "    <tr>\n",
       "      <th>7</th>\n",
       "      <td>stopped working in just 14 days</td>\n",
       "      <td>1.0</td>\n",
       "      <td>Its sound quality is adorable. overall it was ...</td>\n",
       "      <td>sound quality adorable overall good week stopp...</td>\n",
       "      <td>7.0</td>\n",
       "      <td>0.400</td>\n",
       "      <td>Positive</td>\n",
       "      <td>Positive</td>\n",
       "    </tr>\n",
       "    <tr>\n",
       "      <th>8</th>\n",
       "      <td>Great sound with worst mic.</td>\n",
       "      <td>3.0</td>\n",
       "      <td>After one month usage reviewing this .Pros-1- ...</td>\n",
       "      <td>one month usage reviewing pro sound quality de...</td>\n",
       "      <td>-1.0</td>\n",
       "      <td>-0.067</td>\n",
       "      <td>Negative</td>\n",
       "      <td>Negative</td>\n",
       "    </tr>\n",
       "    <tr>\n",
       "      <th>9</th>\n",
       "      <td>Very very bad Durabity</td>\n",
       "      <td>1.0</td>\n",
       "      <td>The product durability is 1 month..I just lost...</td>\n",
       "      <td>product durability month lost bill detail cant...</td>\n",
       "      <td>-4.0</td>\n",
       "      <td>-0.300</td>\n",
       "      <td>Negative</td>\n",
       "      <td>Negative</td>\n",
       "    </tr>\n",
       "  </tbody>\n",
       "</table>\n",
       "</div>"
      ],
      "text/plain": [
       "                                               title  rating  \\\n",
       "0                Unreliable earphones with high cost     1.0   \n",
       "1                Honest review of an edm music lover     3.0   \n",
       "2                           Really good and durable.     4.0   \n",
       "3  A good earphone but with some issues, read thi...     4.0   \n",
       "4                          Charging port not working     1.0   \n",
       "5                      धांसू Bass & जबरदस्त Battery.     4.0   \n",
       "6     Just Awesome Wireless Headphone under 1000...😉     5.0   \n",
       "7                    stopped working in just 14 days     1.0   \n",
       "8                        Great sound with worst mic.     3.0   \n",
       "9                             Very very bad Durabity     1.0   \n",
       "\n",
       "                                                body  \\\n",
       "0  This  earphones are unreliable, i bought it be...   \n",
       "1  No doubt it has a great bass and to a great ex...   \n",
       "2  i bought itfor 999,I purchased it second time,...   \n",
       "3  I'll get straight to the pros and cons of Boat...   \n",
       "4  After 11 days, the charging port isn't working...   \n",
       "5  Hey Guys,,,,,,, it's Value for money if you ge...   \n",
       "6  Its Awesome... Good sound quality & 8-9 hrs ba...   \n",
       "7  Its sound quality is adorable. overall it was ...   \n",
       "8  After one month usage reviewing this .Pros-1- ...   \n",
       "9  The product durability is 1 month..I just lost...   \n",
       "\n",
       "                                        clean_review  af_sentiment  \\\n",
       "0  earphone unreliable bought day meanwhile right...          10.0   \n",
       "1  doubt great bass great extent noise cancellati...           0.0   \n",
       "2  bought itfor purchased second time gifted firs...          22.0   \n",
       "3  get straight pro con boat rockerz pro bluetoot...          34.0   \n",
       "4  day charging port working even return wat know...           1.0   \n",
       "5  hey guy value money get bass quite good thumpi...          17.0   \n",
       "6  awesome good sound quality hr battery life waw...           6.0   \n",
       "7  sound quality adorable overall good week stopp...           7.0   \n",
       "8  one month usage reviewing pro sound quality de...          -1.0   \n",
       "9  product durability month lost bill detail cant...          -4.0   \n",
       "\n",
       "   tb_polarity Bi_Sentiment Mul_Sentiment  \n",
       "0        0.377     Positive      Positive  \n",
       "1        0.061     Positive       Neutral  \n",
       "2        0.536     Positive      Positive  \n",
       "3        0.134     Positive       Neutral  \n",
       "4        0.136     Positive       Neutral  \n",
       "5        0.140     Positive       Neutral  \n",
       "6        0.250     Positive      Positive  \n",
       "7        0.400     Positive      Positive  \n",
       "8       -0.067     Negative      Negative  \n",
       "9       -0.300     Negative      Negative  "
      ]
     },
     "execution_count": 40,
     "metadata": {},
     "output_type": "execute_result"
    }
   ],
   "source": [
    "amazon.head(10)"
   ]
  },
  {
   "cell_type": "code",
   "execution_count": 41,
   "id": "9ae0a104",
   "metadata": {},
   "outputs": [
    {
     "data": {
      "text/plain": [
       "Positive    2273\n",
       "Neutral     1878\n",
       "Negative     849\n",
       "Name: Mul_Sentiment, dtype: int64"
      ]
     },
     "execution_count": 41,
     "metadata": {},
     "output_type": "execute_result"
    }
   ],
   "source": [
    "amazon['Mul_Sentiment'].value_counts()"
   ]
  },
  {
   "cell_type": "code",
   "execution_count": 42,
   "id": "fe5162ed",
   "metadata": {},
   "outputs": [
    {
     "data": {
      "text/plain": [
       "<AxesSubplot:xlabel='Mul_Sentiment', ylabel='count'>"
      ]
     },
     "execution_count": 42,
     "metadata": {},
     "output_type": "execute_result"
    },
    {
     "data": {
      "image/png": "[encoded data removed]",
      "text/plain": [
       "<Figure size 1440x504 with 1 Axes>"
      ]
     },
     "metadata": {},
     "output_type": "display_data"
    }
   ],
   "source": [
    "plt.figure(figsize=(20,7))\n",
    "\n",
    "sns.countplot(amazon['Mul_Sentiment'])"
   ]
  },
  {
   "cell_type": "code",
   "execution_count": null,
   "id": "4c067593",
   "metadata": {},
   "outputs": [],
   "source": []
  },
  {
   "cell_type": "code",
   "execution_count": 43,
   "id": "0382e489",
   "metadata": {},
   "outputs": [],
   "source": [
    "amazon.to_csv('Sentiment_data.csv', index= False)"
   ]
  },
  {
   "cell_type": "code",
   "execution_count": null,
   "id": "1f59d4b3",
   "metadata": {},
   "outputs": [],
   "source": []
  },
  {
   "cell_type": "code",
   "execution_count": null,
   "id": "9f5361f1",
   "metadata": {},
   "outputs": [],
   "source": []
  },
  {
   "cell_type": "code",
   "execution_count": null,
   "id": "1e73314b",
   "metadata": {},
   "outputs": [],
   "source": []
  },
  {
   "cell_type": "code",
   "execution_count": null,
   "id": "23c1d907",
   "metadata": {},
   "outputs": [],
   "source": []
  }
 ],
 "metadata": {
  "kernelspec": {
   "display_name": "Python 3 (ipykernel)",
   "language": "python",
   "name": "python3"
  },
  "language_info": {
   "codemirror_mode": {
    "name": "ipython",
    "version": 3
   },
   "file_extension": ".py",
   "mimetype": "text/x-python",
   "name": "python",
   "nbconvert_exporter": "python",
   "pygments_lexer": "ipython3",
   "version": "3.9.7"
  },
  "varInspector": {
   "cols": {
    "lenName": 16,
    "lenType": 16,
    "lenVar": 40
   },
   "kernels_config": {
    "python": {
     "delete_cmd_postfix": "",
     "delete_cmd_prefix": "del ",
     "library": "var_list.py",
     "varRefreshCmd": "print(var_dic_list())"
    },
    "r": {
     "delete_cmd_postfix": ") ",
     "delete_cmd_prefix": "rm(",
     "library": "var_list.r",
     "varRefreshCmd": "cat(var_dic_list()) "
    }
   },
   "types_to_exclude": [
    "module",
    "function",
    "builtin_function_or_method",
    "instance",
    "_Feature"
   ],
   "window_display": false
  }
 },
 "nbformat": 4,
 "nbformat_minor": 5
}
