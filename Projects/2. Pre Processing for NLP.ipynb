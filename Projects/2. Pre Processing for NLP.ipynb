{
 "cells": [
  {
   "cell_type": "code",
   "execution_count": 1,
   "id": "f17f5170",
   "metadata": {},
   "outputs": [],
   "source": [
    "import pandas as pd\n",
    "import numpy as np\n",
    "\n",
    "import matplotlib.pyplot as plt\n",
    "%matplotlib inline\n",
    "\n",
    "import seaborn as sns\n",
    "sns.set()"
   ]
  },
  {
   "cell_type": "code",
   "execution_count": 2,
   "id": "f2036fc3",
   "metadata": {},
   "outputs": [],
   "source": [
    "# Data Preprocessing\n",
    "\n",
    "# Regular Expression\n",
    "import re\n",
    "\n",
    "# Punctuation\n",
    "import string\n",
    "\n",
    "# Natural Language Tool Kit\n",
    "import nltk\n",
    "\n",
    "# Tokenization\n",
    "from nltk.tokenize import sent_tokenize, word_tokenize\n",
    "\n",
    "# Stop words\n",
    "from nltk.corpus import stopwords\n",
    "\n",
    "# Stemming\n",
    "from nltk.stem import PorterStemmer \n",
    "\n",
    "# Lemmatizing\n",
    "from nltk.stem import wordnet\n",
    "from nltk.stem.wordnet import WordNetLemmatizer"
   ]
  },
  {
   "cell_type": "code",
   "execution_count": null,
   "id": "574146ab",
   "metadata": {},
   "outputs": [],
   "source": []
  },
  {
   "cell_type": "code",
   "execution_count": 3,
   "id": "16aad824",
   "metadata": {},
   "outputs": [
    {
     "data": {
      "text/html": [
       "<div>\n",
       "<style scoped>\n",
       "    .dataframe tbody tr th:only-of-type {\n",
       "        vertical-align: middle;\n",
       "    }\n",
       "\n",
       "    .dataframe tbody tr th {\n",
       "        vertical-align: top;\n",
       "    }\n",
       "\n",
       "    .dataframe thead th {\n",
       "        text-align: right;\n",
       "    }\n",
       "</style>\n",
       "<table border=\"1\" class=\"dataframe\">\n",
       "  <thead>\n",
       "    <tr style=\"text-align: right;\">\n",
       "      <th></th>\n",
       "      <th>title</th>\n",
       "      <th>rating</th>\n",
       "      <th>body</th>\n",
       "    </tr>\n",
       "  </thead>\n",
       "  <tbody>\n",
       "    <tr>\n",
       "      <th>0</th>\n",
       "      <td>Unreliable earphones with high cost</td>\n",
       "      <td>1.0</td>\n",
       "      <td>This  earphones are unreliable, i bought it be...</td>\n",
       "    </tr>\n",
       "    <tr>\n",
       "      <th>1</th>\n",
       "      <td>Honest review of an edm music lover</td>\n",
       "      <td>3.0</td>\n",
       "      <td>No doubt it has a great bass and to a great ex...</td>\n",
       "    </tr>\n",
       "    <tr>\n",
       "      <th>2</th>\n",
       "      <td>Really good and durable.</td>\n",
       "      <td>4.0</td>\n",
       "      <td>i bought itfor 999,I purchased it second time,...</td>\n",
       "    </tr>\n",
       "    <tr>\n",
       "      <th>3</th>\n",
       "      <td>A good earphone but with some issues, read thi...</td>\n",
       "      <td>4.0</td>\n",
       "      <td>I'll get straight to the pros and cons of Boat...</td>\n",
       "    </tr>\n",
       "    <tr>\n",
       "      <th>4</th>\n",
       "      <td>Charging port not working</td>\n",
       "      <td>1.0</td>\n",
       "      <td>After 11 days, the charging port isn't working...</td>\n",
       "    </tr>\n",
       "  </tbody>\n",
       "</table>\n",
       "</div>"
      ],
      "text/plain": [
       "                                               title  rating  \\\n",
       "0                Unreliable earphones with high cost     1.0   \n",
       "1                Honest review of an edm music lover     3.0   \n",
       "2                           Really good and durable.     4.0   \n",
       "3  A good earphone but with some issues, read thi...     4.0   \n",
       "4                          Charging port not working     1.0   \n",
       "\n",
       "                                                body  \n",
       "0  This  earphones are unreliable, i bought it be...  \n",
       "1  No doubt it has a great bass and to a great ex...  \n",
       "2  i bought itfor 999,I purchased it second time,...  \n",
       "3  I'll get straight to the pros and cons of Boat...  \n",
       "4  After 11 days, the charging port isn't working...  "
      ]
     },
     "execution_count": 3,
     "metadata": {},
     "output_type": "execute_result"
    }
   ],
   "source": [
    "amazon = pd.read_csv('Amazon_Headphones_Review.csv')\n",
    "amazon.head()"
   ]
  },
  {
   "cell_type": "code",
   "execution_count": 4,
   "id": "261a2dfe",
   "metadata": {},
   "outputs": [],
   "source": [
    "ps = PorterStemmer()\n",
    "\n",
    "lm = WordNetLemmatizer()"
   ]
  },
  {
   "cell_type": "code",
   "execution_count": 15,
   "id": "6e1aefd2",
   "metadata": {},
   "outputs": [],
   "source": [
    "def preprocess(review):\n",
    "    \n",
    "    review = re.sub('[^a-zA-Z]',' ',review)\n",
    "    \n",
    "    review = review.lower()\n",
    "    \n",
    "    review = word_tokenize(review)\n",
    "    \n",
    "    review = [word for word in review if word not in stopwords.words('english')]\n",
    "    \n",
    "    review = [lm.lemmatize(word) for word in review]\n",
    "    \n",
    "    review = ' '.join(review)\n",
    "    \n",
    "    return review"
   ]
  },
  {
   "cell_type": "code",
   "execution_count": null,
   "id": "5117410d",
   "metadata": {},
   "outputs": [],
   "source": []
  },
  {
   "cell_type": "code",
   "execution_count": 17,
   "id": "b16c40b4",
   "metadata": {},
   "outputs": [],
   "source": [
    "amazon['clean_review'] = amazon['body'].apply(preprocess)"
   ]
  },
  {
   "cell_type": "code",
   "execution_count": 18,
   "id": "4a5b2bed",
   "metadata": {},
   "outputs": [
    {
     "data": {
      "text/html": [
       "<div>\n",
       "<style scoped>\n",
       "    .dataframe tbody tr th:only-of-type {\n",
       "        vertical-align: middle;\n",
       "    }\n",
       "\n",
       "    .dataframe tbody tr th {\n",
       "        vertical-align: top;\n",
       "    }\n",
       "\n",
       "    .dataframe thead th {\n",
       "        text-align: right;\n",
       "    }\n",
       "</style>\n",
       "<table border=\"1\" class=\"dataframe\">\n",
       "  <thead>\n",
       "    <tr style=\"text-align: right;\">\n",
       "      <th></th>\n",
       "      <th>title</th>\n",
       "      <th>rating</th>\n",
       "      <th>body</th>\n",
       "      <th>clean_review</th>\n",
       "    </tr>\n",
       "  </thead>\n",
       "  <tbody>\n",
       "    <tr>\n",
       "      <th>0</th>\n",
       "      <td>Unreliable earphones with high cost</td>\n",
       "      <td>1.0</td>\n",
       "      <td>This  earphones are unreliable, i bought it be...</td>\n",
       "      <td>earphone unreliable bought day meanwhile right...</td>\n",
       "    </tr>\n",
       "    <tr>\n",
       "      <th>1</th>\n",
       "      <td>Honest review of an edm music lover</td>\n",
       "      <td>3.0</td>\n",
       "      <td>No doubt it has a great bass and to a great ex...</td>\n",
       "      <td>doubt great bass great extent noise cancellati...</td>\n",
       "    </tr>\n",
       "    <tr>\n",
       "      <th>2</th>\n",
       "      <td>Really good and durable.</td>\n",
       "      <td>4.0</td>\n",
       "      <td>i bought itfor 999,I purchased it second time,...</td>\n",
       "      <td>bought itfor purchased second time gifted firs...</td>\n",
       "    </tr>\n",
       "    <tr>\n",
       "      <th>3</th>\n",
       "      <td>A good earphone but with some issues, read thi...</td>\n",
       "      <td>4.0</td>\n",
       "      <td>I'll get straight to the pros and cons of Boat...</td>\n",
       "      <td>get straight pro con boat rockerz pro bluetoot...</td>\n",
       "    </tr>\n",
       "    <tr>\n",
       "      <th>4</th>\n",
       "      <td>Charging port not working</td>\n",
       "      <td>1.0</td>\n",
       "      <td>After 11 days, the charging port isn't working...</td>\n",
       "      <td>day charging port working even return wat know...</td>\n",
       "    </tr>\n",
       "  </tbody>\n",
       "</table>\n",
       "</div>"
      ],
      "text/plain": [
       "                                               title  rating  \\\n",
       "0                Unreliable earphones with high cost     1.0   \n",
       "1                Honest review of an edm music lover     3.0   \n",
       "2                           Really good and durable.     4.0   \n",
       "3  A good earphone but with some issues, read thi...     4.0   \n",
       "4                          Charging port not working     1.0   \n",
       "\n",
       "                                                body  \\\n",
       "0  This  earphones are unreliable, i bought it be...   \n",
       "1  No doubt it has a great bass and to a great ex...   \n",
       "2  i bought itfor 999,I purchased it second time,...   \n",
       "3  I'll get straight to the pros and cons of Boat...   \n",
       "4  After 11 days, the charging port isn't working...   \n",
       "\n",
       "                                        clean_review  \n",
       "0  earphone unreliable bought day meanwhile right...  \n",
       "1  doubt great bass great extent noise cancellati...  \n",
       "2  bought itfor purchased second time gifted firs...  \n",
       "3  get straight pro con boat rockerz pro bluetoot...  \n",
       "4  day charging port working even return wat know...  "
      ]
     },
     "execution_count": 18,
     "metadata": {},
     "output_type": "execute_result"
    }
   ],
   "source": [
    "amazon.head()"
   ]
  },
  {
   "cell_type": "code",
   "execution_count": 20,
   "id": "c76711de",
   "metadata": {},
   "outputs": [
    {
     "data": {
      "text/plain": [
       "dtype('O')"
      ]
     },
     "execution_count": 20,
     "metadata": {},
     "output_type": "execute_result"
    }
   ],
   "source": [
    "amazon['clean_review'].dtype"
   ]
  },
  {
   "cell_type": "code",
   "execution_count": 19,
   "id": "07084f08",
   "metadata": {},
   "outputs": [],
   "source": [
    "amazon.to_csv('Amazon_Review_CleanData.csv',index=False)"
   ]
  },
  {
   "cell_type": "code",
   "execution_count": null,
   "id": "522368b1",
   "metadata": {},
   "outputs": [],
   "source": []
  },
  {
   "cell_type": "code",
   "execution_count": null,
   "id": "3c93617c",
   "metadata": {},
   "outputs": [],
   "source": []
  },
  {
   "cell_type": "code",
   "execution_count": null,
   "id": "5b807ee6",
   "metadata": {},
   "outputs": [],
   "source": []
  },
  {
   "cell_type": "code",
   "execution_count": null,
   "id": "a04e8cc9",
   "metadata": {},
   "outputs": [],
   "source": []
  },
  {
   "cell_type": "code",
   "execution_count": null,
   "id": "e61642be",
   "metadata": {},
   "outputs": [],
   "source": []
  },
  {
   "cell_type": "code",
   "execution_count": null,
   "id": "2baaa931",
   "metadata": {},
   "outputs": [],
   "source": []
  },
  {
   "cell_type": "code",
   "execution_count": null,
   "id": "e538f27e",
   "metadata": {},
   "outputs": [],
   "source": []
  },
  {
   "cell_type": "code",
   "execution_count": null,
   "id": "e154b64d",
   "metadata": {},
   "outputs": [],
   "source": []
  },
  {
   "cell_type": "code",
   "execution_count": null,
   "id": "2b20cb42",
   "metadata": {},
   "outputs": [],
   "source": []
  },
  {
   "cell_type": "code",
   "execution_count": null,
   "id": "ad6bebb7",
   "metadata": {},
   "outputs": [],
   "source": []
  },
  {
   "cell_type": "code",
   "execution_count": null,
   "id": "7940bd7e",
   "metadata": {},
   "outputs": [],
   "source": []
  },
  {
   "cell_type": "code",
   "execution_count": null,
   "id": "905aaa73",
   "metadata": {},
   "outputs": [],
   "source": []
  }
 ],
 "metadata": {
  "kernelspec": {
   "display_name": "Python 3 (ipykernel)",
   "language": "python",
   "name": "python3"
  },
  "language_info": {
   "codemirror_mode": {
    "name": "ipython",
    "version": 3
   },
   "file_extension": ".py",
   "mimetype": "text/x-python",
   "name": "python",
   "nbconvert_exporter": "python",
   "pygments_lexer": "ipython3",
   "version": "3.9.7"
  },
  "varInspector": {
   "cols": {
    "lenName": 16,
    "lenType": 16,
    "lenVar": 40
   },
   "kernels_config": {
    "python": {
     "delete_cmd_postfix": "",
     "delete_cmd_prefix": "del ",
     "library": "var_list.py",
     "varRefreshCmd": "print(var_dic_list())"
    },
    "r": {
     "delete_cmd_postfix": ") ",
     "delete_cmd_prefix": "rm(",
     "library": "var_list.r",
     "varRefreshCmd": "cat(var_dic_list()) "
    }
   },
   "types_to_exclude": [
    "module",
    "function",
    "builtin_function_or_method",
    "instance",
    "_Feature"
   ],
   "window_display": false
  }
 },
 "nbformat": 4,
 "nbformat_minor": 5
}
